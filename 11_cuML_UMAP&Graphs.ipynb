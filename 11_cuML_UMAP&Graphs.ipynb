{
  "nbformat": 4,
  "nbformat_minor": 0,
  "metadata": {
    "colab": {
      "name": "11_cuML_UMAP&Graphs.ipynb",
      "provenance": [],
      "collapsed_sections": [],
      "toc_visible": true
    },
    "kernelspec": {
      "name": "python3",
      "display_name": "Python 3"
    },
    "accelerator": "GPU"
  },
  "cells": [
    {
      "cell_type": "code",
      "metadata": {
        "id": "f8K3YYGEuNPp",
        "colab_type": "code",
        "outputId": "71bbe36e-49cf-493e-c01b-5c8c8c9ae97d",
        "colab": {
          "base_uri": "https://localhost:8080/",
          "height": 302
        }
      },
      "source": [
        "!nvidia-smi"
      ],
      "execution_count": 0,
      "outputs": [
        {
          "output_type": "stream",
          "text": [
            "Sun Jan 26 07:22:00 2020       \n",
            "+-----------------------------------------------------------------------------+\n",
            "| NVIDIA-SMI 440.44       Driver Version: 418.67       CUDA Version: 10.1     |\n",
            "|-------------------------------+----------------------+----------------------+\n",
            "| GPU  Name        Persistence-M| Bus-Id        Disp.A | Volatile Uncorr. ECC |\n",
            "| Fan  Temp  Perf  Pwr:Usage/Cap|         Memory-Usage | GPU-Util  Compute M. |\n",
            "|===============================+======================+======================|\n",
            "|   0  Tesla T4            Off  | 00000000:00:04.0 Off |                    0 |\n",
            "| N/A   47C    P8    10W /  70W |      0MiB / 15079MiB |      0%      Default |\n",
            "+-------------------------------+----------------------+----------------------+\n",
            "                                                                               \n",
            "+-----------------------------------------------------------------------------+\n",
            "| Processes:                                                       GPU Memory |\n",
            "|  GPU       PID   Type   Process name                             Usage      |\n",
            "|=============================================================================|\n",
            "|  No running processes found                                                 |\n",
            "+-----------------------------------------------------------------------------+\n"
          ],
          "name": "stdout"
        }
      ]
    },
    {
      "cell_type": "code",
      "metadata": {
        "id": "nZcru3jhumuL",
        "colab_type": "code",
        "outputId": "12192b7f-177c-4478-f6ce-99a3e5ca6e05",
        "colab": {
          "base_uri": "https://localhost:8080/",
          "height": 34
        }
      },
      "source": [
        "import pynvml\n",
        "pynvml.nvmlInit()\n",
        "handle = pynvml.nvmlDeviceGetHandleByIndex(0)\n",
        "device_name = pynvml.nvmlDeviceGetName(handle)\n",
        "if (device_name != b'Tesla T4') and (device_name != b'Tesla P100-PCIE-16GB'):\n",
        "  raise Exception(\"\"\"\n",
        "    Unfortunately this instance does not have a T4 or P100 GPU.\n",
        "    \n",
        "    Please make sure you've configured Colab to request a GPU instance type.\n",
        "    \n",
        "    Sometimes Colab allocates a Tesla K80 instead of a T4 or P100. Resetting the instance.\n",
        "If you get a K80 GPU, try Runtime -> Reset all runtimes...\n",
        "  \"\"\")\n",
        "else:\n",
        "  print(f'Yes, you got the right kind of GPU to work and it is a ({device_name}) GPU.')"
      ],
      "execution_count": 0,
      "outputs": [
        {
          "output_type": "stream",
          "text": [
            "Yes, you got the right kind of GPU to work and it is a (b'Tesla T4') GPU.\n"
          ],
          "name": "stdout"
        }
      ]
    },
    {
      "cell_type": "code",
      "metadata": {
        "id": "9sHMDlOyurX-",
        "colab_type": "code",
        "outputId": "fa3425d0-f469-444a-d928-b47bd54d259d",
        "colab": {
          "base_uri": "https://localhost:8080/",
          "height": 1000
        }
      },
      "source": [
        "!wget -nc https://github.com/rapidsai/notebooks-extended/raw/master/utils/rapids-colab.sh\n",
        "!bash rapids-colab.sh\n",
        "\n",
        "import sys, os\n",
        "\n",
        "sys.path.append('/usr/local/lib/python3.6/site-packages/')\n",
        "os.environ['NUMBAPRO_NVVM'] = '/usr/local/cuda/nvvm/lib64/libnvvm.so'\n",
        "os.environ['NUMBAPRO_LIBDEVICE'] = '/usr/local/cuda/nvvm/libdevice/'"
      ],
      "execution_count": 0,
      "outputs": [
        {
          "output_type": "stream",
          "text": [
            "--2020-01-26 07:22:27--  https://github.com/rapidsai/notebooks-extended/raw/master/utils/rapids-colab.sh\n",
            "Resolving github.com (github.com)... 192.30.253.113\n",
            "Connecting to github.com (github.com)|192.30.253.113|:443... connected.\n",
            "HTTP request sent, awaiting response... 301 Moved Permanently\n",
            "Location: https://github.com/rapidsai/notebooks-contrib/raw/master/utils/rapids-colab.sh [following]\n",
            "--2020-01-26 07:22:27--  https://github.com/rapidsai/notebooks-contrib/raw/master/utils/rapids-colab.sh\n",
            "Reusing existing connection to github.com:443.\n",
            "HTTP request sent, awaiting response... 302 Found\n",
            "Location: https://raw.githubusercontent.com/rapidsai/notebooks-contrib/master/utils/rapids-colab.sh [following]\n",
            "--2020-01-26 07:22:27--  https://raw.githubusercontent.com/rapidsai/notebooks-contrib/master/utils/rapids-colab.sh\n",
            "Resolving raw.githubusercontent.com (raw.githubusercontent.com)... 151.101.0.133, 151.101.64.133, 151.101.128.133, ...\n",
            "Connecting to raw.githubusercontent.com (raw.githubusercontent.com)|151.101.0.133|:443... connected.\n",
            "HTTP request sent, awaiting response... 200 OK\n",
            "Length: 5287 (5.2K) [text/plain]\n",
            "Saving to: ‘rapids-colab.sh’\n",
            "\n",
            "\rrapids-colab.sh       0%[                    ]       0  --.-KB/s               \rrapids-colab.sh     100%[===================>]   5.16K  --.-KB/s    in 0s      \n",
            "\n",
            "2020-01-26 07:22:27 (135 MB/s) - ‘rapids-colab.sh’ saved [5287/5287]\n",
            "\n",
            "PLEASE READ\n",
            "********************************************************************************************************\n",
            "Colab v0.11+ Migration Notice:\n",
            " \n",
            "There has been a NECESSARY Colab script code change for VERSION 0.11+ that MAY REQUIRE an update how you install RAPIDS into Colab!  \n",
            "Not all Colab notebooks are updated (like personal Colabs) and while the script will install RAPIDS correctly, \n",
            "a neccessary script to update pyarrow to v0.15.x to be compatible with RAPIDS v0.11+ may not run, and your RAPIDS instance\n",
            "will BREAK\n",
            " \n",
            "Please enter in the box your desired RAPIDS version (ex: '0.10' or '0.11', between 0.9 to 0.11, without the quotes) and hit Enter. \n",
            "0.10\n",
            "You may not have to change anything.  All versions of our script should work with this version of Colab\n",
            "--2020-01-26 07:22:35--  https://github.com/rapidsai/notebooks-contrib/raw/master/utils/env-check.py\n",
            "Resolving github.com (github.com)... 192.30.253.113\n",
            "Connecting to github.com (github.com)|192.30.253.113|:443... connected.\n",
            "HTTP request sent, awaiting response... 302 Found\n",
            "Location: https://raw.githubusercontent.com/rapidsai/notebooks-contrib/master/utils/env-check.py [following]\n",
            "--2020-01-26 07:22:35--  https://raw.githubusercontent.com/rapidsai/notebooks-contrib/master/utils/env-check.py\n",
            "Resolving raw.githubusercontent.com (raw.githubusercontent.com)... 151.101.0.133, 151.101.64.133, 151.101.128.133, ...\n",
            "Connecting to raw.githubusercontent.com (raw.githubusercontent.com)|151.101.0.133|:443... connected.\n",
            "HTTP request sent, awaiting response... 200 OK\n",
            "Length: 918 [text/plain]\n",
            "Saving to: ‘env-check.py’\n",
            "\n",
            "env-check.py        100%[===================>]     918  --.-KB/s    in 0s      \n",
            "\n",
            "2020-01-26 07:22:35 (254 MB/s) - ‘env-check.py’ saved [918/918]\n",
            "\n",
            "Checking for GPU type:\n",
            "***********************************************************************\n",
            "Woo! Your instance has the right kind of GPU, a 'Tesla T4'!\n",
            "***********************************************************************\n",
            "\n",
            "Removing conflicting packages, will replace with RAPIDS compatible versions\n",
            "Uninstalling xgboost-0.90:\n",
            "  Successfully uninstalled xgboost-0.90\n",
            "Uninstalling dask-2.9.1:\n",
            "  Successfully uninstalled dask-2.9.1\n",
            "Uninstalling distributed-1.25.3:\n",
            "  Successfully uninstalled distributed-1.25.3\n",
            "Installing conda\n",
            "--2020-01-26 07:22:45--  https://repo.continuum.io/miniconda/Miniconda3-4.5.4-Linux-x86_64.sh\n",
            "Resolving repo.continuum.io (repo.continuum.io)... 104.18.201.79, 104.18.200.79, 2606:4700::6812:c84f, ...\n",
            "Connecting to repo.continuum.io (repo.continuum.io)|104.18.201.79|:443... connected.\n",
            "HTTP request sent, awaiting response... 200 OK\n",
            "Length: 58468498 (56M) [application/x-sh]\n",
            "Saving to: ‘Miniconda3-4.5.4-Linux-x86_64.sh’\n",
            "\n",
            "Miniconda3-4.5.4-Li 100%[===================>]  55.76M   144MB/s    in 0.4s    \n",
            "\n",
            "2020-01-26 07:22:45 (144 MB/s) - ‘Miniconda3-4.5.4-Linux-x86_64.sh’ saved [58468498/58468498]\n",
            "\n",
            "PREFIX=/usr/local\n",
            "installing: python-3.6.5-hc3d631a_2 ...\n",
            "Python 3.6.5 :: Anaconda, Inc.\n",
            "installing: ca-certificates-2018.03.07-0 ...\n",
            "installing: conda-env-2.6.0-h36134e3_1 ...\n",
            "installing: libgcc-ng-7.2.0-hdf63c60_3 ...\n",
            "installing: libstdcxx-ng-7.2.0-hdf63c60_3 ...\n",
            "installing: libffi-3.2.1-hd88cf55_4 ...\n",
            "installing: ncurses-6.1-hf484d3e_0 ...\n",
            "installing: openssl-1.0.2o-h20670df_0 ...\n",
            "installing: tk-8.6.7-hc745277_3 ...\n",
            "installing: xz-5.2.4-h14c3975_4 ...\n",
            "installing: yaml-0.1.7-had09818_2 ...\n",
            "installing: zlib-1.2.11-ha838bed_2 ...\n",
            "installing: libedit-3.1.20170329-h6b74fdf_2 ...\n",
            "installing: readline-7.0-ha6073c6_4 ...\n",
            "installing: sqlite-3.23.1-he433501_0 ...\n",
            "installing: asn1crypto-0.24.0-py36_0 ...\n",
            "installing: certifi-2018.4.16-py36_0 ...\n",
            "installing: chardet-3.0.4-py36h0f667ec_1 ...\n",
            "installing: idna-2.6-py36h82fb2a8_1 ...\n",
            "installing: pycosat-0.6.3-py36h0a5515d_0 ...\n",
            "installing: pycparser-2.18-py36hf9f622e_1 ...\n",
            "installing: pysocks-1.6.8-py36_0 ...\n",
            "installing: ruamel_yaml-0.15.37-py36h14c3975_2 ...\n",
            "installing: six-1.11.0-py36h372c433_1 ...\n",
            "installing: cffi-1.11.5-py36h9745a5d_0 ...\n",
            "installing: setuptools-39.2.0-py36_0 ...\n",
            "installing: cryptography-2.2.2-py36h14c3975_0 ...\n",
            "installing: wheel-0.31.1-py36_0 ...\n",
            "installing: pip-10.0.1-py36_0 ...\n",
            "installing: pyopenssl-18.0.0-py36_0 ...\n",
            "installing: urllib3-1.22-py36hbe7ace6_0 ...\n",
            "installing: requests-2.18.4-py36he2e5f8d_1 ...\n",
            "installing: conda-4.5.4-py36_0 ...\n",
            "installation finished.\n",
            "WARNING:\n",
            "    You currently have a PYTHONPATH environment variable set. This may cause\n",
            "    unexpected behavior when running the Python interpreter in Miniconda3.\n",
            "    For best results, please verify that your PYTHONPATH only points to\n",
            "    directories of packages that are compatible with the Python interpreter\n",
            "    in Miniconda3: /usr/local\n",
            "Installing RAPIDS 0.10 packages from the stable release channel\n",
            "Please standby, this will take a few minutes...\n",
            "Solving environment: - \b\b\\ \b\b| \b\b/ \b\b- \b\b\\ \b\b| \b\b/ \b\b- \b\b\\ \b\b| \b\b/ \b\b- \b\b\\ \b\b| \b\b/ \b\b- \b\b\\ \b\b| \b\b/ \b\b- \b\b\\ \b\b| \b\b/ \b\b- \b\b\\ \b\b| \b\b/ \b\b- \b\b\\ \b\b| \b\b/ \b\b- \b\b\\ \b\b| \b\b/ \b\b- \b\b\\ \b\b| \b\b/ \b\b- \b\b\\ \b\b| \b\b/ \b\b- \b\b\\ \b\b| \b\b/ \b\b- \b\b\\ \b\b| \b\b/ \b\b- \b\b\\ \b\b| \b\b/ \b\b- \b\b\\ \b\b| \b\b/ \b\b- \b\b\\ \b\b| \b\b/ \b\b- \b\b\\ \b\b| \b\b/ \b\b- \b\b\\ \b\b| \b\b/ \b\b- \b\b\\ \b\b| \b\b/ \b\b- \b\b\\ \b\b| \b\b/ \b\b- \b\b\\ \b\b| \b\b/ \b\b- \b\b\\ \b\b| \b\b/ \b\b- \b\b\\ \b\b| \b\b/ \b\b- \b\b\\ \b\b| \b\b/ \b\b- \b\b\\ \b\b| \b\b/ \b\b- \b\b\\ \b\b| \b\b/ \b\b- \b\b\\ \b\b| \b\b/ \b\b- \b\b\\ \b\b| \b\b/ \b\b- \b\b\\ \b\b| \b\b/ \b\b- \b\b\\ \b\b| \b\b/ \b\b- \b\b\\ \b\b| \b\b/ \b\b- \b\b\\ \b\b| \b\b/ \b\b- \b\b\\ \b\b| \b\b/ \b\b- \b\b\\ \b\b| \b\b/ \b\b- \b\b\\ \b\b| \b\b/ \b\b- \b\b\\ \b\b| \b\b/ \b\b- \b\b\\ \b\b| \b\b/ \b\b- \b\b\\ \b\b| \b\b/ \b\b- \b\b\\ \b\b| \b\b/ \b\b- \b\b\\ \b\b| \b\b/ \b\b- \b\b\\ \b\b| \b\b/ \b\b- \b\b\\ \b\b| \b\b/ \b\b- \b\b\\ \b\b| \b\b/ \b\b- \b\b\\ \b\b| \b\b/ \b\b- \b\b\\ \b\b| \b\b/ \b\b- \b\b\\ \b\b| \b\b/ \b\b- \b\b\\ \b\b| \b\b/ \b\b- \b\b\\ \b\b| \b\b/ \b\b- \b\b\\ \b\b| \b\b/ \b\b- \b\b\\ \b\b| \b\b/ \b\b- \b\b\\ \b\b| \b\b/ \b\b- \b\b\\ \b\b| \b\b/ \b\b- \b\b\\ \b\b| \b\b/ \b\b- \b\b\\ \b\b| \b\b/ \b\b- \b\b\\ \b\b| \b\b/ \b\b- \b\b\\ \b\b| \b\b/ \b\b- \b\b\\ \b\b| \b\b/ \b\b- \b\b\\ \b\b| \b\b/ \b\b- \b\b\\ \b\b| \b\b/ \b\b- \b\b\\ \b\b| \b\b/ \b\b- \b\b\\ \b\b| \b\b/ \b\b- \b\b\\ \b\b| \b\b/ \b\b- \b\b\\ \b\b| \b\b/ \b\b- \b\b\\ \b\b| \b\b/ \b\b- \b\b\\ \b\b| \b\b/ \b\b- \b\b\\ \b\b| \b\b/ \b\b- \b\b\\ \b\b| \b\b/ \b\b- \b\b\\ \b\b| \b\b/ \b\b- \b\b\\ \b\b| \b\b/ \b\b- \b\b\\ \b\b| \b\b/ \b\b- \b\b\\ \b\b| \b\b/ \b\b- \b\b\\ \b\b| \b\b/ \b\b- \b\b\\ \b\b| \b\b/ \b\b- \b\b\\ \b\b| \b\b/ \b\b- \b\b\\ \b\b| \b\b/ \b\b- \b\b\\ \b\b| \b\b/ \b\b- \b\b\\ \b\b| \b\b/ \b\b- \b\b\\ \b\b| \b\b/ \b\b- \b\b\\ \b\b| \b\b/ \b\b- \b\b\\ \b\b| \b\b/ \b\b- \b\b\\ \b\b| \b\b/ \b\b- \b\b\\ \b\b| \b\b/ \b\b- \b\b\\ \b\b| \b\b/ \b\b- \b\b\\ \b\b| \b\b/ \b\b- \b\b\\ \b\b| \b\b/ \b\b- \b\b\\ \b\b| \b\b/ \b\b- \b\b\\ \b\b| \b\b/ \b\b- \b\b\\ \b\b| \b\b/ \b\b- \b\b\\ \b\b| \b\b/ \b\b- \b\b\\ \b\b| \b\b/ \b\b- \b\b\\ \b\b| \b\b/ \b\b- \b\b\\ \b\b| \b\b/ \b\b- \b\b\\ \b\b| \b\b/ \b\b- \b\b\\ \b\b| \b\b/ \b\b- \b\b\\ \b\b| \b\b/ \b\b- \b\b\\ \b\b| \b\b/ \b\b- \b\b\\ \b\b| \b\b/ \b\b- \b\b\\ \b\b| \b\b/ \b\b- \b\b\\ \b\b| \b\b/ \b\b- \b\b\\ \b\b| \b\b/ \b\b- \b\b\\ \b\b| \b\b/ \b\b- \b\b\\ \b\b| \b\b/ \b\b- \b\b\\ \b\b| \b\b/ \b\b- \b\b\\ \b\b| \b\b/ \b\b- \b\b\\ \b\b| \b\b/ \b\b- \b\b\\ \b\b| \b\b/ \b\b- \b\b\\ \b\b| \b\b/ \b\b- \b\b\\ \b\b| \b\b/ \b\b- \b\b\\ \b\b| \b\b/ \b\b- \b\b\\ \b\b| \b\b/ \b\b- \b\b\\ \b\b| \b\b/ \b\b- \b\b\\ \b\b| \b\b/ \b\b- \b\b\\ \b\b| \b\b/ \b\b- \b\b\\ \b\b| \b\b/ \b\b- \b\b\\ \b\b| \b\b/ \b\b- \b\b\\ \b\b| \b\b/ \b\b- \b\b\\ \b\b| \b\b/ \b\b- \b\b\\ \b\b| \b\b/ \b\b- \b\b\\ \b\b| \b\b/ \b\b- \b\b\\ \b\b| \b\b/ \b\b- \b\b\\ \b\b| \b\b/ \b\b- \b\b\\ \b\b| \b\b/ \b\b- \b\b\\ \b\b| \b\b/ \b\b- \b\b\\ \b\b| \b\b/ \b\b- \b\b\\ \b\b| \b\b/ \b\b- \b\b\\ \b\b| \b\b/ \b\b- \b\b\\ \b\b| \b\b/ \b\b- \b\b\\ \b\b| \b\b/ \b\b- \b\b\\ \b\b| \b\b/ \b\b- \b\b\\ \b\b| \b\b/ \b\b- \b\b\\ \b\b| \b\b/ \b\b- \b\b\\ \b\b| \b\b/ \b\b- \b\b\\ \b\b| \b\b/ \b\b- \b\b\\ \b\b| \b\b/ \b\b- \b\b\\ \b\b| \b\b/ \b\b- \b\b\\ \b\b| \b\b/ \b\b- \b\b\\ \b\b| \b\b/ \b\b- \b\b\\ \b\b| \b\b/ \b\b- \b\b\\ \b\b| \b\b/ \b\b- \b\b\\ \b\b| \b\b/ \b\b- \b\b\\ \b\b| \b\b/ \b\b- \b\b\\ \b\b| \b\b/ \b\b- \b\b\\ \b\b| \b\b/ \b\b- \b\b\\ \b\b| \b\b/ \b\b- \b\b\\ \b\b| \b\b/ \b\b- \b\b\\ \b\b| \b\b/ \b\b- \b\b\\ \b\b| \b\b/ \b\b- \b\b\\ \b\b| \b\b/ \b\b- \b\b\\ \b\b| \b\b/ \b\b- \b\b\\ \b\b| \b\b/ \b\b- \b\b\\ \b\b| \b\b/ \b\b- \b\b\\ \b\b| \b\b/ \b\b- \b\b\\ \b\b| \b\b/ \b\b- \b\b\\ \b\b| \b\b/ \b\b- \b\b\\ \b\b| \b\b/ \b\b- \b\b\\ \b\b| \b\b/ \b\b- \b\b\\ \b\b| \b\b/ \b\b- \b\b\\ \b\b| \b\b/ \b\b- \b\b\\ \b\b| \b\b/ \b\b- \b\b\\ \b\b| \b\b/ \b\b- \b\b\\ \b\b| \b\b/ \b\b- \b\b\\ \b\b| \b\b/ \b\b- \b\b\\ \b\b| \b\b/ \b\b- \b\b\\ \b\b| \b\b/ \b\b- \b\b\\ \b\b| \b\b/ \b\b- \b\b\\ \b\b| \b\b/ \b\b- \b\b\\ \b\b| \b\b/ \b\b- \b\b\\ \b\b| \b\b/ \b\b- \b\b\\ \b\b| \b\b/ \b\b- \b\b\\ \b\b| \b\b/ \b\b- \b\b\\ \b\b| \b\b/ \b\b- \b\b\\ \b\b| \b\b/ \b\b- \b\b\\ \b\b| \b\b/ \b\b- \b\b\\ \b\b| \b\b/ \b\b- \b\b\\ \b\b| \b\b/ \b\b- \b\b\\ \b\b| \b\b/ \b\b- \b\b\\ \b\b| \b\b/ \b\b- \b\b\\ \b\b| \b\b/ \b\b- \b\b\\ \b\b| \b\b/ \b\b- \b\b\\ \b\b| \b\b/ \b\b- \b\b\\ \b\b| \b\b/ \b\b- \b\b\\ \b\b| \b\b/ \b\b- \b\b\\ \b\b| \b\b/ \b\b- \b\b\\ \b\b| \b\b/ \b\b- \b\b\\ \b\b| \b\b/ \b\b- \b\b\\ \b\b| \b\b/ \b\b- \b\b\\ \b\b| \b\b/ \b\b- \b\b\\ \b\b| \b\b/ \b\b- \b\b\\ \b\b| \b\b/ \b\b- \b\b\\ \b\b| \b\b/ \b\b- \b\b\\ \b\b| \b\b/ \b\b- \b\b\\ \b\b| \b\b/ \b\b- \b\b\\ \b\b| \b\b/ \b\b- \b\b\\ \b\b| \b\b/ \b\b- \b\b\\ \b\b| \b\b/ \b\b- \b\b\\ \b\b| \b\b/ \b\b- \b\b\\ \b\b| \b\b/ \b\b- \b\b\\ \b\b| \b\b/ \b\b- \b\b\\ \b\b| \b\b/ \b\b- \b\b\\ \b\b| \b\b/ \b\b- \b\b\\ \b\b| \b\b/ \b\b- \b\b\\ \b\b| \b\b/ \b\b- \b\bdone\n",
            "\n",
            "\n",
            "==> WARNING: A newer version of conda exists. <==\n",
            "  current version: 4.5.4\n",
            "  latest version: 4.8.2\n",
            "\n",
            "Please update conda by running\n",
            "\n",
            "    $ conda update -n base conda\n",
            "\n",
            "\n",
            "\n",
            "## Package Plan ##\n",
            "\n",
            "  environment location: /usr/local\n",
            "\n",
            "  added / updated specs: \n",
            "    - cudatoolkit=10.1\n",
            "    - cudf=0.10\n",
            "    - cugraph\n",
            "    - cuml\n",
            "    - cuspatial\n",
            "    - gcsfs\n",
            "    - pynvml\n",
            "    - python=3.6\n",
            "\n",
            "\n",
            "The following packages will be downloaded:\n",
            "\n",
            "    package                    |            build\n",
            "    ---------------------------|-----------------\n",
            "    _openmp_mutex-4.5          |            0_gnu         435 KB  conda-forge\n",
            "    python-dateutil-2.8.1      |             py_0         220 KB  conda-forge\n",
            "    pysocks-1.7.1              |           py36_0          27 KB  conda-forge\n",
            "    python-3.6.7               |    h357f687_1006        34.6 MB  conda-forge\n",
            "    cachetools-3.1.1           |             py_0          11 KB  conda-forge\n",
            "    libcudf-0.10.0             |       cuda10.1_0        32.3 MB  rapidsai\n",
            "    numpy-1.17.5               |   py36h95a1406_0         5.2 MB  conda-forge\n",
            "    libcblas-3.8.0             |      14_openblas          10 KB  conda-forge\n",
            "    openssl-1.1.1d             |       h516909a_0         2.1 MB  conda-forge\n",
            "    decorator-4.4.1            |             py_0          11 KB  conda-forge\n",
            "    icu-64.2                   |       he1b5a44_1        12.6 MB  conda-forge\n",
            "    boost-cpp-1.70.0           |       h8e57a91_2        21.1 MB  conda-forge\n",
            "    grpc-cpp-1.25.0            |       h18db393_0         5.1 MB  conda-forge\n",
            "    pyopenssl-19.1.0           |           py36_0          83 KB  conda-forge\n",
            "    libevent-2.1.10            |       h72c5cf5_0         1.3 MB  conda-forge\n",
            "    glog-0.4.0                 |       he1b5a44_1         104 KB  conda-forge\n",
            "    libgomp-9.2.0              |       h24d8f2e_2         816 KB  conda-forge\n",
            "    fastavro-0.22.9            |   py36h516909a_0         409 KB  conda-forge\n",
            "    idna-2.8                   |        py36_1000         132 KB  conda-forge\n",
            "    requests-2.22.0            |           py36_1          84 KB  conda-forge\n",
            "    libcumlprims-0.10.0        |       cuda10.1_0         4.2 MB  nvidia\n",
            "    rmm-0.10.0                 |           py36_0         135 KB  rapidsai\n",
            "    gflags-2.2.2               |    he1b5a44_1002         175 KB  conda-forge\n",
            "    libprotobuf-3.8.0          |       h8b12597_0         4.7 MB  conda-forge\n",
            "    _libgcc_mutex-0.1          |      conda_forge           3 KB  conda-forge\n",
            "    certifi-2019.11.28         |           py36_0         149 KB  conda-forge\n",
            "    chardet-3.0.4              |        py36_1003         190 KB  conda-forge\n",
            "    cudatoolkit-10.1.243       |       h6bb024c_0       513.2 MB  nvidia\n",
            "    libblas-3.8.0              |      14_openblas          10 KB  conda-forge\n",
            "    nvstrings-0.10.0           |           py36_0         126 KB  rapidsai\n",
            "    libnvstrings-0.10.0        |       cuda10.1_0        25.1 MB  rapidsai\n",
            "    libllvm8-8.0.1             |       hc9558a2_0        23.2 MB  conda-forge\n",
            "    pyasn1-0.4.8               |             py_0          53 KB  conda-forge\n",
            "    libstdcxx-ng-9.2.0         |       hdf63c60_2         4.5 MB  conda-forge\n",
            "    ncurses-6.1                |    hf484d3e_1002         1.3 MB  conda-forge\n",
            "    libgcc-ng-9.2.0            |       h24d8f2e_2         8.2 MB  conda-forge\n",
            "    sqlite-3.30.1              |       hcee41ef_0         2.0 MB  conda-forge\n",
            "    liblapack-3.8.0            |      14_openblas          10 KB  conda-forge\n",
            "    libgfortran-ng-7.3.0       |       hdf63c60_4         1.7 MB  conda-forge\n",
            "    nccl-2.4.6.1               |       cuda10.1_0        66.9 MB  nvidia\n",
            "    libcugraph-0.10.0          |       cuda10.1_0        16.1 MB  rapidsai\n",
            "    cudf-0.10.0                |           py36_0         7.2 MB  rapidsai\n",
            "    readline-8.0               |       hf8c457e_0         441 KB  conda-forge\n",
            "    lz4-c-1.8.3                |    he1b5a44_1001         187 KB  conda-forge\n",
            "    xz-5.2.4                   |    h14c3975_1001         366 KB  conda-forge\n",
            "    rsa-4.0                    |             py_0          27 KB  conda-forge\n",
            "    brotli-1.0.7               |    he1b5a44_1000         1.0 MB  conda-forge\n",
            "    blinker-1.4                |             py_1          13 KB  conda-forge\n",
            "    cuspatial-0.10.0           |           py36_0         456 KB  rapidsai\n",
            "    google-auth-oauthlib-0.4.1 |             py_1          18 KB  conda-forge\n",
            "    pandas-0.24.2              |   py36hb3f55d8_1        11.1 MB  conda-forge\n",
            "    cffi-1.13.2                |   py36h8022711_0         220 KB  conda-forge\n",
            "    arrow-cpp-0.14.1           |   py36h6b969ab_1        17.3 MB  conda-forge\n",
            "    tk-8.6.10                  |       hed695b0_0         3.2 MB  conda-forge\n",
            "    dlpack-0.2                 |       he1b5a44_1          13 KB  conda-forge\n",
            "    librmm-0.10.0              |       cuda10.1_0          50 KB  rapidsai\n",
            "    cuml-0.10.0                |  cuda10.1_py36_0         6.6 MB  rapidsai\n",
            "    cugraph-0.10.0             |           py36_0         1.7 MB  rapidsai\n",
            "    parquet-cpp-1.5.1          |                2           3 KB  conda-forge\n",
            "    zlib-1.2.11                |    h516909a_1006         105 KB  conda-forge\n",
            "    oauthlib-3.0.1             |             py_0          82 KB  conda-forge\n",
            "    pyasn1-modules-0.2.7       |             py_0          60 KB  conda-forge\n",
            "    bzip2-1.0.8                |       h516909a_2         396 KB  conda-forge\n",
            "    c-ares-1.15.0              |    h516909a_1001         100 KB  conda-forge\n",
            "    pyjwt-1.7.1                |             py_0          17 KB  conda-forge\n",
            "    double-conversion-3.1.5    |       he1b5a44_2          85 KB  conda-forge\n",
            "    cryptography-2.8           |   py36h72c5cf5_1         616 KB  conda-forge\n",
            "    libopenblas-0.3.7          |       h5ec1e0e_6         7.6 MB  conda-forge\n",
            "    setuptools-45.1.0          |           py36_0         642 KB  conda-forge\n",
            "    fsspec-0.6.2               |             py_0          46 KB  conda-forge\n",
            "    llvmlite-0.31.0            |   py36h8b12597_0         337 KB  conda-forge\n",
            "    libcuspatial-0.10.0        |       cuda10.1_0         1.6 MB  rapidsai\n",
            "    snappy-1.1.7               |    he1b5a44_1003          39 KB  conda-forge\n",
            "    pytz-2019.3                |             py_0         237 KB  conda-forge\n",
            "    pycparser-2.19             |           py36_1         173 KB  conda-forge\n",
            "    google-auth-1.10.2         |             py_0          47 KB  conda-forge\n",
            "    six-1.14.0                 |           py36_0          23 KB  conda-forge\n",
            "    re2-2020.01.01             |       he1b5a44_0         422 KB  conda-forge\n",
            "    uriparser-0.9.3            |       he1b5a44_1          49 KB  conda-forge\n",
            "    thrift-cpp-0.12.0          |    hf3afdfd_1004         2.4 MB  conda-forge\n",
            "    cython-0.29.14             |   py36he1b5a44_0         2.2 MB  conda-forge\n",
            "    urllib3-1.25.7             |           py36_0         160 KB  conda-forge\n",
            "    requests-oauthlib-1.2.0    |             py_0          19 KB  conda-forge\n",
            "    zstd-1.4.0                 |       h3b9ef0a_0         928 KB  conda-forge\n",
            "    gcsfs-0.6.0                |             py_0          19 KB  conda-forge\n",
            "    ca-certificates-2019.11.28 |       hecc5488_0         145 KB  conda-forge\n",
            "    pyarrow-0.14.1             |   py36h8b68381_2         2.8 MB  conda-forge\n",
            "    wheel-0.33.6               |           py36_0          35 KB  conda-forge\n",
            "    numba-0.47.0               |   py36hb3f55d8_0         3.4 MB  conda-forge\n",
            "    libcuml-0.10.0             |       cuda10.1_0        40.6 MB  rapidsai\n",
            "    pynvml-8.0.4               |             py_0          31 KB  conda-forge\n",
            "    libffi-3.2.1               |    he1b5a44_1006          46 KB  conda-forge\n",
            "    pip-20.0.2                 |           py36_0         1.9 MB  conda-forge\n",
            "    ------------------------------------------------------------\n",
            "                                           Total:       905.7 MB\n",
            "\n",
            "The following NEW packages will be INSTALLED:\n",
            "\n",
            "    _libgcc_mutex:        0.1-conda_forge        conda-forge\n",
            "    _openmp_mutex:        4.5-0_gnu              conda-forge\n",
            "    arrow-cpp:            0.14.1-py36h6b969ab_1  conda-forge\n",
            "    blinker:              1.4-py_1               conda-forge\n",
            "    boost-cpp:            1.70.0-h8e57a91_2      conda-forge\n",
            "    brotli:               1.0.7-he1b5a44_1000    conda-forge\n",
            "    bzip2:                1.0.8-h516909a_2       conda-forge\n",
            "    c-ares:               1.15.0-h516909a_1001   conda-forge\n",
            "    cachetools:           3.1.1-py_0             conda-forge\n",
            "    cudatoolkit:          10.1.243-h6bb024c_0    nvidia     \n",
            "    cudf:                 0.10.0-py36_0          rapidsai   \n",
            "    cugraph:              0.10.0-py36_0          rapidsai   \n",
            "    cuml:                 0.10.0-cuda10.1_py36_0 rapidsai   \n",
            "    cuspatial:            0.10.0-py36_0          rapidsai   \n",
            "    cython:               0.29.14-py36he1b5a44_0 conda-forge\n",
            "    decorator:            4.4.1-py_0             conda-forge\n",
            "    dlpack:               0.2-he1b5a44_1         conda-forge\n",
            "    double-conversion:    3.1.5-he1b5a44_2       conda-forge\n",
            "    fastavro:             0.22.9-py36h516909a_0  conda-forge\n",
            "    fsspec:               0.6.2-py_0             conda-forge\n",
            "    gcsfs:                0.6.0-py_0             conda-forge\n",
            "    gflags:               2.2.2-he1b5a44_1002    conda-forge\n",
            "    glog:                 0.4.0-he1b5a44_1       conda-forge\n",
            "    google-auth:          1.10.2-py_0            conda-forge\n",
            "    google-auth-oauthlib: 0.4.1-py_1             conda-forge\n",
            "    grpc-cpp:             1.25.0-h18db393_0      conda-forge\n",
            "    icu:                  64.2-he1b5a44_1        conda-forge\n",
            "    libblas:              3.8.0-14_openblas      conda-forge\n",
            "    libcblas:             3.8.0-14_openblas      conda-forge\n",
            "    libcudf:              0.10.0-cuda10.1_0      rapidsai   \n",
            "    libcugraph:           0.10.0-cuda10.1_0      rapidsai   \n",
            "    libcuml:              0.10.0-cuda10.1_0      rapidsai   \n",
            "    libcumlprims:         0.10.0-cuda10.1_0      nvidia     \n",
            "    libcuspatial:         0.10.0-cuda10.1_0      rapidsai   \n",
            "    libevent:             2.1.10-h72c5cf5_0      conda-forge\n",
            "    libgfortran-ng:       7.3.0-hdf63c60_4       conda-forge\n",
            "    libgomp:              9.2.0-h24d8f2e_2       conda-forge\n",
            "    liblapack:            3.8.0-14_openblas      conda-forge\n",
            "    libllvm8:             8.0.1-hc9558a2_0       conda-forge\n",
            "    libnvstrings:         0.10.0-cuda10.1_0      rapidsai   \n",
            "    libopenblas:          0.3.7-h5ec1e0e_6       conda-forge\n",
            "    libprotobuf:          3.8.0-h8b12597_0       conda-forge\n",
            "    librmm:               0.10.0-cuda10.1_0      rapidsai   \n",
            "    llvmlite:             0.31.0-py36h8b12597_0  conda-forge\n",
            "    lz4-c:                1.8.3-he1b5a44_1001    conda-forge\n",
            "    nccl:                 2.4.6.1-cuda10.1_0     nvidia     \n",
            "    numba:                0.47.0-py36hb3f55d8_0  conda-forge\n",
            "    numpy:                1.17.5-py36h95a1406_0  conda-forge\n",
            "    nvstrings:            0.10.0-py36_0          rapidsai   \n",
            "    oauthlib:             3.0.1-py_0             conda-forge\n",
            "    pandas:               0.24.2-py36hb3f55d8_1  conda-forge\n",
            "    parquet-cpp:          1.5.1-2                conda-forge\n",
            "    pyarrow:              0.14.1-py36h8b68381_2  conda-forge\n",
            "    pyasn1:               0.4.8-py_0             conda-forge\n",
            "    pyasn1-modules:       0.2.7-py_0             conda-forge\n",
            "    pyjwt:                1.7.1-py_0             conda-forge\n",
            "    pynvml:               8.0.4-py_0             conda-forge\n",
            "    python-dateutil:      2.8.1-py_0             conda-forge\n",
            "    pytz:                 2019.3-py_0            conda-forge\n",
            "    re2:                  2020.01.01-he1b5a44_0  conda-forge\n",
            "    requests-oauthlib:    1.2.0-py_0             conda-forge\n",
            "    rmm:                  0.10.0-py36_0          rapidsai   \n",
            "    rsa:                  4.0-py_0               conda-forge\n",
            "    snappy:               1.1.7-he1b5a44_1003    conda-forge\n",
            "    thrift-cpp:           0.12.0-hf3afdfd_1004   conda-forge\n",
            "    uriparser:            0.9.3-he1b5a44_1       conda-forge\n",
            "    zstd:                 1.4.0-h3b9ef0a_0       conda-forge\n",
            "\n",
            "The following packages will be UPDATED:\n",
            "\n",
            "    ca-certificates:      2018.03.07-0                       --> 2019.11.28-hecc5488_0 conda-forge\n",
            "    certifi:              2018.4.16-py36_0                   --> 2019.11.28-py36_0     conda-forge\n",
            "    cffi:                 1.11.5-py36h9745a5d_0              --> 1.13.2-py36h8022711_0 conda-forge\n",
            "    chardet:              3.0.4-py36h0f667ec_1               --> 3.0.4-py36_1003       conda-forge\n",
            "    cryptography:         2.2.2-py36h14c3975_0               --> 2.8-py36h72c5cf5_1    conda-forge\n",
            "    idna:                 2.6-py36h82fb2a8_1                 --> 2.8-py36_1000         conda-forge\n",
            "    libffi:               3.2.1-hd88cf55_4                   --> 3.2.1-he1b5a44_1006   conda-forge\n",
            "    libgcc-ng:            7.2.0-hdf63c60_3                   --> 9.2.0-h24d8f2e_2      conda-forge\n",
            "    libstdcxx-ng:         7.2.0-hdf63c60_3                   --> 9.2.0-hdf63c60_2      conda-forge\n",
            "    ncurses:              6.1-hf484d3e_0                     --> 6.1-hf484d3e_1002     conda-forge\n",
            "    openssl:              1.0.2o-h20670df_0                  --> 1.1.1d-h516909a_0     conda-forge\n",
            "    pip:                  10.0.1-py36_0                      --> 20.0.2-py36_0         conda-forge\n",
            "    pycparser:            2.18-py36hf9f622e_1                --> 2.19-py36_1           conda-forge\n",
            "    pyopenssl:            18.0.0-py36_0                      --> 19.1.0-py36_0         conda-forge\n",
            "    pysocks:              1.6.8-py36_0                       --> 1.7.1-py36_0          conda-forge\n",
            "    python:               3.6.5-hc3d631a_2                   --> 3.6.7-h357f687_1006   conda-forge\n",
            "    readline:             7.0-ha6073c6_4                     --> 8.0-hf8c457e_0        conda-forge\n",
            "    requests:             2.18.4-py36he2e5f8d_1              --> 2.22.0-py36_1         conda-forge\n",
            "    setuptools:           39.2.0-py36_0                      --> 45.1.0-py36_0         conda-forge\n",
            "    six:                  1.11.0-py36h372c433_1              --> 1.14.0-py36_0         conda-forge\n",
            "    sqlite:               3.23.1-he433501_0                  --> 3.30.1-hcee41ef_0     conda-forge\n",
            "    tk:                   8.6.7-hc745277_3                   --> 8.6.10-hed695b0_0     conda-forge\n",
            "    urllib3:              1.22-py36hbe7ace6_0                --> 1.25.7-py36_0         conda-forge\n",
            "    wheel:                0.31.1-py36_0                      --> 0.33.6-py36_0         conda-forge\n",
            "    xz:                   5.2.4-h14c3975_4                   --> 5.2.4-h14c3975_1001   conda-forge\n",
            "    zlib:                 1.2.11-ha838bed_2                  --> 1.2.11-h516909a_1006  conda-forge\n",
            "\n",
            "\n",
            "Downloading and Extracting Packages\n",
            "_openmp_mutex-4.5    |  435 KB | : 100% 1.0/1 [00:00<00:00,  9.60it/s]\n",
            "python-dateutil-2.8. |  220 KB | : 100% 1.0/1 [00:00<00:00, 15.31it/s]\n",
            "pysocks-1.7.1        |   27 KB | : 100% 1.0/1 [00:00<00:00, 23.04it/s]\n",
            "python-3.6.7         | 34.6 MB | : 100% 1.0/1 [00:04<00:00,  4.82s/it]               \n",
            "cachetools-3.1.1     |   11 KB | : 100% 1.0/1 [00:00<00:00, 18.06it/s]\n",
            "libcudf-0.10.0       | 32.3 MB | : 100% 1.0/1 [00:07<00:00,  7.19s/it]               \n",
            "numpy-1.17.5         |  5.2 MB | : 100% 1.0/1 [00:01<00:00,  1.20s/it]               \n",
            "libcblas-3.8.0       |   10 KB | : 100% 1.0/1 [00:00<00:00, 22.43it/s]\n",
            "openssl-1.1.1d       |  2.1 MB | : 100% 1.0/1 [00:00<00:00,  2.64it/s]               \n",
            "decorator-4.4.1      |   11 KB | : 100% 1.0/1 [00:00<00:00, 23.97it/s]\n",
            "icu-64.2             | 12.6 MB | : 100% 1.0/1 [00:01<00:00,  1.85s/it]               \n",
            "boost-cpp-1.70.0     | 21.1 MB | : 100% 1.0/1 [00:08<00:00,  8.67s/it]               \n",
            "grpc-cpp-1.25.0      |  5.1 MB | : 100% 1.0/1 [00:01<00:00,  1.07s/it]               \n",
            "pyopenssl-19.1.0     |   83 KB | : 100% 1.0/1 [00:00<00:00, 17.85it/s]\n",
            "libevent-2.1.10      |  1.3 MB | : 100% 1.0/1 [00:00<00:00,  2.69it/s]               \n",
            "glog-0.4.0           |  104 KB | : 100% 1.0/1 [00:00<00:00, 20.53it/s]\n",
            "libgomp-9.2.0        |  816 KB | : 100% 1.0/1 [00:00<00:00,  7.74it/s]               \n",
            "fastavro-0.22.9      |  409 KB | : 100% 1.0/1 [00:00<00:00,  8.16it/s]               \n",
            "idna-2.8             |  132 KB | : 100% 1.0/1 [00:00<00:00, 17.67it/s]\n",
            "requests-2.22.0      |   84 KB | : 100% 1.0/1 [00:00<00:00, 15.43it/s]\n",
            "libcumlprims-0.10.0  |  4.2 MB | : 100% 1.0/1 [00:01<00:00,  1.51s/it]               \n",
            "rmm-0.10.0           |  135 KB | : 100% 1.0/1 [00:00<00:00,  1.96it/s]                \n",
            "gflags-2.2.2         |  175 KB | : 100% 1.0/1 [00:00<00:00, 12.67it/s]\n",
            "libprotobuf-3.8.0    |  4.7 MB | : 100% 1.0/1 [00:01<00:00,  1.04s/it]               \n",
            "_libgcc_mutex-0.1    |    3 KB | : 100% 1.0/1 [00:00<00:00, 23.67it/s]\n",
            "certifi-2019.11.28   |  149 KB | : 100% 1.0/1 [00:00<00:00, 17.44it/s]\n",
            "chardet-3.0.4        |  190 KB | : 100% 1.0/1 [00:00<00:00, 11.53it/s]\n",
            "cudatoolkit-10.1.243 | 513.2 MB | : 100% 1.0/1 [01:07<00:00, 67.01s/it]                \n",
            "libblas-3.8.0        |   10 KB | : 100% 1.0/1 [00:00<00:00, 21.79it/s]\n",
            "nvstrings-0.10.0     |  126 KB | : 100% 1.0/1 [00:00<00:00,  4.56s/it]                \n",
            "libnvstrings-0.10.0  | 25.1 MB | : 100% 1.0/1 [00:05<00:00,  5.48s/it]                \n",
            "libllvm8-8.0.1       | 23.2 MB | : 100% 1.0/1 [00:03<00:00,  3.73s/it]               \n",
            "pyasn1-0.4.8         |   53 KB | : 100% 1.0/1 [00:00<00:00, 19.00it/s]\n",
            "libstdcxx-ng-9.2.0   |  4.5 MB | : 100% 1.0/1 [00:00<00:00,  1.53it/s]              \n",
            "ncurses-6.1          |  1.3 MB | : 100% 1.0/1 [00:00<00:00,  1.25it/s]               \n",
            "libgcc-ng-9.2.0      |  8.2 MB | : 100% 1.0/1 [00:01<00:00,  1.32s/it]               \n",
            "sqlite-3.30.1        |  2.0 MB | : 100% 1.0/1 [00:00<00:00,  2.73it/s]               \n",
            "liblapack-3.8.0      |   10 KB | : 100% 1.0/1 [00:00<00:00, 25.12it/s]\n",
            "libgfortran-ng-7.3.0 |  1.7 MB | : 100% 1.0/1 [00:00<00:00,  3.17it/s]               \n",
            "nccl-2.4.6.1         | 66.9 MB | : 100% 1.0/1 [00:09<00:00,  9.60s/it]               \n",
            "libcugraph-0.10.0    | 16.1 MB | : 100% 1.0/1 [00:03<00:00,  3.15s/it]               \n",
            "cudf-0.10.0          |  7.2 MB | : 100% 1.0/1 [00:01<00:00,  1.75s/it]                \n",
            "readline-8.0         |  441 KB | : 100% 1.0/1 [00:00<00:00,  8.61it/s]\n",
            "lz4-c-1.8.3          |  187 KB | : 100% 1.0/1 [00:00<00:00, 13.18it/s]\n",
            "xz-5.2.4             |  366 KB | : 100% 1.0/1 [00:00<00:00,  8.28it/s]               \n",
            "rsa-4.0              |   27 KB | : 100% 1.0/1 [00:00<00:00, 22.12it/s]\n",
            "brotli-1.0.7         |  1.0 MB | : 100% 1.0/1 [00:00<00:00,  5.80it/s]               \n",
            "blinker-1.4          |   13 KB | : 100% 1.0/1 [00:00<00:00, 25.68it/s]\n",
            "cuspatial-0.10.0     |  456 KB | : 100% 1.0/1 [00:00<00:00,  3.26it/s]                \n",
            "google-auth-oauthlib |   18 KB | : 100% 1.0/1 [00:00<00:00, 23.84it/s]\n",
            "pandas-0.24.2        | 11.1 MB | : 100% 1.0/1 [00:02<00:00,  2.42s/it]               \n",
            "cffi-1.13.2          |  220 KB | : 100% 1.0/1 [00:00<00:00, 11.58it/s]\n",
            "arrow-cpp-0.14.1     | 17.3 MB | : 100% 1.0/1 [00:03<00:00,  3.10s/it]               \n",
            "tk-8.6.10            |  3.2 MB | : 100% 1.0/1 [00:00<00:00,  1.52it/s]               \n",
            "dlpack-0.2           |   13 KB | : 100% 1.0/1 [00:00<00:00, 21.81it/s]\n",
            "librmm-0.10.0        |   50 KB | : 100% 1.0/1 [00:00<00:00,  2.43it/s]                \n",
            "cuml-0.10.0          |  6.6 MB | : 100% 1.0/1 [00:01<00:00,  1.41s/it]               \n",
            "cugraph-0.10.0       |  1.7 MB | : 100% 1.0/1 [00:00<00:00,  1.79it/s]               \n",
            "parquet-cpp-1.5.1    |    3 KB | : 100% 1.0/1 [00:00<00:00, 24.88it/s]\n",
            "zlib-1.2.11          |  105 KB | : 100% 1.0/1 [00:00<00:00, 19.98it/s]\n",
            "oauthlib-3.0.1       |   82 KB | : 100% 1.0/1 [00:00<00:00, 12.96it/s]\n",
            "pyasn1-modules-0.2.7 |   60 KB | : 100% 1.0/1 [00:00<00:00, 13.15it/s]\n",
            "bzip2-1.0.8          |  396 KB | : 100% 1.0/1 [00:00<00:00,  6.78it/s]\n",
            "c-ares-1.15.0        |  100 KB | : 100% 1.0/1 [00:00<00:00, 17.39it/s]\n",
            "pyjwt-1.7.1          |   17 KB | : 100% 1.0/1 [00:00<00:00, 20.99it/s]\n",
            "double-conversion-3. |   85 KB | : 100% 1.0/1 [00:00<00:00, 19.03it/s]\n",
            "cryptography-2.8     |  616 KB | : 100% 1.0/1 [00:00<00:00,  4.70it/s]               \n",
            "libopenblas-0.3.7    |  7.6 MB | : 100% 1.0/1 [00:01<00:00,  1.34s/it]               \n",
            "setuptools-45.1.0    |  642 KB | : 100% 1.0/1 [00:00<00:00,  4.43it/s]               \n",
            "fsspec-0.6.2         |   46 KB | : 100% 1.0/1 [00:00<00:00, 17.57it/s]\n",
            "llvmlite-0.31.0      |  337 KB | : 100% 1.0/1 [00:00<00:00,  9.10it/s]\n",
            "libcuspatial-0.10.0  |  1.6 MB | : 100% 1.0/1 [00:00<00:00,  2.16it/s]               \n",
            "snappy-1.1.7         |   39 KB | : 100% 1.0/1 [00:00<00:00, 24.65it/s]\n",
            "pytz-2019.3          |  237 KB | : 100% 1.0/1 [00:00<00:00,  4.88it/s]               \n",
            "pycparser-2.19       |  173 KB | : 100% 1.0/1 [00:00<00:00, 12.55it/s]\n",
            "google-auth-1.10.2   |   47 KB | : 100% 1.0/1 [00:00<00:00, 19.46it/s]\n",
            "six-1.14.0           |   23 KB | : 100% 1.0/1 [00:00<00:00, 22.62it/s]\n",
            "re2-2020.01.01       |  422 KB | : 100% 1.0/1 [00:00<00:00,  9.35it/s]\n",
            "uriparser-0.9.3      |   49 KB | : 100% 1.0/1 [00:00<00:00, 21.87it/s]\n",
            "thrift-cpp-0.12.0    |  2.4 MB | : 100% 1.0/1 [00:00<00:00,  2.11it/s]               \n",
            "cython-0.29.14       |  2.2 MB | : 100% 1.0/1 [00:00<00:00,  1.87it/s]               \n",
            "urllib3-1.25.7       |  160 KB | : 100% 1.0/1 [00:00<00:00, 12.39it/s]\n",
            "requests-oauthlib-1. |   19 KB | : 100% 1.0/1 [00:00<00:00, 19.18it/s]\n",
            "zstd-1.4.0           |  928 KB | : 100% 1.0/1 [00:00<00:00,  5.65it/s]               \n",
            "gcsfs-0.6.0          |   19 KB | : 100% 1.0/1 [00:00<00:00, 24.06it/s]\n",
            "ca-certificates-2019 |  145 KB | : 100% 1.0/1 [00:00<00:00, 19.87it/s]\n",
            "pyarrow-0.14.1       |  2.8 MB | : 100% 1.0/1 [00:00<00:00,  1.18it/s]               \n",
            "wheel-0.33.6         |   35 KB | : 100% 1.0/1 [00:00<00:00, 22.24it/s]\n",
            "numba-0.47.0         |  3.4 MB | : 100% 1.0/1 [00:01<00:00,  1.02s/it]               \n",
            "libcuml-0.10.0       | 40.6 MB | : 100% 1.0/1 [00:08<00:00,  8.33s/it]               \n",
            "pynvml-8.0.4         |   31 KB | : 100% 1.0/1 [00:00<00:00, 22.75it/s]\n",
            "libffi-3.2.1         |   46 KB | : 100% 1.0/1 [00:00<00:00, 21.79it/s]\n",
            "pip-20.0.2           |  1.9 MB | : 100% 1.0/1 [00:00<00:00,  1.76it/s]               \n",
            "Preparing transaction: | \b\b/ \b\b- \b\b\\ \b\b| \b\b/ \b\b- \b\b\\ \b\b| \b\b/ \b\b- \b\b\\ \b\b| \b\bdone\n",
            "Verifying transaction: - \b\b\\ \b\b| \b\b/ \b\b- \b\b\\ \b\b| \b\b/ \b\b- \b\b\\ \b\b| \b\b/ \b\b- \b\b\\ \b\b| \b\b/ \b\b- \b\b\\ \b\b| \b\b/ \b\b- \b\b\\ \b\b| \b\b/ \b\b- \b\b\\ \b\b| \b\b/ \b\b- \b\b\\ \b\b| \b\b/ \b\b- \b\b\\ \b\b| \b\b/ \b\b- \b\b\\ \b\b| \b\b/ \b\b- \b\b\\ \b\b| \b\b/ \b\b- \b\b\\ \b\b| \b\b/ \b\b- \b\b\\ \b\b| \b\b/ \b\b- \b\b\\ \b\b| \b\b/ \b\b- \b\b\\ \b\b| \b\b/ \b\b- \b\b\\ \b\b| \b\b/ \b\b- \b\b\\ \b\b| \b\b/ \b\b- \b\b\\ \b\b| \b\b/ \b\b- \b\b\\ \b\b| \b\b/ \b\b- \b\b\\ \b\b| \b\b/ \b\b- \b\b\\ \b\b| \b\b/ \b\b- \b\b\\ \b\b| \b\b/ \b\b- \b\b\\ \b\b| \b\b/ \b\b- \b\b\\ \b\b| \b\b/ \b\b- \b\b\\ \b\b| \b\b/ \b\b- \b\b\\ \b\b| \b\b/ \b\b- \b\b\\ \b\b| \b\b/ \b\b- \b\b\\ \b\b| \b\b/ \b\b- \b\b\\ \b\b| \b\b/ \b\b- \b\b\\ \b\b| \b\b/ \b\b- \b\b\\ \b\b| \b\b/ \b\b- \b\b\\ \b\b| \b\b/ \b\b- \b\b\\ \b\b| \b\b/ \b\b- \b\b\\ \b\b| \b\b/ \b\b- \b\b\\ \b\b| \b\b/ \b\b- \b\b\\ \b\b| \b\b/ \b\b- \b\b\\ \b\b| \b\bdone\n",
            "Executing transaction: - \b\b\\ \b\b| \b\b/ \b\b- \b\b\\ \b\b| \b\b/ \b\b- \b\b\\ \b\b| \b\b/ \b\b- \b\b\\ \b\b| \b\b/ \b\b- \b\b\\ \b\b| \b\b/ \b\b- \b\b\\ \b\b| \b\b/ \b\b- \b\b\\ \b\b| \b\b/ \b\b- \b\b\\ \b\b| \b\b/ \b\b- \b\b\\ \b\b| \b\b/ \b\b- \b\b\\ \b\b| \b\b/ \b\b- \b\b\\ \b\b| \b\b/ \b\b- \b\b\\ \b\b| \b\b/ \b\b- \b\b\\ \b\b| \b\b/ \b\b- \b\b\\ \b\b| \b\b/ \b\b- \b\b\\ \b\b| \b\b/ \b\b- \b\b\\ \b\b| \b\b/ \b\b- \b\b\\ \b\b| \b\b/ \b\b- \b\b\\ \b\b| \b\b/ \b\b- \b\b\\ \b\b| \b\b/ \b\b- \b\b\\ \b\b| \b\b/ \b\b- \b\b\\ \b\b| \b\b/ \b\b- \b\b\\ \b\b| \b\b/ \b\b- \b\b\\ \b\b| \b\b/ \b\b- \b\b\\ \b\b| \b\b/ \b\b- \b\b\\ \b\b| \b\b/ \b\b- \b\b\\ \b\b| \b\b/ \b\b- \b\b\\ \b\b| \b\b/ \b\b- \b\b\\ \b\b| \b\b/ \b\b- \b\b\\ \b\b| \b\b/ \b\b- \b\b\\ \b\b| \b\b/ \b\b- \b\b\\ \b\b| \b\b/ \b\b- \b\b\\ \b\b| \b\b/ \b\b- \b\b\\ \b\b| \b\b/ \b\b- \b\b\\ \b\b| \b\b/ \b\b- \b\b\\ \b\b| \b\b/ \b\b- \b\b\\ \b\b| \b\b/ \b\b- \b\b\\ \b\b| \b\b/ \b\b- \b\b\\ \b\b| \b\b/ \b\b- \b\b\\ \b\b| \b\b/ \b\b- \b\b\\ \b\b| \b\b/ \b\b- \b\b\\ \b\b| \b\b/ \b\b- \b\b\\ \b\b| \b\b/ \b\b- \b\b\\ \b\b| \b\b/ \b\b- \b\b\\ \b\b| \b\b/ \b\b- \b\b\\ \b\b| \b\b/ \b\b- \b\b\\ \b\b| \b\b/ \b\b- \b\b\\ \b\b| \b\b/ \b\b- \b\b\\ \b\b| \b\b/ \b\b- \b\b\\ \b\b| \b\b/ \b\b- \b\b\\ \b\b| \b\b/ \b\b- \b\b\\ \b\b| \b\b/ \b\b- \b\b\\ \b\b| \b\b/ \b\b- \b\b\\ \b\b| \b\b/ \b\b- \b\bdone\n",
            "rapids-colab.sh: line 95: dask-cudf: command not found\n"
          ],
          "name": "stdout"
        }
      ]
    },
    {
      "cell_type": "code",
      "metadata": {
        "id": "XmtFH9Skuu91",
        "colab_type": "code",
        "colab": {}
      },
      "source": [
        ""
      ],
      "execution_count": 0,
      "outputs": []
    },
    {
      "cell_type": "code",
      "metadata": {
        "id": "GHrtxt5NvtBX",
        "colab_type": "code",
        "colab": {}
      },
      "source": [
        ""
      ],
      "execution_count": 0,
      "outputs": []
    },
    {
      "cell_type": "markdown",
      "metadata": {
        "id": "0vaPk88Cvtxg",
        "colab_type": "text"
      },
      "source": [
        "# **Uniform Manifold Approximation and Projection (UMAP)** \n",
        "UMAP is a dimensionality reduction algorithm which performs non-linear dimension reduction. It can also be used for visualization of the dataset. The UMAP model implemented in cuML allows the user to set the following parameter values:\n",
        "1.\tn_neighbors: number of neighboring samples used for manifold approximation. Larger values result in more global views of the manifold, while smaller values result in more local data being preserved (default = 15)\n",
        "2.\tn_components: the dimension of the space to embed into (default = 2)\n",
        "3.\tn_epochs: number of training epochs to be used in optimizing the low dimensional embedding (default = None)\n",
        "4.\tlearning_rate: initial learning rate for the embedding optimization (default = 1.0)\n",
        "5.\tinit: the low dimensional embedding to use: a. 'spectral': use a spectral embedding of the fuzzy 1-skeleton b. 'random': assign initial embedding positions at random (default = 'spectral')\n",
        "6.\tmin_dist: the minimum distance that should be present between embedded points (default = 0.1)\n",
        "7.\tspread: determines how clustered the embedded points will be (default = 1.0)\n",
        "8.\tset_op_mix_ratio: is the ratio of pure fuzzy union to intersection. If the value is 1.0 then it will be a pure fuzzy union and for the value of 0.0 it will be a pure fuzzy interpolation (default = 1.0)\n",
        "9.\tlocal_connectivity: number of nearest neighbors that should be assumed to be connected at a local level. It should be not more than the local intrinsic dimension of the manifold (default = 1)\n",
        "10.\trepulsion_strength: weighting applied to negative samples in low dimensional embedding optimization. Values > 1 implements a higher negative value to the samples (default = 1.0)\n",
        "11.\tnegative_sample_rate: the rate at which the negative samples should be selected per positive sample during the optimization process (default = 5)\n",
        "12.\ttransform_queue_size: embedding new points using a trained model_ will control how aggressively to search for nearest neighbors (default = 4.0)\n",
        "13.\tverbose: bool (default False)\n",
        "\n",
        "The cuml implemetation of the UMAP model has the following functions that one can run:\n",
        "1.\tfit: it fits the dataset into an embedded space\n",
        "2.\tfit_transform: it fits the dataset into an embedded space and returns the transformed output\n",
        "3.\ttransform: it transforms the dataset into an existing embedded space and returns the low dimensional output\n",
        "\n",
        "The model accepts only numpy arrays or cudf dataframes as the input. In order to convert your dataset to cudf format please read the cudf documentation on https://rapidsai.github.io/projects/cudf/en/latest/. For additional information on the UMAP model please refer to the documentation on https://rapidsai.github.io/projects/cuml/en/0.6.0/api.html#cuml.UMAP"
      ]
    },
    {
      "cell_type": "code",
      "metadata": {
        "id": "1KNoAoXNvy6K",
        "colab_type": "code",
        "colab": {}
      },
      "source": [
        "import os\n",
        "import time\n",
        "\n",
        "import numpy as np\n",
        "import pandas as pd\n",
        "\n",
        "from sklearn import datasets\n",
        "from sklearn.metrics import adjusted_rand_score\n",
        "from sklearn.cluster import KMeans\n",
        "from sklearn.manifold.t_sne import trustworthiness\n",
        "\n",
        "import cudf\n",
        "from cuml.manifold.umap import UMAP"
      ],
      "execution_count": 0,
      "outputs": []
    },
    {
      "cell_type": "markdown",
      "metadata": {
        "id": "-1nRorA1whd_",
        "colab_type": "text"
      },
      "source": [
        "## **Running cuML's UMAP model on blobs dataset** "
      ]
    },
    {
      "cell_type": "code",
      "metadata": {
        "id": "dXS-lW2EwU1N",
        "colab_type": "code",
        "colab": {}
      },
      "source": [
        "# create a blobs dataset with 500 samples and 10 features each\n",
        "data, labels = datasets.make_blobs(n_samples=500, \n",
        "                                   n_features=10, \n",
        "                                   centers=5)"
      ],
      "execution_count": 0,
      "outputs": []
    },
    {
      "cell_type": "code",
      "metadata": {
        "id": "Q5a2FVmsxIFG",
        "colab_type": "code",
        "outputId": "d1c46c5c-de31-4d62-fd8c-46ca9a379ebe",
        "colab": {
          "base_uri": "https://localhost:8080/",
          "height": 235
        }
      },
      "source": [
        "data"
      ],
      "execution_count": 0,
      "outputs": [
        {
          "output_type": "execute_result",
          "data": {
            "text/plain": [
              "array([[-2.8203916 , -8.43750851, -9.44213397, ..., -0.03165303,\n",
              "         1.59645202, -7.08641878],\n",
              "       [-3.26473405,  7.07186752, -0.20974529, ..., -4.39482572,\n",
              "        -6.04295568,  3.78476683],\n",
              "       [-3.38317467, -8.45884419, -8.84122805, ...,  0.80544156,\n",
              "         3.44170493, -8.70447048],\n",
              "       ...,\n",
              "       [-3.90600423,  6.03899939, -1.13111225, ..., -6.86805507,\n",
              "        -5.67892586,  5.67620332],\n",
              "       [-1.83913258, -7.54701579,  8.30393129, ...,  7.27440698,\n",
              "         3.06882864, -1.51429551],\n",
              "       [-5.09268082, -9.78286779, -9.28793852, ..., -0.3870805 ,\n",
              "         3.57216025, -7.84515385]])"
            ]
          },
          "metadata": {
            "tags": []
          },
          "execution_count": 7
        }
      ]
    },
    {
      "cell_type": "code",
      "metadata": {
        "id": "9C3onR-0xIvI",
        "colab_type": "code",
        "outputId": "9d08e96e-2056-4020-c024-f4c1830eebe2",
        "colab": {
          "base_uri": "https://localhost:8080/",
          "height": 34
        }
      },
      "source": [
        "type(data)"
      ],
      "execution_count": 0,
      "outputs": [
        {
          "output_type": "execute_result",
          "data": {
            "text/plain": [
              "numpy.ndarray"
            ]
          },
          "metadata": {
            "tags": []
          },
          "execution_count": 8
        }
      ]
    },
    {
      "cell_type": "code",
      "metadata": {
        "id": "mO1iHjYBxNE4",
        "colab_type": "code",
        "outputId": "df22283d-acb3-4651-91d8-b5da3a14a642",
        "colab": {
          "base_uri": "https://localhost:8080/",
          "height": 34
        }
      },
      "source": [
        "data.shape"
      ],
      "execution_count": 0,
      "outputs": [
        {
          "output_type": "execute_result",
          "data": {
            "text/plain": [
              "(500, 10)"
            ]
          },
          "metadata": {
            "tags": []
          },
          "execution_count": 10
        }
      ]
    },
    {
      "cell_type": "code",
      "metadata": {
        "id": "zPDQ5bAexatP",
        "colab_type": "code",
        "outputId": "90269941-0ebc-4dbd-eb25-63ab80d948da",
        "colab": {
          "base_uri": "https://localhost:8080/",
          "height": 34
        }
      },
      "source": [
        "data[0].shape"
      ],
      "execution_count": 0,
      "outputs": [
        {
          "output_type": "execute_result",
          "data": {
            "text/plain": [
              "(10,)"
            ]
          },
          "metadata": {
            "tags": []
          },
          "execution_count": 13
        }
      ]
    },
    {
      "cell_type": "code",
      "metadata": {
        "id": "c6gaFQ6yxQGp",
        "colab_type": "code",
        "outputId": "d3f54814-4544-43a8-cfd8-af49672061f4",
        "colab": {
          "base_uri": "https://localhost:8080/",
          "height": 403
        }
      },
      "source": [
        "labels"
      ],
      "execution_count": 0,
      "outputs": [
        {
          "output_type": "execute_result",
          "data": {
            "text/plain": [
              "array([1, 2, 1, 0, 3, 4, 2, 0, 1, 0, 3, 1, 0, 2, 2, 4, 3, 0, 2, 1, 4, 2,\n",
              "       1, 0, 3, 1, 4, 3, 4, 2, 3, 3, 0, 2, 4, 3, 3, 4, 3, 0, 0, 4, 0, 4,\n",
              "       1, 3, 2, 1, 2, 3, 1, 0, 1, 4, 0, 0, 2, 0, 1, 0, 4, 3, 0, 1, 3, 1,\n",
              "       3, 3, 4, 1, 2, 3, 1, 2, 0, 0, 4, 1, 0, 4, 1, 1, 2, 2, 1, 1, 2, 2,\n",
              "       3, 2, 0, 4, 0, 0, 4, 1, 2, 3, 3, 4, 4, 0, 4, 4, 0, 4, 0, 3, 1, 1,\n",
              "       1, 2, 2, 2, 3, 1, 2, 0, 1, 3, 3, 3, 3, 4, 0, 3, 2, 1, 4, 3, 3, 2,\n",
              "       4, 4, 3, 0, 3, 2, 1, 0, 0, 2, 1, 3, 3, 4, 2, 0, 0, 2, 1, 0, 3, 0,\n",
              "       0, 0, 4, 1, 1, 3, 0, 2, 1, 2, 3, 4, 4, 4, 3, 3, 3, 2, 4, 1, 2, 0,\n",
              "       4, 3, 1, 4, 1, 2, 3, 1, 3, 1, 0, 1, 1, 4, 2, 4, 3, 0, 0, 0, 4, 4,\n",
              "       2, 1, 2, 3, 2, 2, 1, 1, 4, 4, 4, 1, 4, 1, 4, 3, 3, 2, 4, 1, 1, 2,\n",
              "       1, 3, 0, 4, 1, 2, 1, 1, 4, 2, 4, 4, 2, 1, 3, 1, 1, 4, 1, 2, 4, 2,\n",
              "       2, 4, 0, 3, 2, 4, 0, 1, 4, 1, 1, 3, 4, 2, 4, 2, 1, 4, 3, 2, 4, 0,\n",
              "       0, 2, 1, 3, 4, 0, 0, 2, 4, 4, 2, 2, 2, 2, 2, 4, 0, 0, 3, 1, 2, 4,\n",
              "       2, 2, 3, 3, 4, 4, 4, 0, 0, 4, 4, 1, 2, 3, 2, 2, 0, 3, 1, 0, 2, 4,\n",
              "       3, 0, 4, 2, 3, 3, 4, 2, 3, 0, 2, 4, 3, 2, 3, 1, 1, 3, 2, 2, 0, 3,\n",
              "       1, 2, 3, 1, 0, 1, 1, 3, 1, 4, 0, 4, 0, 0, 1, 1, 2, 1, 0, 1, 3, 3,\n",
              "       3, 0, 4, 3, 3, 3, 4, 1, 4, 2, 3, 0, 3, 0, 1, 0, 0, 2, 0, 3, 2, 2,\n",
              "       4, 4, 2, 0, 0, 4, 1, 0, 4, 3, 1, 3, 4, 2, 0, 4, 1, 4, 0, 0, 1, 2,\n",
              "       1, 4, 4, 4, 4, 1, 1, 2, 3, 1, 3, 2, 0, 3, 0, 0, 3, 1, 1, 2, 0, 0,\n",
              "       3, 4, 1, 3, 2, 4, 1, 0, 0, 3, 2, 4, 0, 3, 4, 3, 4, 3, 4, 3, 2, 1,\n",
              "       2, 2, 0, 1, 3, 0, 4, 0, 0, 0, 4, 1, 2, 1, 1, 3, 2, 4, 2, 2, 0, 3,\n",
              "       1, 4, 2, 2, 0, 1, 0, 4, 0, 0, 4, 3, 1, 1, 2, 4, 3, 4, 0, 0, 2, 2,\n",
              "       2, 3, 2, 3, 0, 3, 0, 0, 3, 0, 1, 3, 3, 2, 0, 1])"
            ]
          },
          "metadata": {
            "tags": []
          },
          "execution_count": 11
        }
      ]
    },
    {
      "cell_type": "code",
      "metadata": {
        "id": "KpJH458lxU38",
        "colab_type": "code",
        "outputId": "dad7d98f-3658-4462-d3ac-55c2bb313272",
        "colab": {
          "base_uri": "https://localhost:8080/",
          "height": 104
        }
      },
      "source": [
        "%%time\n",
        "# using the cuML UMAP algorithm to reduce the features of the dataset and store\n",
        "embedding = UMAP().fit_transform(data)"
      ],
      "execution_count": 0,
      "outputs": [
        {
          "output_type": "stream",
          "text": [
            "/usr/local/lib/python3.6/dist-packages/ipykernel_launcher.py:2: UserWarning: Parameter should_downcast is deprecated, use convert_dtype in fit, fit_transform and transform  methods instead. \n",
            "  \n"
          ],
          "name": "stderr"
        },
        {
          "output_type": "stream",
          "text": [
            "CPU times: user 322 ms, sys: 276 ms, total: 598 ms\n",
            "Wall time: 570 ms\n"
          ],
          "name": "stdout"
        }
      ]
    },
    {
      "cell_type": "code",
      "metadata": {
        "id": "NV4XvB9Hxw-q",
        "colab_type": "code",
        "outputId": "c393d0a5-4cd5-41e6-9152-2982d9d0921b",
        "colab": {
          "base_uri": "https://localhost:8080/",
          "height": 1000
        }
      },
      "source": [
        "embedding"
      ],
      "execution_count": 0,
      "outputs": [
        {
          "output_type": "execute_result",
          "data": {
            "text/plain": [
              "array([[-9.71790886, -1.06669104],\n",
              "       [ 3.03743982,  6.53084564],\n",
              "       [-9.39633179, -1.34829009],\n",
              "       [ 8.40711117, -2.78378606],\n",
              "       [-1.85135686, -6.14635801],\n",
              "       [-5.01889372,  4.59532261],\n",
              "       [ 3.34662533,  6.86296463],\n",
              "       [ 8.41760921, -2.30855417],\n",
              "       [-9.7564373 , -1.10955894],\n",
              "       [ 8.2461729 , -2.76956677],\n",
              "       [-1.82163334, -6.49515247],\n",
              "       [-9.41491604, -1.31971979],\n",
              "       [ 8.45267296, -2.84942603],\n",
              "       [ 3.64207506,  6.89072657],\n",
              "       [ 3.35188961,  7.0506382 ],\n",
              "       [-4.87647867,  4.76091099],\n",
              "       [-1.84742594, -6.36158371],\n",
              "       [ 8.20178699, -2.65686679],\n",
              "       [ 3.48709631,  7.11754036],\n",
              "       [-9.23186016, -1.14718986],\n",
              "       [-5.09134531,  4.43067598],\n",
              "       [ 3.14451551,  6.50142717],\n",
              "       [-9.374156  , -1.52979827],\n",
              "       [ 8.73746967, -2.88244343],\n",
              "       [-1.81969559, -6.37029409],\n",
              "       [-9.33139801, -1.75873649],\n",
              "       [-5.07362175,  4.74781847],\n",
              "       [-1.69284558, -5.83842754],\n",
              "       [-5.04541302,  4.39514351],\n",
              "       [ 3.29724741,  6.56065083],\n",
              "       [-1.96167696, -6.30206013],\n",
              "       [-1.58309042, -5.9344902 ],\n",
              "       [ 8.37623692, -2.78697872],\n",
              "       [ 3.27445745,  7.16272211],\n",
              "       [-5.18010998,  4.51367712],\n",
              "       [-1.62334418, -6.54915285],\n",
              "       [-1.83827043, -6.00707197],\n",
              "       [-5.4608736 ,  4.91718245],\n",
              "       [-1.74513507, -5.9478693 ],\n",
              "       [ 8.51458645, -2.89877892],\n",
              "       [ 8.58496094, -2.62088513],\n",
              "       [-5.47857332,  4.87634802],\n",
              "       [ 8.31805038, -2.26562691],\n",
              "       [-5.08586121,  4.87150908],\n",
              "       [-9.70048618, -1.26180208],\n",
              "       [-1.85803282, -6.06625366],\n",
              "       [ 3.00270295,  6.63661051],\n",
              "       [-9.73312378, -1.0683614 ],\n",
              "       [ 3.48380709,  6.56788921],\n",
              "       [-1.95454907, -6.04480124],\n",
              "       [-9.73665142, -0.99721229],\n",
              "       [ 8.39522648, -2.76969361],\n",
              "       [-9.6122942 , -1.14151537],\n",
              "       [-5.39033079,  4.86210966],\n",
              "       [ 8.17283058, -2.51071692],\n",
              "       [ 8.36470795, -2.31505847],\n",
              "       [ 3.18377852,  6.54301786],\n",
              "       [ 8.83203506, -2.45767331],\n",
              "       [-9.75226688, -0.96977806],\n",
              "       [ 8.31726551, -2.89894605],\n",
              "       [-5.49112606,  5.07465315],\n",
              "       [-1.86520839, -6.1287384 ],\n",
              "       [ 8.33424282, -2.83554053],\n",
              "       [-9.72106647, -1.03076541],\n",
              "       [-1.67235911, -6.49233818],\n",
              "       [-9.44355488, -1.43367124],\n",
              "       [-1.41591978, -6.10301495],\n",
              "       [-1.49516463, -6.20108175],\n",
              "       [-5.10007191,  4.65284157],\n",
              "       [-9.75141525, -1.31658828],\n",
              "       [ 3.10897493,  6.68598366],\n",
              "       [-1.63697219, -5.83848715],\n",
              "       [-9.59270382, -1.66884387],\n",
              "       [ 3.40867686,  6.51151466],\n",
              "       [ 8.67663097, -2.39903069],\n",
              "       [ 8.43591881, -2.58110571],\n",
              "       [-4.9698143 ,  4.81157684],\n",
              "       [-9.74662876, -1.0480665 ],\n",
              "       [ 8.06894875, -2.61775064],\n",
              "       [-5.43669891,  4.5152874 ],\n",
              "       [-9.50547123, -1.55357635],\n",
              "       [-9.66133881, -1.41009367],\n",
              "       [ 3.45598125,  7.05721283],\n",
              "       [ 3.53938866,  6.74308825],\n",
              "       [-9.71093845, -1.10827494],\n",
              "       [-9.69267273, -0.99813432],\n",
              "       [ 2.98440051,  6.63458157],\n",
              "       [ 3.49356055,  6.96617031],\n",
              "       [-1.67125118, -5.82091904],\n",
              "       [ 3.30329418,  6.7635026 ],\n",
              "       [ 8.62165356, -2.81564975],\n",
              "       [-5.36726665,  4.53506565],\n",
              "       [ 8.44847107, -2.61154389],\n",
              "       [ 8.31778431, -2.69508982],\n",
              "       [-5.37855387,  4.45231724],\n",
              "       [-9.32282543, -1.76760018],\n",
              "       [ 3.47222281,  6.73134899],\n",
              "       [-1.77852654, -6.26992512],\n",
              "       [-1.99984455, -6.1558814 ],\n",
              "       [-5.50278473,  5.06603718],\n",
              "       [-5.34343719,  4.61204386],\n",
              "       [ 8.57683277, -2.30618453],\n",
              "       [-5.02303696,  4.84406805],\n",
              "       [-5.44883728,  5.04468346],\n",
              "       [ 8.364398  , -2.62340522],\n",
              "       [-5.31720018,  5.18170595],\n",
              "       [ 8.7993784 , -2.60760641],\n",
              "       [-1.66059613, -5.77803469],\n",
              "       [-9.50843811, -1.00713277],\n",
              "       [-9.80900669, -1.48781526],\n",
              "       [-9.21162319, -1.58659089],\n",
              "       [ 3.05940914,  6.5655303 ],\n",
              "       [ 3.17434978,  7.02352858],\n",
              "       [ 3.13623071,  6.55261707],\n",
              "       [-1.5472703 , -5.9258008 ],\n",
              "       [-9.72681332, -1.19156599],\n",
              "       [ 3.48532557,  7.04029894],\n",
              "       [ 8.69892693, -2.62555885],\n",
              "       [-9.3102417 , -1.04943025],\n",
              "       [-1.48857558, -5.96947336],\n",
              "       [-1.67267323, -6.09620237],\n",
              "       [-1.76679528, -6.49966621],\n",
              "       [-1.63546014, -5.99185324],\n",
              "       [-5.30504322,  4.90227175],\n",
              "       [ 8.25339794, -2.82665682],\n",
              "       [-1.6813041 , -6.22712898],\n",
              "       [ 3.47419167,  6.90310717],\n",
              "       [-9.59701443, -1.78476703],\n",
              "       [-5.09026527,  5.01431561],\n",
              "       [-1.76028752, -5.85939741],\n",
              "       [-1.5019182 , -6.13178682],\n",
              "       [ 3.51950192,  6.83776236],\n",
              "       [-5.26616907,  4.60007334],\n",
              "       [-4.99263382,  4.42698812],\n",
              "       [-1.70999289, -5.78674507],\n",
              "       [ 8.20133209, -2.70703197],\n",
              "       [-1.86709523, -5.9596324 ],\n",
              "       [ 3.46932316,  6.57589102],\n",
              "       [-9.36584663, -1.73775399],\n",
              "       [ 8.22359276, -2.38537836],\n",
              "       [ 8.34300423, -2.27742386],\n",
              "       [ 3.5293324 ,  6.6028533 ],\n",
              "       [-9.53439713, -1.58553553],\n",
              "       [-1.78155756, -6.08498144],\n",
              "       [-1.68684459, -6.59489059],\n",
              "       [-4.96526051,  4.60104465],\n",
              "       [ 3.54940724,  6.74802113],\n",
              "       [ 8.1889267 , -2.51429391],\n",
              "       [ 8.63202858, -2.68779349],\n",
              "       [ 3.07449865,  7.13491011],\n",
              "       [-9.62008762, -1.28831291],\n",
              "       [ 8.75754929, -2.82838154],\n",
              "       [-1.77982473, -6.4838891 ],\n",
              "       [ 8.51643848, -2.365026  ],\n",
              "       [ 8.17002773, -2.70634437],\n",
              "       [ 8.37453842, -2.29089022],\n",
              "       [-5.5319171 ,  4.91863871],\n",
              "       [-9.33645916, -1.44538212],\n",
              "       [-9.32062244, -1.6672473 ],\n",
              "       [-1.49197614, -6.4275465 ],\n",
              "       [ 8.70431805, -2.82199836],\n",
              "       [ 3.40392184,  7.01640463],\n",
              "       [-9.39395046, -1.71106648],\n",
              "       [ 3.36228943,  7.07634497],\n",
              "       [-1.5451318 , -6.23270082],\n",
              "       [-5.0433073 ,  4.87410259],\n",
              "       [-5.57032442,  4.75668669],\n",
              "       [-5.09091043,  4.77641439],\n",
              "       [-1.57212996, -6.46350384],\n",
              "       [-1.51643324, -5.85934734],\n",
              "       [-1.46724439, -6.69296408],\n",
              "       [ 3.4172256 ,  6.52648354],\n",
              "       [-5.33222437,  5.23714495],\n",
              "       [-9.33541775, -1.38119316],\n",
              "       [ 3.36861634,  7.10586357],\n",
              "       [ 8.32527447, -2.91757989],\n",
              "       [-4.98805571,  4.98229313],\n",
              "       [-1.53254616, -6.06089544],\n",
              "       [-9.5726862 , -1.36492157],\n",
              "       [-5.14221001,  4.57618618],\n",
              "       [-9.42475033, -1.31479669],\n",
              "       [ 3.11966586,  7.1628108 ],\n",
              "       [-1.54016089, -6.16136932],\n",
              "       [-9.70951557, -0.99006343],\n",
              "       [-1.61433911, -6.66389084],\n",
              "       [-9.60237217, -0.94929963],\n",
              "       [ 8.57747459, -2.30986667],\n",
              "       [-9.32634068, -1.45332372],\n",
              "       [-9.53641033, -1.64482188],\n",
              "       [-4.99820185,  4.65937519],\n",
              "       [ 3.04992032,  7.12844133],\n",
              "       [-5.56365252,  4.88135195],\n",
              "       [-1.43101478, -5.98134899],\n",
              "       [ 8.25417233, -2.87163043],\n",
              "       [ 8.78782558, -2.34784675],\n",
              "       [ 8.8322916 , -2.66800952],\n",
              "       [-5.18764114,  4.4095459 ],\n",
              "       [-5.45125246,  4.6307559 ],\n",
              "       [ 3.30678463,  6.77248812],\n",
              "       [-9.5872345 , -1.47023046],\n",
              "       [ 3.00519395,  6.76923752],\n",
              "       [-1.80758774, -6.45585823],\n",
              "       [ 3.14691687,  6.9645071 ],\n",
              "       [ 3.26291561,  6.62799072],\n",
              "       [-9.28577137, -1.7177943 ],\n",
              "       [-9.30626202, -1.65579283],\n",
              "       [-5.30563164,  4.45248222],\n",
              "       [-5.25605011,  4.49497509],\n",
              "       [-5.38329315,  4.55210924],\n",
              "       [-9.34802818, -1.69302261],\n",
              "       [-5.05836868,  5.00065231],\n",
              "       [-9.34354115, -1.64064157],\n",
              "       [-5.3839159 ,  5.11947823],\n",
              "       [-1.86811864, -6.36931658],\n",
              "       [-1.58424389, -6.62615442],\n",
              "       [ 3.50310993,  6.94519997],\n",
              "       [-5.22239256,  4.50175762],\n",
              "       [-9.66951466, -1.11842072],\n",
              "       [-9.4995203 , -1.45161498],\n",
              "       [ 3.13772798,  6.76525974],\n",
              "       [-9.24851036, -1.63103139],\n",
              "       [-1.68825459, -6.28015184],\n",
              "       [ 8.48114967, -2.79157543],\n",
              "       [-5.04003143,  4.94566965],\n",
              "       [-9.54719162, -1.09509075],\n",
              "       [ 3.61835861,  7.11636972],\n",
              "       [-9.23878956, -1.78615475],\n",
              "       [-9.49313641, -1.2721628 ],\n",
              "       [-5.24549437,  4.53233337],\n",
              "       [ 3.1631341 ,  6.79524183],\n",
              "       [-5.06307983,  4.34892464],\n",
              "       [-5.231112  ,  5.0254941 ],\n",
              "       [ 3.02017879,  6.59289789],\n",
              "       [-9.36888027, -0.9306851 ],\n",
              "       [-1.83993173, -6.13904381],\n",
              "       [-9.48720264, -1.70860755],\n",
              "       [-9.52664566, -1.56769884],\n",
              "       [-5.24328613,  4.81324959],\n",
              "       [-9.60598755, -0.95725948],\n",
              "       [ 3.4275887 ,  6.92116356],\n",
              "       [-5.06219769,  4.8623662 ],\n",
              "       [ 3.02364063,  6.66571951],\n",
              "       [ 3.11880422,  6.61574554],\n",
              "       [-4.85402012,  4.86293077],\n",
              "       [ 8.77169704, -2.61719179],\n",
              "       [-1.8431915 , -6.11213875],\n",
              "       [ 3.49839544,  6.79157591],\n",
              "       [-5.43904543,  5.18311453],\n",
              "       [ 8.85861874, -2.62494874],\n",
              "       [-9.38920021, -1.34747601],\n",
              "       [-5.44703007,  4.38633347],\n",
              "       [-9.52782631, -1.1137073 ],\n",
              "       [-9.74000072, -1.31532013],\n",
              "       [-1.61031938, -6.1312356 ],\n",
              "       [-5.31124353,  4.91965818],\n",
              "       [ 3.07722211,  6.76234579],\n",
              "       [-5.19886732,  5.00040054],\n",
              "       [ 3.38404655,  6.80046797],\n",
              "       [-9.55883884, -1.22347665],\n",
              "       [-5.22646809,  4.54624748],\n",
              "       [-1.86460888, -6.40748644],\n",
              "       [ 3.57263684,  7.02283669],\n",
              "       [-5.55877686,  4.78404522],\n",
              "       [ 8.25423717, -2.7881124 ],\n",
              "       [ 8.22408295, -2.7753787 ],\n",
              "       [ 3.32826281,  7.1871562 ],\n",
              "       [-9.54479027, -1.0130235 ],\n",
              "       [-1.88647628, -6.51212072],\n",
              "       [-5.55459166,  4.84910679],\n",
              "       [ 8.64198494, -2.75876546],\n",
              "       [ 8.50299835, -2.46462846],\n",
              "       [ 3.32853913,  7.15021944],\n",
              "       [-5.40106392,  5.08041906],\n",
              "       [-5.42370033,  5.06631613],\n",
              "       [ 3.07438111,  7.01931953],\n",
              "       [ 2.97093463,  6.79647779],\n",
              "       [ 3.13635945,  6.53073025],\n",
              "       [ 3.65553474,  6.71325922],\n",
              "       [ 3.58593917,  6.89457417],\n",
              "       [-5.45023966,  5.07040596],\n",
              "       [ 8.53155136, -2.31002569],\n",
              "       [ 8.22780609, -3.03406811],\n",
              "       [-1.63312709, -6.37611103],\n",
              "       [-9.87418842, -1.45725739],\n",
              "       [ 3.43887997,  6.79366112],\n",
              "       [-5.53292322,  4.76602459],\n",
              "       [ 3.4866519 ,  7.01185417],\n",
              "       [ 3.325423  ,  6.93074417],\n",
              "       [-1.44593918, -6.54589081],\n",
              "       [-1.51238787, -6.03659773],\n",
              "       [-4.97079945,  4.83605862],\n",
              "       [-5.37306786,  4.47530508],\n",
              "       [-5.13113356,  5.03235817],\n",
              "       [ 8.23990917, -2.63386989],\n",
              "       [ 8.80947495, -2.64149117],\n",
              "       [-5.45909882,  5.03234673],\n",
              "       [-5.01811075,  4.41982937],\n",
              "       [-9.46589184, -1.56776237],\n",
              "       [ 3.0713532 ,  6.6731863 ],\n",
              "       [-1.61581552, -5.97502613],\n",
              "       [ 3.12445831,  6.81916094],\n",
              "       [ 3.07931709,  6.52027655],\n",
              "       [ 8.50337029, -2.65627789],\n",
              "       [-1.49104536, -5.97198868],\n",
              "       [-9.4410553 , -1.70413673],\n",
              "       [ 8.36682415, -2.46983004],\n",
              "       [ 3.05834174,  6.62402105],\n",
              "       [-5.36795568,  5.09671164],\n",
              "       [-1.43304336, -5.93060017],\n",
              "       [ 8.49784756, -2.339149  ],\n",
              "       [-5.4764657 ,  5.09580851],\n",
              "       [ 3.61717463,  6.69364595],\n",
              "       [-1.39540339, -5.99621964],\n",
              "       [-1.70832241, -5.99995518],\n",
              "       [-5.14398527,  4.77086258],\n",
              "       [ 3.5829494 ,  6.85123587],\n",
              "       [-1.64598227, -6.12052536],\n",
              "       [ 8.47706413, -2.36201024],\n",
              "       [ 3.25000978,  6.59572315],\n",
              "       [-5.33165646,  4.48031235],\n",
              "       [-1.72792327, -5.9178648 ],\n",
              "       [ 3.53220296,  6.94601631],\n",
              "       [-1.74674606, -6.21205044],\n",
              "       [-9.44290924, -1.44310582],\n",
              "       [-9.57169724, -1.15345871],\n",
              "       [-1.46864772, -6.30485201],\n",
              "       [ 3.43698311,  6.92693043],\n",
              "       [ 3.45166278,  7.09774494],\n",
              "       [ 8.55549526, -2.44895101],\n",
              "       [-1.91230595, -5.92941475],\n",
              "       [-9.53453159, -1.50389791],\n",
              "       [ 3.12748313,  7.06864214],\n",
              "       [-1.93758595, -6.18740559],\n",
              "       [-9.7189064 , -1.36901176],\n",
              "       [ 8.54032612, -2.67467499],\n",
              "       [-9.51809788, -1.35880375],\n",
              "       [-9.66551208, -1.3471185 ],\n",
              "       [-1.49843037, -6.34604025],\n",
              "       [-9.57769489, -1.44283628],\n",
              "       [-4.93722153,  4.88998413],\n",
              "       [ 8.21063232, -2.605762  ],\n",
              "       [-5.00249338,  4.78249836],\n",
              "       [ 8.2156105 , -2.97439766],\n",
              "       [ 8.63390923, -2.7385273 ],\n",
              "       [-9.81138611, -1.11632526],\n",
              "       [-9.78207016, -1.36973381],\n",
              "       [ 3.25225019,  6.82332897],\n",
              "       [-9.52333355, -1.21324682],\n",
              "       [ 8.81248379, -2.53295517],\n",
              "       [-9.39822006, -1.43234718],\n",
              "       [-1.7204386 , -6.04342556],\n",
              "       [-1.94298816, -6.42448616],\n",
              "       [-1.65527511, -6.19570684],\n",
              "       [ 8.54264832, -2.50523353],\n",
              "       [-5.3781414 ,  4.75212431],\n",
              "       [-1.46333539, -6.03684807],\n",
              "       [-1.69353783, -5.99979687],\n",
              "       [-1.81253779, -6.49816036],\n",
              "       [-5.20374012,  4.93356228],\n",
              "       [-9.32951736, -1.57456553],\n",
              "       [-5.01052809,  4.87135077],\n",
              "       [ 3.52921462,  6.76865005],\n",
              "       [-1.91391289, -5.95015717],\n",
              "       [ 8.74632454, -2.50952435],\n",
              "       [-1.84907258, -5.95460987],\n",
              "       [ 8.78594589, -2.57309866],\n",
              "       [-9.73354912, -1.30087793],\n",
              "       [ 8.26880836, -2.99167705],\n",
              "       [ 8.82750511, -2.53320026],\n",
              "       [ 3.00148726,  6.56213331],\n",
              "       [ 8.61895084, -2.85713816],\n",
              "       [-1.66247141, -6.40056419],\n",
              "       [ 3.31662774,  6.88293934],\n",
              "       [ 3.30255604,  6.92859364],\n",
              "       [-5.10511351,  4.599792  ],\n",
              "       [-5.3424201 ,  4.91511059],\n",
              "       [ 3.34496856,  6.63821459],\n",
              "       [ 8.39749622, -2.68191981],\n",
              "       [ 8.46302128, -2.66743612],\n",
              "       [-5.1858263 ,  4.59459162],\n",
              "       [-9.4747467 , -1.15868747],\n",
              "       [ 8.33473396, -2.70786452],\n",
              "       [-5.03442478,  5.11221123],\n",
              "       [-1.80634737, -6.38238621],\n",
              "       [-9.40274048, -1.38140953],\n",
              "       [-1.37691724, -6.12084198],\n",
              "       [-4.9143815 ,  4.68025112],\n",
              "       [ 3.27293682,  7.02053404],\n",
              "       [ 8.8418932 , -2.41329288],\n",
              "       [-5.31396532,  5.17689037],\n",
              "       [-9.42469978, -1.42163241],\n",
              "       [-4.98578358,  4.79625559],\n",
              "       [ 8.55201244, -2.62082911],\n",
              "       [ 8.8547163 , -2.49103546],\n",
              "       [-9.57286644, -1.25807798],\n",
              "       [ 2.94386649,  6.73729753],\n",
              "       [-9.57100582, -1.30933857],\n",
              "       [-5.13351059,  5.03041744],\n",
              "       [-4.89927769,  4.87199211],\n",
              "       [-4.96482086,  4.56353951],\n",
              "       [-5.09971905,  4.7286253 ],\n",
              "       [-9.67538643, -1.47877872],\n",
              "       [-9.6621933 , -1.39662337],\n",
              "       [ 3.37296295,  7.04642105],\n",
              "       [-1.78259778, -6.47051907],\n",
              "       [-9.22888565, -1.12627983],\n",
              "       [-1.40728176, -6.32205534],\n",
              "       [ 3.55929947,  6.93536806],\n",
              "       [ 8.87487602, -2.48175573],\n",
              "       [-1.88602972, -6.42924118],\n",
              "       [ 8.69442844, -2.45281315],\n",
              "       [ 8.2569046 , -2.29867935],\n",
              "       [-1.969643  , -6.14775276],\n",
              "       [-9.55606174, -1.3307513 ],\n",
              "       [-9.27655983, -1.61054051],\n",
              "       [ 3.38488674,  6.65496778],\n",
              "       [ 8.34975147, -2.8387723 ],\n",
              "       [ 8.406003  , -2.7453239 ],\n",
              "       [-1.84130657, -6.47864103],\n",
              "       [-5.16745567,  4.53066635],\n",
              "       [-9.4739275 , -1.57483566],\n",
              "       [-1.66859138, -5.8687501 ],\n",
              "       [ 3.26297379,  6.94251156],\n",
              "       [-4.94761992,  4.89458609],\n",
              "       [-9.59299374, -1.14512897],\n",
              "       [ 8.48606968, -2.80896115],\n",
              "       [ 8.33870411, -2.77494478],\n",
              "       [-1.46483672, -5.99048328],\n",
              "       [ 3.08304286,  6.88450384],\n",
              "       [-4.92072773,  4.75182772],\n",
              "       [ 8.45931625, -2.57514596],\n",
              "       [-1.49498737, -6.4973731 ],\n",
              "       [-4.97393942,  4.97415972],\n",
              "       [-1.60055637, -6.41263676],\n",
              "       [-4.92510939,  4.78355074],\n",
              "       [-1.45375323, -6.06345272],\n",
              "       [-5.31015205,  4.32173729],\n",
              "       [-1.55163503, -6.62239122],\n",
              "       [ 3.19195437,  6.50700998],\n",
              "       [-9.46700859, -1.53037107],\n",
              "       [ 3.14601254,  7.12184191],\n",
              "       [ 3.25731087,  6.58971405],\n",
              "       [ 8.52617264, -2.71190023],\n",
              "       [-9.58738136, -1.51092994],\n",
              "       [-1.64742339, -5.82771444],\n",
              "       [ 8.28427696, -2.86405182],\n",
              "       [-5.09193516,  4.65392113],\n",
              "       [ 8.33847427, -2.86748242],\n",
              "       [ 8.1268034 , -2.80292535],\n",
              "       [ 8.75021076, -2.62610269],\n",
              "       [-5.18518782,  4.5245533 ],\n",
              "       [-9.529109  , -1.4279685 ],\n",
              "       [ 3.44194913,  6.9882741 ],\n",
              "       [-9.50025749, -1.61332035],\n",
              "       [-9.17165565, -1.22958314],\n",
              "       [-1.48144221, -5.9970336 ],\n",
              "       [ 3.11042666,  6.92558479],\n",
              "       [-5.37791824,  5.13345909],\n",
              "       [ 3.25677729,  7.04513502],\n",
              "       [ 3.11833286,  6.95736265],\n",
              "       [ 8.59887981, -2.47372675],\n",
              "       [-1.76350415, -6.1491251 ],\n",
              "       [-9.38065243, -1.76457286],\n",
              "       [-5.41865158,  4.50416183],\n",
              "       [ 3.12050629,  6.66280603],\n",
              "       [ 3.10004878,  6.62559557],\n",
              "       [ 8.37027264, -2.91514373],\n",
              "       [-9.31501198, -1.40222883],\n",
              "       [ 8.61262608, -2.79003787],\n",
              "       [-4.95542669,  4.77953625],\n",
              "       [ 8.77424526, -2.55886912],\n",
              "       [ 8.31766891, -2.81051278],\n",
              "       [-5.3257494 ,  5.14834356],\n",
              "       [-1.64505315, -6.31912756],\n",
              "       [-9.28865337, -1.69968545],\n",
              "       [-9.72981548, -1.13607514],\n",
              "       [ 3.04679108,  6.78264475],\n",
              "       [-5.35311413,  4.43656206],\n",
              "       [-1.65314031, -6.12992191],\n",
              "       [-5.3305335 ,  4.92225218],\n",
              "       [ 8.2258215 , -2.9825983 ],\n",
              "       [ 8.72496414, -2.3988781 ],\n",
              "       [ 3.29221797,  6.605443  ],\n",
              "       [ 3.01025677,  6.91089582],\n",
              "       [ 3.2646153 ,  7.08038473],\n",
              "       [-1.9587208 , -6.27085972],\n",
              "       [ 3.07462811,  7.06839228],\n",
              "       [-1.41513658, -6.2990222 ],\n",
              "       [ 8.56464767, -2.64385653],\n",
              "       [-1.57378745, -6.55152225],\n",
              "       [ 8.23350239, -3.01913452],\n",
              "       [ 8.29714108, -2.37149096],\n",
              "       [-1.7968961 , -6.26282883],\n",
              "       [ 8.20951653, -2.49736881],\n",
              "       [-9.54658413, -0.97689766],\n",
              "       [-1.68985617, -6.55352259],\n",
              "       [-1.83854258, -6.1598506 ],\n",
              "       [ 3.43595958,  6.85174704],\n",
              "       [ 8.64791393, -2.85721612],\n",
              "       [-9.40676498, -1.39345777]])"
            ]
          },
          "metadata": {
            "tags": []
          },
          "execution_count": 16
        }
      ]
    },
    {
      "cell_type": "code",
      "metadata": {
        "id": "Gmp8ApVax39o",
        "colab_type": "code",
        "outputId": "aceb1317-9a35-4c84-b09b-e9dfa2969b12",
        "colab": {
          "base_uri": "https://localhost:8080/",
          "height": 34
        }
      },
      "source": [
        "embedding.shape"
      ],
      "execution_count": 0,
      "outputs": [
        {
          "output_type": "execute_result",
          "data": {
            "text/plain": [
              "(500, 2)"
            ]
          },
          "metadata": {
            "tags": []
          },
          "execution_count": 17
        }
      ]
    },
    {
      "cell_type": "code",
      "metadata": {
        "id": "RDlpgaPzx-6l",
        "colab_type": "code",
        "outputId": "6e7d1ca7-ebb9-4f64-93f7-867cdadf7b13",
        "colab": {
          "base_uri": "https://localhost:8080/",
          "height": 34
        }
      },
      "source": [
        "# calculate the score of the results obtained using cuML's algorithm and sklearn kmeans\n",
        "score = adjusted_rand_score(labels,\n",
        "                            KMeans(5).fit_predict(embedding))\n",
        "print(score) # should equal 1.0"
      ],
      "execution_count": 0,
      "outputs": [
        {
          "output_type": "stream",
          "text": [
            "1.0\n"
          ],
          "name": "stdout"
        }
      ]
    },
    {
      "cell_type": "markdown",
      "metadata": {
        "id": "GGxREL6YyelU",
        "colab_type": "text"
      },
      "source": [
        "## **Running cuML's UMAP model on iris dataset**"
      ]
    },
    {
      "cell_type": "code",
      "metadata": {
        "id": "7VkqD2V6yWrN",
        "colab_type": "code",
        "colab": {}
      },
      "source": [
        "# load the iris dataset from sklearn and extract the required information\n",
        "iris = datasets.load_iris()\n",
        "data = iris.data"
      ],
      "execution_count": 0,
      "outputs": []
    },
    {
      "cell_type": "code",
      "metadata": {
        "id": "AEJU_8t4zo-P",
        "colab_type": "code",
        "outputId": "bb014db3-e337-4ecc-aff4-d48ad76e1d26",
        "colab": {
          "base_uri": "https://localhost:8080/",
          "height": 1000
        }
      },
      "source": [
        "iris"
      ],
      "execution_count": 0,
      "outputs": [
        {
          "output_type": "execute_result",
          "data": {
            "text/plain": [
              "{'DESCR': '.. _iris_dataset:\\n\\nIris plants dataset\\n--------------------\\n\\n**Data Set Characteristics:**\\n\\n    :Number of Instances: 150 (50 in each of three classes)\\n    :Number of Attributes: 4 numeric, predictive attributes and the class\\n    :Attribute Information:\\n        - sepal length in cm\\n        - sepal width in cm\\n        - petal length in cm\\n        - petal width in cm\\n        - class:\\n                - Iris-Setosa\\n                - Iris-Versicolour\\n                - Iris-Virginica\\n                \\n    :Summary Statistics:\\n\\n    ============== ==== ==== ======= ===== ====================\\n                    Min  Max   Mean    SD   Class Correlation\\n    ============== ==== ==== ======= ===== ====================\\n    sepal length:   4.3  7.9   5.84   0.83    0.7826\\n    sepal width:    2.0  4.4   3.05   0.43   -0.4194\\n    petal length:   1.0  6.9   3.76   1.76    0.9490  (high!)\\n    petal width:    0.1  2.5   1.20   0.76    0.9565  (high!)\\n    ============== ==== ==== ======= ===== ====================\\n\\n    :Missing Attribute Values: None\\n    :Class Distribution: 33.3% for each of 3 classes.\\n    :Creator: R.A. Fisher\\n    :Donor: Michael Marshall (MARSHALL%PLU@io.arc.nasa.gov)\\n    :Date: July, 1988\\n\\nThe famous Iris database, first used by Sir R.A. Fisher. The dataset is taken\\nfrom Fisher\\'s paper. Note that it\\'s the same as in R, but not as in the UCI\\nMachine Learning Repository, which has two wrong data points.\\n\\nThis is perhaps the best known database to be found in the\\npattern recognition literature.  Fisher\\'s paper is a classic in the field and\\nis referenced frequently to this day.  (See Duda & Hart, for example.)  The\\ndata set contains 3 classes of 50 instances each, where each class refers to a\\ntype of iris plant.  One class is linearly separable from the other 2; the\\nlatter are NOT linearly separable from each other.\\n\\n.. topic:: References\\n\\n   - Fisher, R.A. \"The use of multiple measurements in taxonomic problems\"\\n     Annual Eugenics, 7, Part II, 179-188 (1936); also in \"Contributions to\\n     Mathematical Statistics\" (John Wiley, NY, 1950).\\n   - Duda, R.O., & Hart, P.E. (1973) Pattern Classification and Scene Analysis.\\n     (Q327.D83) John Wiley & Sons.  ISBN 0-471-22361-1.  See page 218.\\n   - Dasarathy, B.V. (1980) \"Nosing Around the Neighborhood: A New System\\n     Structure and Classification Rule for Recognition in Partially Exposed\\n     Environments\".  IEEE Transactions on Pattern Analysis and Machine\\n     Intelligence, Vol. PAMI-2, No. 1, 67-71.\\n   - Gates, G.W. (1972) \"The Reduced Nearest Neighbor Rule\".  IEEE Transactions\\n     on Information Theory, May 1972, 431-433.\\n   - See also: 1988 MLC Proceedings, 54-64.  Cheeseman et al\"s AUTOCLASS II\\n     conceptual clustering system finds 3 classes in the data.\\n   - Many, many more ...',\n",
              " 'data': array([[5.1, 3.5, 1.4, 0.2],\n",
              "        [4.9, 3. , 1.4, 0.2],\n",
              "        [4.7, 3.2, 1.3, 0.2],\n",
              "        [4.6, 3.1, 1.5, 0.2],\n",
              "        [5. , 3.6, 1.4, 0.2],\n",
              "        [5.4, 3.9, 1.7, 0.4],\n",
              "        [4.6, 3.4, 1.4, 0.3],\n",
              "        [5. , 3.4, 1.5, 0.2],\n",
              "        [4.4, 2.9, 1.4, 0.2],\n",
              "        [4.9, 3.1, 1.5, 0.1],\n",
              "        [5.4, 3.7, 1.5, 0.2],\n",
              "        [4.8, 3.4, 1.6, 0.2],\n",
              "        [4.8, 3. , 1.4, 0.1],\n",
              "        [4.3, 3. , 1.1, 0.1],\n",
              "        [5.8, 4. , 1.2, 0.2],\n",
              "        [5.7, 4.4, 1.5, 0.4],\n",
              "        [5.4, 3.9, 1.3, 0.4],\n",
              "        [5.1, 3.5, 1.4, 0.3],\n",
              "        [5.7, 3.8, 1.7, 0.3],\n",
              "        [5.1, 3.8, 1.5, 0.3],\n",
              "        [5.4, 3.4, 1.7, 0.2],\n",
              "        [5.1, 3.7, 1.5, 0.4],\n",
              "        [4.6, 3.6, 1. , 0.2],\n",
              "        [5.1, 3.3, 1.7, 0.5],\n",
              "        [4.8, 3.4, 1.9, 0.2],\n",
              "        [5. , 3. , 1.6, 0.2],\n",
              "        [5. , 3.4, 1.6, 0.4],\n",
              "        [5.2, 3.5, 1.5, 0.2],\n",
              "        [5.2, 3.4, 1.4, 0.2],\n",
              "        [4.7, 3.2, 1.6, 0.2],\n",
              "        [4.8, 3.1, 1.6, 0.2],\n",
              "        [5.4, 3.4, 1.5, 0.4],\n",
              "        [5.2, 4.1, 1.5, 0.1],\n",
              "        [5.5, 4.2, 1.4, 0.2],\n",
              "        [4.9, 3.1, 1.5, 0.2],\n",
              "        [5. , 3.2, 1.2, 0.2],\n",
              "        [5.5, 3.5, 1.3, 0.2],\n",
              "        [4.9, 3.6, 1.4, 0.1],\n",
              "        [4.4, 3. , 1.3, 0.2],\n",
              "        [5.1, 3.4, 1.5, 0.2],\n",
              "        [5. , 3.5, 1.3, 0.3],\n",
              "        [4.5, 2.3, 1.3, 0.3],\n",
              "        [4.4, 3.2, 1.3, 0.2],\n",
              "        [5. , 3.5, 1.6, 0.6],\n",
              "        [5.1, 3.8, 1.9, 0.4],\n",
              "        [4.8, 3. , 1.4, 0.3],\n",
              "        [5.1, 3.8, 1.6, 0.2],\n",
              "        [4.6, 3.2, 1.4, 0.2],\n",
              "        [5.3, 3.7, 1.5, 0.2],\n",
              "        [5. , 3.3, 1.4, 0.2],\n",
              "        [7. , 3.2, 4.7, 1.4],\n",
              "        [6.4, 3.2, 4.5, 1.5],\n",
              "        [6.9, 3.1, 4.9, 1.5],\n",
              "        [5.5, 2.3, 4. , 1.3],\n",
              "        [6.5, 2.8, 4.6, 1.5],\n",
              "        [5.7, 2.8, 4.5, 1.3],\n",
              "        [6.3, 3.3, 4.7, 1.6],\n",
              "        [4.9, 2.4, 3.3, 1. ],\n",
              "        [6.6, 2.9, 4.6, 1.3],\n",
              "        [5.2, 2.7, 3.9, 1.4],\n",
              "        [5. , 2. , 3.5, 1. ],\n",
              "        [5.9, 3. , 4.2, 1.5],\n",
              "        [6. , 2.2, 4. , 1. ],\n",
              "        [6.1, 2.9, 4.7, 1.4],\n",
              "        [5.6, 2.9, 3.6, 1.3],\n",
              "        [6.7, 3.1, 4.4, 1.4],\n",
              "        [5.6, 3. , 4.5, 1.5],\n",
              "        [5.8, 2.7, 4.1, 1. ],\n",
              "        [6.2, 2.2, 4.5, 1.5],\n",
              "        [5.6, 2.5, 3.9, 1.1],\n",
              "        [5.9, 3.2, 4.8, 1.8],\n",
              "        [6.1, 2.8, 4. , 1.3],\n",
              "        [6.3, 2.5, 4.9, 1.5],\n",
              "        [6.1, 2.8, 4.7, 1.2],\n",
              "        [6.4, 2.9, 4.3, 1.3],\n",
              "        [6.6, 3. , 4.4, 1.4],\n",
              "        [6.8, 2.8, 4.8, 1.4],\n",
              "        [6.7, 3. , 5. , 1.7],\n",
              "        [6. , 2.9, 4.5, 1.5],\n",
              "        [5.7, 2.6, 3.5, 1. ],\n",
              "        [5.5, 2.4, 3.8, 1.1],\n",
              "        [5.5, 2.4, 3.7, 1. ],\n",
              "        [5.8, 2.7, 3.9, 1.2],\n",
              "        [6. , 2.7, 5.1, 1.6],\n",
              "        [5.4, 3. , 4.5, 1.5],\n",
              "        [6. , 3.4, 4.5, 1.6],\n",
              "        [6.7, 3.1, 4.7, 1.5],\n",
              "        [6.3, 2.3, 4.4, 1.3],\n",
              "        [5.6, 3. , 4.1, 1.3],\n",
              "        [5.5, 2.5, 4. , 1.3],\n",
              "        [5.5, 2.6, 4.4, 1.2],\n",
              "        [6.1, 3. , 4.6, 1.4],\n",
              "        [5.8, 2.6, 4. , 1.2],\n",
              "        [5. , 2.3, 3.3, 1. ],\n",
              "        [5.6, 2.7, 4.2, 1.3],\n",
              "        [5.7, 3. , 4.2, 1.2],\n",
              "        [5.7, 2.9, 4.2, 1.3],\n",
              "        [6.2, 2.9, 4.3, 1.3],\n",
              "        [5.1, 2.5, 3. , 1.1],\n",
              "        [5.7, 2.8, 4.1, 1.3],\n",
              "        [6.3, 3.3, 6. , 2.5],\n",
              "        [5.8, 2.7, 5.1, 1.9],\n",
              "        [7.1, 3. , 5.9, 2.1],\n",
              "        [6.3, 2.9, 5.6, 1.8],\n",
              "        [6.5, 3. , 5.8, 2.2],\n",
              "        [7.6, 3. , 6.6, 2.1],\n",
              "        [4.9, 2.5, 4.5, 1.7],\n",
              "        [7.3, 2.9, 6.3, 1.8],\n",
              "        [6.7, 2.5, 5.8, 1.8],\n",
              "        [7.2, 3.6, 6.1, 2.5],\n",
              "        [6.5, 3.2, 5.1, 2. ],\n",
              "        [6.4, 2.7, 5.3, 1.9],\n",
              "        [6.8, 3. , 5.5, 2.1],\n",
              "        [5.7, 2.5, 5. , 2. ],\n",
              "        [5.8, 2.8, 5.1, 2.4],\n",
              "        [6.4, 3.2, 5.3, 2.3],\n",
              "        [6.5, 3. , 5.5, 1.8],\n",
              "        [7.7, 3.8, 6.7, 2.2],\n",
              "        [7.7, 2.6, 6.9, 2.3],\n",
              "        [6. , 2.2, 5. , 1.5],\n",
              "        [6.9, 3.2, 5.7, 2.3],\n",
              "        [5.6, 2.8, 4.9, 2. ],\n",
              "        [7.7, 2.8, 6.7, 2. ],\n",
              "        [6.3, 2.7, 4.9, 1.8],\n",
              "        [6.7, 3.3, 5.7, 2.1],\n",
              "        [7.2, 3.2, 6. , 1.8],\n",
              "        [6.2, 2.8, 4.8, 1.8],\n",
              "        [6.1, 3. , 4.9, 1.8],\n",
              "        [6.4, 2.8, 5.6, 2.1],\n",
              "        [7.2, 3. , 5.8, 1.6],\n",
              "        [7.4, 2.8, 6.1, 1.9],\n",
              "        [7.9, 3.8, 6.4, 2. ],\n",
              "        [6.4, 2.8, 5.6, 2.2],\n",
              "        [6.3, 2.8, 5.1, 1.5],\n",
              "        [6.1, 2.6, 5.6, 1.4],\n",
              "        [7.7, 3. , 6.1, 2.3],\n",
              "        [6.3, 3.4, 5.6, 2.4],\n",
              "        [6.4, 3.1, 5.5, 1.8],\n",
              "        [6. , 3. , 4.8, 1.8],\n",
              "        [6.9, 3.1, 5.4, 2.1],\n",
              "        [6.7, 3.1, 5.6, 2.4],\n",
              "        [6.9, 3.1, 5.1, 2.3],\n",
              "        [5.8, 2.7, 5.1, 1.9],\n",
              "        [6.8, 3.2, 5.9, 2.3],\n",
              "        [6.7, 3.3, 5.7, 2.5],\n",
              "        [6.7, 3. , 5.2, 2.3],\n",
              "        [6.3, 2.5, 5. , 1.9],\n",
              "        [6.5, 3. , 5.2, 2. ],\n",
              "        [6.2, 3.4, 5.4, 2.3],\n",
              "        [5.9, 3. , 5.1, 1.8]]),\n",
              " 'feature_names': ['sepal length (cm)',\n",
              "  'sepal width (cm)',\n",
              "  'petal length (cm)',\n",
              "  'petal width (cm)'],\n",
              " 'filename': '/usr/local/lib/python3.6/dist-packages/sklearn/datasets/data/iris.csv',\n",
              " 'target': array([0, 0, 0, 0, 0, 0, 0, 0, 0, 0, 0, 0, 0, 0, 0, 0, 0, 0, 0, 0, 0, 0,\n",
              "        0, 0, 0, 0, 0, 0, 0, 0, 0, 0, 0, 0, 0, 0, 0, 0, 0, 0, 0, 0, 0, 0,\n",
              "        0, 0, 0, 0, 0, 0, 1, 1, 1, 1, 1, 1, 1, 1, 1, 1, 1, 1, 1, 1, 1, 1,\n",
              "        1, 1, 1, 1, 1, 1, 1, 1, 1, 1, 1, 1, 1, 1, 1, 1, 1, 1, 1, 1, 1, 1,\n",
              "        1, 1, 1, 1, 1, 1, 1, 1, 1, 1, 1, 1, 2, 2, 2, 2, 2, 2, 2, 2, 2, 2,\n",
              "        2, 2, 2, 2, 2, 2, 2, 2, 2, 2, 2, 2, 2, 2, 2, 2, 2, 2, 2, 2, 2, 2,\n",
              "        2, 2, 2, 2, 2, 2, 2, 2, 2, 2, 2, 2, 2, 2, 2, 2, 2, 2]),\n",
              " 'target_names': array(['setosa', 'versicolor', 'virginica'], dtype='<U10')}"
            ]
          },
          "metadata": {
            "tags": []
          },
          "execution_count": 45
        }
      ]
    },
    {
      "cell_type": "code",
      "metadata": {
        "id": "QVvVY00q0SNj",
        "colab_type": "code",
        "outputId": "12c90567-7e36-4c3e-e05a-af5957e985e4",
        "colab": {
          "base_uri": "https://localhost:8080/",
          "height": 34
        }
      },
      "source": [
        "data.shape"
      ],
      "execution_count": 0,
      "outputs": [
        {
          "output_type": "execute_result",
          "data": {
            "text/plain": [
              "(150, 4)"
            ]
          },
          "metadata": {
            "tags": []
          },
          "execution_count": 46
        }
      ]
    },
    {
      "cell_type": "code",
      "metadata": {
        "id": "AXO4WUKFzprq",
        "colab_type": "code",
        "outputId": "509a72b5-b867-49a4-e6f6-2ba4b4bc4ba5",
        "colab": {
          "base_uri": "https://localhost:8080/",
          "height": 1000
        }
      },
      "source": [
        "data"
      ],
      "execution_count": 0,
      "outputs": [
        {
          "output_type": "execute_result",
          "data": {
            "text/plain": [
              "array([[5.1, 3.5, 1.4, 0.2],\n",
              "       [4.9, 3. , 1.4, 0.2],\n",
              "       [4.7, 3.2, 1.3, 0.2],\n",
              "       [4.6, 3.1, 1.5, 0.2],\n",
              "       [5. , 3.6, 1.4, 0.2],\n",
              "       [5.4, 3.9, 1.7, 0.4],\n",
              "       [4.6, 3.4, 1.4, 0.3],\n",
              "       [5. , 3.4, 1.5, 0.2],\n",
              "       [4.4, 2.9, 1.4, 0.2],\n",
              "       [4.9, 3.1, 1.5, 0.1],\n",
              "       [5.4, 3.7, 1.5, 0.2],\n",
              "       [4.8, 3.4, 1.6, 0.2],\n",
              "       [4.8, 3. , 1.4, 0.1],\n",
              "       [4.3, 3. , 1.1, 0.1],\n",
              "       [5.8, 4. , 1.2, 0.2],\n",
              "       [5.7, 4.4, 1.5, 0.4],\n",
              "       [5.4, 3.9, 1.3, 0.4],\n",
              "       [5.1, 3.5, 1.4, 0.3],\n",
              "       [5.7, 3.8, 1.7, 0.3],\n",
              "       [5.1, 3.8, 1.5, 0.3],\n",
              "       [5.4, 3.4, 1.7, 0.2],\n",
              "       [5.1, 3.7, 1.5, 0.4],\n",
              "       [4.6, 3.6, 1. , 0.2],\n",
              "       [5.1, 3.3, 1.7, 0.5],\n",
              "       [4.8, 3.4, 1.9, 0.2],\n",
              "       [5. , 3. , 1.6, 0.2],\n",
              "       [5. , 3.4, 1.6, 0.4],\n",
              "       [5.2, 3.5, 1.5, 0.2],\n",
              "       [5.2, 3.4, 1.4, 0.2],\n",
              "       [4.7, 3.2, 1.6, 0.2],\n",
              "       [4.8, 3.1, 1.6, 0.2],\n",
              "       [5.4, 3.4, 1.5, 0.4],\n",
              "       [5.2, 4.1, 1.5, 0.1],\n",
              "       [5.5, 4.2, 1.4, 0.2],\n",
              "       [4.9, 3.1, 1.5, 0.2],\n",
              "       [5. , 3.2, 1.2, 0.2],\n",
              "       [5.5, 3.5, 1.3, 0.2],\n",
              "       [4.9, 3.6, 1.4, 0.1],\n",
              "       [4.4, 3. , 1.3, 0.2],\n",
              "       [5.1, 3.4, 1.5, 0.2],\n",
              "       [5. , 3.5, 1.3, 0.3],\n",
              "       [4.5, 2.3, 1.3, 0.3],\n",
              "       [4.4, 3.2, 1.3, 0.2],\n",
              "       [5. , 3.5, 1.6, 0.6],\n",
              "       [5.1, 3.8, 1.9, 0.4],\n",
              "       [4.8, 3. , 1.4, 0.3],\n",
              "       [5.1, 3.8, 1.6, 0.2],\n",
              "       [4.6, 3.2, 1.4, 0.2],\n",
              "       [5.3, 3.7, 1.5, 0.2],\n",
              "       [5. , 3.3, 1.4, 0.2],\n",
              "       [7. , 3.2, 4.7, 1.4],\n",
              "       [6.4, 3.2, 4.5, 1.5],\n",
              "       [6.9, 3.1, 4.9, 1.5],\n",
              "       [5.5, 2.3, 4. , 1.3],\n",
              "       [6.5, 2.8, 4.6, 1.5],\n",
              "       [5.7, 2.8, 4.5, 1.3],\n",
              "       [6.3, 3.3, 4.7, 1.6],\n",
              "       [4.9, 2.4, 3.3, 1. ],\n",
              "       [6.6, 2.9, 4.6, 1.3],\n",
              "       [5.2, 2.7, 3.9, 1.4],\n",
              "       [5. , 2. , 3.5, 1. ],\n",
              "       [5.9, 3. , 4.2, 1.5],\n",
              "       [6. , 2.2, 4. , 1. ],\n",
              "       [6.1, 2.9, 4.7, 1.4],\n",
              "       [5.6, 2.9, 3.6, 1.3],\n",
              "       [6.7, 3.1, 4.4, 1.4],\n",
              "       [5.6, 3. , 4.5, 1.5],\n",
              "       [5.8, 2.7, 4.1, 1. ],\n",
              "       [6.2, 2.2, 4.5, 1.5],\n",
              "       [5.6, 2.5, 3.9, 1.1],\n",
              "       [5.9, 3.2, 4.8, 1.8],\n",
              "       [6.1, 2.8, 4. , 1.3],\n",
              "       [6.3, 2.5, 4.9, 1.5],\n",
              "       [6.1, 2.8, 4.7, 1.2],\n",
              "       [6.4, 2.9, 4.3, 1.3],\n",
              "       [6.6, 3. , 4.4, 1.4],\n",
              "       [6.8, 2.8, 4.8, 1.4],\n",
              "       [6.7, 3. , 5. , 1.7],\n",
              "       [6. , 2.9, 4.5, 1.5],\n",
              "       [5.7, 2.6, 3.5, 1. ],\n",
              "       [5.5, 2.4, 3.8, 1.1],\n",
              "       [5.5, 2.4, 3.7, 1. ],\n",
              "       [5.8, 2.7, 3.9, 1.2],\n",
              "       [6. , 2.7, 5.1, 1.6],\n",
              "       [5.4, 3. , 4.5, 1.5],\n",
              "       [6. , 3.4, 4.5, 1.6],\n",
              "       [6.7, 3.1, 4.7, 1.5],\n",
              "       [6.3, 2.3, 4.4, 1.3],\n",
              "       [5.6, 3. , 4.1, 1.3],\n",
              "       [5.5, 2.5, 4. , 1.3],\n",
              "       [5.5, 2.6, 4.4, 1.2],\n",
              "       [6.1, 3. , 4.6, 1.4],\n",
              "       [5.8, 2.6, 4. , 1.2],\n",
              "       [5. , 2.3, 3.3, 1. ],\n",
              "       [5.6, 2.7, 4.2, 1.3],\n",
              "       [5.7, 3. , 4.2, 1.2],\n",
              "       [5.7, 2.9, 4.2, 1.3],\n",
              "       [6.2, 2.9, 4.3, 1.3],\n",
              "       [5.1, 2.5, 3. , 1.1],\n",
              "       [5.7, 2.8, 4.1, 1.3],\n",
              "       [6.3, 3.3, 6. , 2.5],\n",
              "       [5.8, 2.7, 5.1, 1.9],\n",
              "       [7.1, 3. , 5.9, 2.1],\n",
              "       [6.3, 2.9, 5.6, 1.8],\n",
              "       [6.5, 3. , 5.8, 2.2],\n",
              "       [7.6, 3. , 6.6, 2.1],\n",
              "       [4.9, 2.5, 4.5, 1.7],\n",
              "       [7.3, 2.9, 6.3, 1.8],\n",
              "       [6.7, 2.5, 5.8, 1.8],\n",
              "       [7.2, 3.6, 6.1, 2.5],\n",
              "       [6.5, 3.2, 5.1, 2. ],\n",
              "       [6.4, 2.7, 5.3, 1.9],\n",
              "       [6.8, 3. , 5.5, 2.1],\n",
              "       [5.7, 2.5, 5. , 2. ],\n",
              "       [5.8, 2.8, 5.1, 2.4],\n",
              "       [6.4, 3.2, 5.3, 2.3],\n",
              "       [6.5, 3. , 5.5, 1.8],\n",
              "       [7.7, 3.8, 6.7, 2.2],\n",
              "       [7.7, 2.6, 6.9, 2.3],\n",
              "       [6. , 2.2, 5. , 1.5],\n",
              "       [6.9, 3.2, 5.7, 2.3],\n",
              "       [5.6, 2.8, 4.9, 2. ],\n",
              "       [7.7, 2.8, 6.7, 2. ],\n",
              "       [6.3, 2.7, 4.9, 1.8],\n",
              "       [6.7, 3.3, 5.7, 2.1],\n",
              "       [7.2, 3.2, 6. , 1.8],\n",
              "       [6.2, 2.8, 4.8, 1.8],\n",
              "       [6.1, 3. , 4.9, 1.8],\n",
              "       [6.4, 2.8, 5.6, 2.1],\n",
              "       [7.2, 3. , 5.8, 1.6],\n",
              "       [7.4, 2.8, 6.1, 1.9],\n",
              "       [7.9, 3.8, 6.4, 2. ],\n",
              "       [6.4, 2.8, 5.6, 2.2],\n",
              "       [6.3, 2.8, 5.1, 1.5],\n",
              "       [6.1, 2.6, 5.6, 1.4],\n",
              "       [7.7, 3. , 6.1, 2.3],\n",
              "       [6.3, 3.4, 5.6, 2.4],\n",
              "       [6.4, 3.1, 5.5, 1.8],\n",
              "       [6. , 3. , 4.8, 1.8],\n",
              "       [6.9, 3.1, 5.4, 2.1],\n",
              "       [6.7, 3.1, 5.6, 2.4],\n",
              "       [6.9, 3.1, 5.1, 2.3],\n",
              "       [5.8, 2.7, 5.1, 1.9],\n",
              "       [6.8, 3.2, 5.9, 2.3],\n",
              "       [6.7, 3.3, 5.7, 2.5],\n",
              "       [6.7, 3. , 5.2, 2.3],\n",
              "       [6.3, 2.5, 5. , 1.9],\n",
              "       [6.5, 3. , 5.2, 2. ],\n",
              "       [6.2, 3.4, 5.4, 2.3],\n",
              "       [5.9, 3. , 5.1, 1.8]])"
            ]
          },
          "metadata": {
            "tags": []
          },
          "execution_count": 47
        }
      ]
    },
    {
      "cell_type": "code",
      "metadata": {
        "id": "MBaklS34zwWP",
        "colab_type": "code",
        "outputId": "3aac5bdb-be52-480d-8539-9d4796b0cbe2",
        "colab": {
          "base_uri": "https://localhost:8080/",
          "height": 70
        }
      },
      "source": [
        "# define the cuml UMAP model and use fit_transform function to obtain the low dimensional output of the input dataset\n",
        "embedding = UMAP(n_neighbors=10, \n",
        "                 min_dist=0.01,  \n",
        "                 init=\"random\").fit_transform(data)"
      ],
      "execution_count": 0,
      "outputs": [
        {
          "output_type": "stream",
          "text": [
            "/usr/local/lib/python3.6/dist-packages/ipykernel_launcher.py:3: UserWarning: Parameter should_downcast is deprecated, use convert_dtype in fit, fit_transform and transform  methods instead. \n",
            "  This is separate from the ipykernel package so we can avoid doing imports until\n"
          ],
          "name": "stderr"
        }
      ]
    },
    {
      "cell_type": "code",
      "metadata": {
        "id": "--n9el4Iz4Fs",
        "colab_type": "code",
        "outputId": "6d8991c7-620f-4be1-c2ec-3c57871257a0",
        "colab": {
          "base_uri": "https://localhost:8080/",
          "height": 1000
        }
      },
      "source": [
        "embedding"
      ],
      "execution_count": 0,
      "outputs": [
        {
          "output_type": "execute_result",
          "data": {
            "text/plain": [
              "array([[-6.64886522,  2.34015393],\n",
              "       [-5.62438536,  2.51893806],\n",
              "       [-5.62548161,  2.45583487],\n",
              "       [-5.55682945,  2.41781831],\n",
              "       [-6.61159325,  2.35694504],\n",
              "       [-7.21064281,  2.35694313],\n",
              "       [-5.66784954,  2.36206889],\n",
              "       [-6.38478708,  2.49783468],\n",
              "       [-5.49913311,  2.31767297],\n",
              "       [-5.67496443,  2.55665112],\n",
              "       [-7.06970024,  2.42079163],\n",
              "       [-6.1862483 ,  2.51435399],\n",
              "       [-5.63853359,  2.50388741],\n",
              "       [-5.50649405,  2.29662013],\n",
              "       [-7.23899031,  2.29583406],\n",
              "       [-7.25045919,  2.26553106],\n",
              "       [-7.16187668,  2.31985664],\n",
              "       [-6.62000036,  2.38716578],\n",
              "       [-7.20865154,  2.29720664],\n",
              "       [-7.04054356,  2.3350296 ],\n",
              "       [-6.77456999,  2.48899603],\n",
              "       [-6.93679953,  2.39148259],\n",
              "       [-5.89701223,  2.28379703],\n",
              "       [-6.61696625,  2.54399109],\n",
              "       [-6.11936998,  2.52355814],\n",
              "       [-5.57622004,  2.61409068],\n",
              "       [-6.58600426,  2.53788066],\n",
              "       [-6.76550102,  2.47112417],\n",
              "       [-6.64399481,  2.43960571],\n",
              "       [-5.72289896,  2.50346184],\n",
              "       [-5.70851707,  2.59329224],\n",
              "       [-6.81033039,  2.50473166],\n",
              "       [-7.16452599,  2.31033254],\n",
              "       [-7.24892521,  2.2690556 ],\n",
              "       [-5.64289856,  2.5314858 ],\n",
              "       [-6.10754108,  2.43942475],\n",
              "       [-6.83544254,  2.47740221],\n",
              "       [-6.33800364,  2.4026916 ],\n",
              "       [-5.50125265,  2.31767559],\n",
              "       [-6.63864136,  2.47259188],\n",
              "       [-6.53181696,  2.3437562 ],\n",
              "       [-5.52499628,  2.36781955],\n",
              "       [-5.5158062 ,  2.3098135 ],\n",
              "       [-6.67287302,  2.56259871],\n",
              "       [-7.09790325,  2.25619292],\n",
              "       [-5.53348112,  2.51312327],\n",
              "       [-7.00193739,  2.31895876],\n",
              "       [-5.59577465,  2.38874412],\n",
              "       [-7.06991339,  2.3356638 ],\n",
              "       [-6.34499073,  2.49008989],\n",
              "       [ 4.05988026, -2.51555324],\n",
              "       [ 4.21795607, -2.80561495],\n",
              "       [ 4.05493975, -2.5118978 ],\n",
              "       [ 5.80479383, -3.30938697],\n",
              "       [ 4.22195005, -2.69070768],\n",
              "       [ 5.23888397, -3.36765695],\n",
              "       [ 4.20017529, -3.00223684],\n",
              "       [ 6.13883829, -3.17685032],\n",
              "       [ 4.19149399, -2.60460782],\n",
              "       [ 5.81478596, -3.31468511],\n",
              "       [ 6.11942482, -3.18377066],\n",
              "       [ 5.14000845, -3.28264141],\n",
              "       [ 5.73901272, -3.34534335],\n",
              "       [ 4.33042145, -3.03427792],\n",
              "       [ 5.80264044, -3.29196358],\n",
              "       [ 4.17016125, -2.65678453],\n",
              "       [ 5.23795509, -3.32618546],\n",
              "       [ 5.63725328, -3.29288507],\n",
              "       [ 3.74473929, -2.93984842],\n",
              "       [ 5.83828115, -3.33086729],\n",
              "       [ 3.68012214, -3.14421248],\n",
              "       [ 5.19743395, -3.22699809],\n",
              "       [ 3.38468122, -2.94153285],\n",
              "       [ 4.3539257 , -3.01938891],\n",
              "       [ 4.26933146, -2.80774736],\n",
              "       [ 4.17249107, -2.65655136],\n",
              "       [ 4.10725212, -2.56836915],\n",
              "       [ 3.97137833, -2.47600031],\n",
              "       [ 4.50053596, -3.11298633],\n",
              "       [ 5.89057875, -3.29363108],\n",
              "       [ 5.86775303, -3.30543208],\n",
              "       [ 5.89289093, -3.2928834 ],\n",
              "       [ 5.72871542, -3.31161523],\n",
              "       [ 3.26604939, -3.09502268],\n",
              "       [ 5.31063175, -3.32197618],\n",
              "       [ 4.18703508, -2.99631357],\n",
              "       [ 4.18883848, -2.67186785],\n",
              "       [ 4.01892996, -2.93399262],\n",
              "       [ 5.3697958 , -3.38620853],\n",
              "       [ 5.77475786, -3.282161  ],\n",
              "       [ 5.40121031, -3.37534475],\n",
              "       [ 4.40171719, -3.03975987],\n",
              "       [ 5.71362638, -3.3225224 ],\n",
              "       [ 6.11173773, -3.18669248],\n",
              "       [ 5.41892958, -3.34069014],\n",
              "       [ 5.31179428, -3.327039  ],\n",
              "       [ 5.30491161, -3.32763529],\n",
              "       [ 4.41555166, -2.97776794],\n",
              "       [ 6.12981415, -3.1783905 ],\n",
              "       [ 5.4196763 , -3.32405043],\n",
              "       [ 1.2803098 , -2.40576673],\n",
              "       [ 3.28658795, -3.31124902],\n",
              "       [ 0.87082762, -2.19182491],\n",
              "       [ 1.96784091, -2.59919119],\n",
              "       [ 1.43490767, -2.42961454],\n",
              "       [ 0.56921828, -1.94184899],\n",
              "       [ 5.53118658, -3.28611612],\n",
              "       [ 0.6269598 , -1.98913336],\n",
              "       [ 1.87967968, -2.53113031],\n",
              "       [ 0.93346   , -2.21650386],\n",
              "       [ 1.59717095, -2.53737092],\n",
              "       [ 1.93111444, -2.57381463],\n",
              "       [ 1.36796629, -2.51015615],\n",
              "       [ 3.30959797, -3.2707653 ],\n",
              "       [ 3.28113532, -3.30208802],\n",
              "       [ 1.50820482, -2.49959326],\n",
              "       [ 1.83679092, -2.54977703],\n",
              "       [ 0.64098454, -2.010144  ],\n",
              "       [ 0.58039886, -1.9568243 ],\n",
              "       [ 3.30675149, -3.04261374],\n",
              "       [ 1.19857252, -2.39565802],\n",
              "       [ 3.29745245, -3.30458522],\n",
              "       [ 0.55732441, -1.92954838],\n",
              "       [ 3.37423205, -2.97773194],\n",
              "       [ 1.23303044, -2.40353179],\n",
              "       [ 0.69564843, -2.04682469],\n",
              "       [ 3.5047791 , -3.02383566],\n",
              "       [ 3.60539412, -3.11623859],\n",
              "       [ 1.83579874, -2.57204866],\n",
              "       [ 0.72251105, -2.06566596],\n",
              "       [ 0.67237997, -2.03062177],\n",
              "       [ 0.64263487, -2.01329541],\n",
              "       [ 1.78116179, -2.52369738],\n",
              "       [ 3.33260822, -2.97498083],\n",
              "       [ 2.44020534, -2.71999717],\n",
              "       [ 0.63838708, -2.00992274],\n",
              "       [ 1.31816053, -2.43347287],\n",
              "       [ 1.82713234, -2.54790473],\n",
              "       [ 3.61434484, -3.1128931 ],\n",
              "       [ 1.40060461, -2.51021743],\n",
              "       [ 1.29776371, -2.43644714],\n",
              "       [ 1.54025364, -2.58298516],\n",
              "       [ 3.31335497, -3.29777527],\n",
              "       [ 1.10676754, -2.33708739],\n",
              "       [ 1.25504827, -2.40911722],\n",
              "       [ 1.50477171, -2.56362891],\n",
              "       [ 3.3402276 , -2.98569846],\n",
              "       [ 1.69461703, -2.54098558],\n",
              "       [ 1.3771503 , -2.4570365 ],\n",
              "       [ 3.53295422, -3.20771909]])"
            ]
          },
          "metadata": {
            "tags": []
          },
          "execution_count": 49
        }
      ]
    },
    {
      "cell_type": "code",
      "metadata": {
        "id": "1ct_9JY40fIe",
        "colab_type": "code",
        "outputId": "1ed359b0-5881-4b5a-cae2-3a7299dc198b",
        "colab": {
          "base_uri": "https://localhost:8080/",
          "height": 34
        }
      },
      "source": [
        "embedding.shape"
      ],
      "execution_count": 0,
      "outputs": [
        {
          "output_type": "execute_result",
          "data": {
            "text/plain": [
              "(150, 2)"
            ]
          },
          "metadata": {
            "tags": []
          },
          "execution_count": 50
        }
      ]
    },
    {
      "cell_type": "code",
      "metadata": {
        "id": "_g6gSG9Gz6CB",
        "colab_type": "code",
        "outputId": "019a0660-3016-41f2-d9b4-32304b4658af",
        "colab": {
          "base_uri": "https://localhost:8080/",
          "height": 34
        }
      },
      "source": [
        "# calculate the trust worthiness of the results obtaind from the cuML UMAP\n",
        "trust = trustworthiness(iris.data, embedding, 10)\n",
        "print(trust)"
      ],
      "execution_count": 0,
      "outputs": [
        {
          "output_type": "stream",
          "text": [
            "0.9767732342007435\n"
          ],
          "name": "stdout"
        }
      ]
    },
    {
      "cell_type": "code",
      "metadata": {
        "id": "ahHPLseJz_6H",
        "colab_type": "code",
        "outputId": "6c909ae6-1b0c-43ac-be5c-2e0c184f4467",
        "colab": {
          "base_uri": "https://localhost:8080/",
          "height": 1000
        }
      },
      "source": [
        "# create a selection variable which will have 75% True and 25% False values. The size of the selection variable is 150\n",
        "iris_selection = np.random.choice([True, False], \n",
        "                                  150, \n",
        "                                  replace=True, \n",
        "                                  p=[0.75, 0.25])\n",
        "\n",
        "# create an iris dataset using the selection variable\n",
        "data = iris.data[iris_selection]\n",
        "print(data)"
      ],
      "execution_count": 0,
      "outputs": [
        {
          "output_type": "stream",
          "text": [
            "[[5.1 3.5 1.4 0.2]\n",
            " [4.9 3.  1.4 0.2]\n",
            " [4.7 3.2 1.3 0.2]\n",
            " [4.6 3.1 1.5 0.2]\n",
            " [5.4 3.9 1.7 0.4]\n",
            " [4.6 3.4 1.4 0.3]\n",
            " [5.  3.4 1.5 0.2]\n",
            " [4.4 2.9 1.4 0.2]\n",
            " [5.4 3.7 1.5 0.2]\n",
            " [4.8 3.4 1.6 0.2]\n",
            " [4.3 3.  1.1 0.1]\n",
            " [5.8 4.  1.2 0.2]\n",
            " [5.4 3.9 1.3 0.4]\n",
            " [5.1 3.8 1.5 0.3]\n",
            " [5.4 3.4 1.7 0.2]\n",
            " [5.1 3.7 1.5 0.4]\n",
            " [5.  3.  1.6 0.2]\n",
            " [5.  3.4 1.6 0.4]\n",
            " [5.2 3.5 1.5 0.2]\n",
            " [4.7 3.2 1.6 0.2]\n",
            " [4.8 3.1 1.6 0.2]\n",
            " [5.4 3.4 1.5 0.4]\n",
            " [5.2 4.1 1.5 0.1]\n",
            " [5.5 4.2 1.4 0.2]\n",
            " [4.9 3.1 1.5 0.2]\n",
            " [5.5 3.5 1.3 0.2]\n",
            " [4.9 3.6 1.4 0.1]\n",
            " [4.4 3.  1.3 0.2]\n",
            " [4.5 2.3 1.3 0.3]\n",
            " [4.4 3.2 1.3 0.2]\n",
            " [5.  3.5 1.6 0.6]\n",
            " [5.1 3.8 1.9 0.4]\n",
            " [4.8 3.  1.4 0.3]\n",
            " [5.1 3.8 1.6 0.2]\n",
            " [4.6 3.2 1.4 0.2]\n",
            " [5.3 3.7 1.5 0.2]\n",
            " [7.  3.2 4.7 1.4]\n",
            " [6.4 3.2 4.5 1.5]\n",
            " [5.5 2.3 4.  1.3]\n",
            " [5.7 2.8 4.5 1.3]\n",
            " [6.3 3.3 4.7 1.6]\n",
            " [4.9 2.4 3.3 1. ]\n",
            " [6.6 2.9 4.6 1.3]\n",
            " [5.2 2.7 3.9 1.4]\n",
            " [5.  2.  3.5 1. ]\n",
            " [6.  2.2 4.  1. ]\n",
            " [6.1 2.9 4.7 1.4]\n",
            " [5.6 2.9 3.6 1.3]\n",
            " [6.7 3.1 4.4 1.4]\n",
            " [5.6 3.  4.5 1.5]\n",
            " [5.8 2.7 4.1 1. ]\n",
            " [6.2 2.2 4.5 1.5]\n",
            " [6.1 2.8 4.  1.3]\n",
            " [6.3 2.5 4.9 1.5]\n",
            " [6.4 2.9 4.3 1.3]\n",
            " [6.6 3.  4.4 1.4]\n",
            " [6.7 3.  5.  1.7]\n",
            " [6.  2.9 4.5 1.5]\n",
            " [5.7 2.6 3.5 1. ]\n",
            " [5.5 2.4 3.8 1.1]\n",
            " [5.5 2.4 3.7 1. ]\n",
            " [5.8 2.7 3.9 1.2]\n",
            " [6.  2.7 5.1 1.6]\n",
            " [6.3 2.3 4.4 1.3]\n",
            " [5.6 3.  4.1 1.3]\n",
            " [5.5 2.5 4.  1.3]\n",
            " [5.5 2.6 4.4 1.2]\n",
            " [6.1 3.  4.6 1.4]\n",
            " [5.8 2.6 4.  1.2]\n",
            " [5.7 3.  4.2 1.2]\n",
            " [5.7 2.8 4.1 1.3]\n",
            " [6.3 3.3 6.  2.5]\n",
            " [5.8 2.7 5.1 1.9]\n",
            " [7.1 3.  5.9 2.1]\n",
            " [6.3 2.9 5.6 1.8]\n",
            " [6.5 3.  5.8 2.2]\n",
            " [7.6 3.  6.6 2.1]\n",
            " [4.9 2.5 4.5 1.7]\n",
            " [7.3 2.9 6.3 1.8]\n",
            " [6.7 2.5 5.8 1.8]\n",
            " [7.2 3.6 6.1 2.5]\n",
            " [6.5 3.2 5.1 2. ]\n",
            " [6.4 2.7 5.3 1.9]\n",
            " [6.8 3.  5.5 2.1]\n",
            " [5.7 2.5 5.  2. ]\n",
            " [6.4 3.2 5.3 2.3]\n",
            " [7.7 3.8 6.7 2.2]\n",
            " [7.7 2.6 6.9 2.3]\n",
            " [6.  2.2 5.  1.5]\n",
            " [6.9 3.2 5.7 2.3]\n",
            " [5.6 2.8 4.9 2. ]\n",
            " [7.7 2.8 6.7 2. ]\n",
            " [6.7 3.3 5.7 2.1]\n",
            " [7.2 3.2 6.  1.8]\n",
            " [6.1 3.  4.9 1.8]\n",
            " [7.2 3.  5.8 1.6]\n",
            " [7.4 2.8 6.1 1.9]\n",
            " [7.9 3.8 6.4 2. ]\n",
            " [6.4 2.8 5.6 2.2]\n",
            " [6.3 2.8 5.1 1.5]\n",
            " [6.1 2.6 5.6 1.4]\n",
            " [7.7 3.  6.1 2.3]\n",
            " [6.3 3.4 5.6 2.4]\n",
            " [6.4 3.1 5.5 1.8]\n",
            " [6.  3.  4.8 1.8]\n",
            " [6.9 3.1 5.4 2.1]\n",
            " [6.7 3.1 5.6 2.4]\n",
            " [6.9 3.1 5.1 2.3]\n",
            " [5.8 2.7 5.1 1.9]\n",
            " [6.8 3.2 5.9 2.3]\n",
            " [6.7 3.  5.2 2.3]\n",
            " [6.5 3.  5.2 2. ]\n",
            " [5.9 3.  5.1 1.8]]\n"
          ],
          "name": "stdout"
        }
      ]
    },
    {
      "cell_type": "code",
      "metadata": {
        "id": "7L0EVrQW0MyQ",
        "colab_type": "code",
        "outputId": "0acd1fbc-9e83-4ec4-dfce-e11774717256",
        "colab": {
          "base_uri": "https://localhost:8080/",
          "height": 34
        }
      },
      "source": [
        "data.shape"
      ],
      "execution_count": 0,
      "outputs": [
        {
          "output_type": "execute_result",
          "data": {
            "text/plain": [
              "(113, 4)"
            ]
          },
          "metadata": {
            "tags": []
          },
          "execution_count": 54
        }
      ]
    },
    {
      "cell_type": "code",
      "metadata": {
        "id": "dhVj0BGW0mTD",
        "colab_type": "code",
        "outputId": "dc5581f8-e3b5-4a3c-a023-7478c174a50a",
        "colab": {
          "base_uri": "https://localhost:8080/",
          "height": 154
        }
      },
      "source": [
        "# create a cuML UMAP model \n",
        "fitter = UMAP(n_neighbors=10, \n",
        "              min_dist=0.01, \n",
        "              verbose=False)\n",
        "\n",
        "# fit the data created the selection variable to the cuML UMAP model created (fitter)\n",
        "fitter.fit(data)\n",
        "\n",
        "# create a new iris dataset by inverting the values of the selection variable (ie. 75% False and 25% True values) \n",
        "new_data = iris.data[~iris_selection]\n",
        "print(new_data.shape)\n",
        "\n",
        "# transform the new data using the previously created embedded space\n",
        "embedding = fitter.transform(new_data)"
      ],
      "execution_count": 0,
      "outputs": [
        {
          "output_type": "stream",
          "text": [
            "(37, 4)\n"
          ],
          "name": "stdout"
        },
        {
          "output_type": "stream",
          "text": [
            "/usr/local/lib/python3.6/dist-packages/ipykernel_launcher.py:3: UserWarning: Parameter should_downcast is deprecated, use convert_dtype in fit, fit_transform and transform  methods instead. \n",
            "  This is separate from the ipykernel package so we can avoid doing imports until\n",
            "/usr/local/lib/python3.6/dist-packages/ipykernel_launcher.py:6: UserWarning: Parameter should_downcast is deprecated, use convert_dtype in fit, fit_transform and transform  methods instead. \n",
            "  \n",
            "/usr/local/lib/python3.6/dist-packages/ipykernel_launcher.py:13: UserWarning: Parameter should_downcast is deprecated, use convert_dtype in fit, fit_transform and transform  methods instead. \n",
            "  del sys.path[0]\n"
          ],
          "name": "stderr"
        }
      ]
    },
    {
      "cell_type": "code",
      "metadata": {
        "id": "i7XHlsuP1LYc",
        "colab_type": "code",
        "outputId": "2420cc47-6771-49d4-f303-7dcd821aa730",
        "colab": {
          "base_uri": "https://localhost:8080/",
          "height": 638
        }
      },
      "source": [
        "embedding"
      ],
      "execution_count": 0,
      "outputs": [
        {
          "output_type": "execute_result",
          "data": {
            "text/plain": [
              "array([[-3.74485254, -3.40417767],\n",
              "       [-3.64387274, -2.77594805],\n",
              "       [-4.19690657, -2.74778414],\n",
              "       [-3.61347437, -4.43836308],\n",
              "       [-3.63741326, -3.6689558 ],\n",
              "       [-3.68872738, -3.97013187],\n",
              "       [-3.84193301, -3.02380776],\n",
              "       [-3.5962677 , -3.61678839],\n",
              "       [-3.8667357 , -3.0240202 ],\n",
              "       [-3.54751825, -3.43773913],\n",
              "       [-4.0051384 , -2.79342699],\n",
              "       [-3.67750716, -3.61058068],\n",
              "       [-3.88558412, -3.37730455],\n",
              "       [-3.76852131, -3.11293936],\n",
              "       [ 2.19970489,  5.88624668],\n",
              "       [ 2.59233141,  6.24949884],\n",
              "       [ 3.44655347,  5.95345879],\n",
              "       [ 4.06200647,  5.50589228],\n",
              "       [ 2.29854083,  6.48374987],\n",
              "       [ 2.42219591,  6.32383633],\n",
              "       [ 2.1612711 ,  5.99442673],\n",
              "       [ 3.31402373,  6.07331514],\n",
              "       [ 2.62694955,  6.25458002],\n",
              "       [ 2.67190695,  5.95301104],\n",
              "       [ 4.34180832,  5.23350477],\n",
              "       [ 3.68508363,  5.88397598],\n",
              "       [ 3.78987646,  5.75413799],\n",
              "       [ 2.92193937,  6.12758827],\n",
              "       [ 4.02129745,  5.55968046],\n",
              "       [ 1.658476  ,  6.43024254],\n",
              "       [ 0.56263453,  6.59534025],\n",
              "       [ 1.5357585 ,  6.26003981],\n",
              "       [ 2.04896426,  6.36777258],\n",
              "       [ 0.42670259,  6.55820465],\n",
              "       [ 0.24911857,  6.19260645],\n",
              "       [ 1.77968132,  6.41644001],\n",
              "       [ 0.04725925,  6.67547226]])"
            ]
          },
          "metadata": {
            "tags": []
          },
          "execution_count": 56
        }
      ]
    },
    {
      "cell_type": "code",
      "metadata": {
        "id": "m82XkY2Q1Nda",
        "colab_type": "code",
        "outputId": "4bd805ef-c705-4f84-874d-85ac581b5496",
        "colab": {
          "base_uri": "https://localhost:8080/",
          "height": 34
        }
      },
      "source": [
        "embedding.shape"
      ],
      "execution_count": 0,
      "outputs": [
        {
          "output_type": "execute_result",
          "data": {
            "text/plain": [
              "(37, 2)"
            ]
          },
          "metadata": {
            "tags": []
          },
          "execution_count": 57
        }
      ]
    },
    {
      "cell_type": "code",
      "metadata": {
        "id": "5X9CeFvy1Pdp",
        "colab_type": "code",
        "outputId": "2b3d1760-6ac0-4ad2-ddb0-f805562572db",
        "colab": {
          "base_uri": "https://localhost:8080/",
          "height": 34
        }
      },
      "source": [
        "# calculate the trustworthiness score for the new data created (new_data)\n",
        "trust = trustworthiness(new_data, embedding, 10)\n",
        "print(trust)"
      ],
      "execution_count": 0,
      "outputs": [
        {
          "output_type": "stream",
          "text": [
            "0.9676932746700189\n"
          ],
          "name": "stdout"
        }
      ]
    },
    {
      "cell_type": "code",
      "metadata": {
        "id": "4PNGNJ7_1Unj",
        "colab_type": "code",
        "colab": {}
      },
      "source": [
        ""
      ],
      "execution_count": 0,
      "outputs": []
    },
    {
      "cell_type": "code",
      "metadata": {
        "id": "HTlRX0Pl2jO-",
        "colab_type": "code",
        "colab": {}
      },
      "source": [
        ""
      ],
      "execution_count": 0,
      "outputs": []
    },
    {
      "cell_type": "markdown",
      "metadata": {
        "id": "PRQqH4D-2jf6",
        "colab_type": "text"
      },
      "source": [
        "# **UMAP with Graphs**"
      ]
    },
    {
      "cell_type": "markdown",
      "metadata": {
        "id": "s_spm1vZ2340",
        "colab_type": "text"
      },
      "source": [
        "[UMAP](https://umap-learn.readthedocs.io/en/latest/) is a powerful dimensionality reduction tool, which NVIDIA recently ported to GPUs with a Python interface that matches UMAP-learn. In this notebook we will demostrate basic usage, plotting, and timing comparisons between supervised and unsupervised implementations of the CUDA (GPU) version of UMAP"
      ]
    },
    {
      "cell_type": "code",
      "metadata": {
        "id": "J9DpC6c826Pf",
        "colab_type": "code",
        "colab": {}
      },
      "source": [
        "import os\n",
        "import pandas as pd\n",
        "import numpy as np\n",
        "\n",
        "# libraries for scoring/clustering\n",
        "from sklearn.manifold.t_sne import trustworthiness\n",
        "\n",
        "# GPU UMAP\n",
        "import cudf\n",
        "from cuml.manifold.umap import UMAP as cumlUMAP\n",
        "\n",
        "# plotting\n",
        "import seaborn as sns\n",
        "import matplotlib as mpl\n",
        "import matplotlib.pyplot as plt\n",
        "%matplotlib inline\n",
        "sns.set(style='white', rc={'figure.figsize':(25, 12.5)})"
      ],
      "execution_count": 0,
      "outputs": []
    },
    {
      "cell_type": "markdown",
      "metadata": {
        "id": "ourmPqLF3Tjt",
        "colab_type": "text"
      },
      "source": [
        "## **Sanity Checks**\n",
        "\n",
        "We are going to work with the [fashion mnist](https://github.com/zalandoresearch/fashion-mnist) data set.  This is a dataset consisting of 70,000 28x28 grayscale images of clothing.  It should already be in the `data/fashion` folder, but let's do a sanity check!"
      ]
    },
    {
      "cell_type": "code",
      "metadata": {
        "id": "sPbCbik-3HfX",
        "colab_type": "code",
        "outputId": "72e184d9-6d52-4c2c-beb7-a7543f192905",
        "colab": {
          "base_uri": "https://localhost:8080/",
          "height": 34
        }
      },
      "source": [
        "pwd"
      ],
      "execution_count": 0,
      "outputs": [
        {
          "output_type": "execute_result",
          "data": {
            "text/plain": [
              "'/content'"
            ]
          },
          "metadata": {
            "tags": []
          },
          "execution_count": 60
        }
      ]
    },
    {
      "cell_type": "code",
      "metadata": {
        "id": "9ys-Yzop30CA",
        "colab_type": "code",
        "outputId": "9cfdf4f8-fc22-444c-9f52-b38d7ac971f9",
        "colab": {
          "base_uri": "https://localhost:8080/",
          "height": 34
        }
      },
      "source": [
        "if not os.path.exists('fashion'):\n",
        "    print(\"error, data is missing!\")\n",
        "else:\n",
        "    print('data is ready!')"
      ],
      "execution_count": 0,
      "outputs": [
        {
          "output_type": "stream",
          "text": [
            "data is ready!\n"
          ],
          "name": "stdout"
        }
      ]
    },
    {
      "cell_type": "markdown",
      "metadata": {
        "id": "KmN-F9Kn4Y37",
        "colab_type": "text"
      },
      "source": [
        "Now let's make sure we have our RAPIDS compliant GPU.  It must be Pascal or higher!  You can also use this to define which GPU RAPIDS should use"
      ]
    },
    {
      "cell_type": "code",
      "metadata": {
        "id": "QEB57MpH4Pnb",
        "colab_type": "code",
        "outputId": "ca276972-3cdf-4672-a0f0-a44c01203acf",
        "colab": {
          "base_uri": "https://localhost:8080/",
          "height": 286
        }
      },
      "source": [
        "!nvidia-smi"
      ],
      "execution_count": 0,
      "outputs": [
        {
          "output_type": "stream",
          "text": [
            "Sun Jan 26 08:04:41 2020       \n",
            "+-----------------------------------------------------------------------------+\n",
            "| NVIDIA-SMI 440.44       Driver Version: 418.67       CUDA Version: 10.1     |\n",
            "|-------------------------------+----------------------+----------------------+\n",
            "| GPU  Name        Persistence-M| Bus-Id        Disp.A | Volatile Uncorr. ECC |\n",
            "| Fan  Temp  Perf  Pwr:Usage/Cap|         Memory-Usage | GPU-Util  Compute M. |\n",
            "|===============================+======================+======================|\n",
            "|   0  Tesla T4            Off  | 00000000:00:04.0 Off |                    0 |\n",
            "| N/A   57C    P0    27W /  70W |    615MiB / 15079MiB |      0%      Default |\n",
            "+-------------------------------+----------------------+----------------------+\n",
            "                                                                               \n",
            "+-----------------------------------------------------------------------------+\n",
            "| Processes:                                                       GPU Memory |\n",
            "|  GPU       PID   Type   Process name                             Usage      |\n",
            "|=============================================================================|\n",
            "+-----------------------------------------------------------------------------+\n"
          ],
          "name": "stdout"
        }
      ]
    },
    {
      "cell_type": "code",
      "metadata": {
        "id": "FgWp16AV4Zqe",
        "colab_type": "code",
        "colab": {}
      },
      "source": [
        "# https://github.com/zalandoresearch/fashion-mnist/blob/master/utils/mnist_reader.py\n",
        "def load_mnist(path, kind='train'):\n",
        "    import os\n",
        "    import gzip\n",
        "    import numpy as np\n",
        "\n",
        "    \"\"\"Load MNIST data from `path`\"\"\"\n",
        "    labels_path = os.path.join(path,\n",
        "                               '%s-labels-idx1-ubyte.gz'\n",
        "                               % kind)\n",
        "    images_path = os.path.join(path,\n",
        "                               '%s-images-idx3-ubyte.gz'\n",
        "                               % kind)\n",
        "\n",
        "    with gzip.open(labels_path, 'rb') as lbpath:\n",
        "        labels = np.frombuffer(lbpath.read(), dtype=np.uint8,\n",
        "                               offset=8)\n",
        "\n",
        "    with gzip.open(images_path, 'rb') as imgpath:\n",
        "        images = np.frombuffer(imgpath.read(), dtype=np.uint8,\n",
        "                               offset=16).reshape(len(labels), 784)\n",
        "\n",
        "    return images, labels"
      ],
      "execution_count": 0,
      "outputs": []
    },
    {
      "cell_type": "markdown",
      "metadata": {
        "id": "EHD_ulfs5Bko",
        "colab_type": "text"
      },
      "source": [
        "## **Training**"
      ]
    },
    {
      "cell_type": "code",
      "metadata": {
        "id": "f_SJ-qsO48uK",
        "colab_type": "code",
        "colab": {}
      },
      "source": [
        "train, train_labels = load_mnist('fashion', kind='train')\n",
        "\n",
        "test, test_labels = load_mnist('fashion', kind='t10k')\n",
        "\n",
        "data = np.array(np.vstack([train, test]), dtype=np.float64) / 255.0\n",
        "\n",
        "target = np.array(np.hstack([train_labels, test_labels]))"
      ],
      "execution_count": 0,
      "outputs": []
    },
    {
      "cell_type": "code",
      "metadata": {
        "id": "ePst8Fnb5Pht",
        "colab_type": "code",
        "outputId": "eccb18a1-736b-40d5-8899-715784fcf483",
        "colab": {
          "base_uri": "https://localhost:8080/",
          "height": 134
        }
      },
      "source": [
        "train"
      ],
      "execution_count": 0,
      "outputs": [
        {
          "output_type": "execute_result",
          "data": {
            "text/plain": [
              "array([[0, 0, 0, ..., 0, 0, 0],\n",
              "       [0, 0, 0, ..., 0, 0, 0],\n",
              "       [0, 0, 0, ..., 0, 0, 0],\n",
              "       ...,\n",
              "       [0, 0, 0, ..., 0, 0, 0],\n",
              "       [0, 0, 0, ..., 0, 0, 0],\n",
              "       [0, 0, 0, ..., 0, 0, 0]], dtype=uint8)"
            ]
          },
          "metadata": {
            "tags": []
          },
          "execution_count": 66
        }
      ]
    },
    {
      "cell_type": "code",
      "metadata": {
        "id": "iBhyf4e-5RbN",
        "colab_type": "code",
        "outputId": "15a12b8f-5e77-413f-dfd6-0541cd11861c",
        "colab": {
          "base_uri": "https://localhost:8080/",
          "height": 34
        }
      },
      "source": [
        "train.shape"
      ],
      "execution_count": 0,
      "outputs": [
        {
          "output_type": "execute_result",
          "data": {
            "text/plain": [
              "(60000, 784)"
            ]
          },
          "metadata": {
            "tags": []
          },
          "execution_count": 67
        }
      ]
    },
    {
      "cell_type": "code",
      "metadata": {
        "id": "yQuL0EMY5S9-",
        "colab_type": "code",
        "outputId": "3b71c6af-0ab7-48f4-d501-0f21f6f3c870",
        "colab": {
          "base_uri": "https://localhost:8080/",
          "height": 34
        }
      },
      "source": [
        "train_labels"
      ],
      "execution_count": 0,
      "outputs": [
        {
          "output_type": "execute_result",
          "data": {
            "text/plain": [
              "array([9, 0, 0, ..., 3, 0, 5], dtype=uint8)"
            ]
          },
          "metadata": {
            "tags": []
          },
          "execution_count": 68
        }
      ]
    },
    {
      "cell_type": "code",
      "metadata": {
        "id": "OTTqFEy15Ucm",
        "colab_type": "code",
        "outputId": "a80f3410-2e12-4a17-c223-c85d61d4ec6e",
        "colab": {
          "base_uri": "https://localhost:8080/",
          "height": 34
        }
      },
      "source": [
        "train_labels.shape"
      ],
      "execution_count": 0,
      "outputs": [
        {
          "output_type": "execute_result",
          "data": {
            "text/plain": [
              "(60000,)"
            ]
          },
          "metadata": {
            "tags": []
          },
          "execution_count": 69
        }
      ]
    },
    {
      "cell_type": "code",
      "metadata": {
        "id": "Npq2euEG5WnR",
        "colab_type": "code",
        "outputId": "815199f9-349f-4572-a2d3-1bf30fee5c5f",
        "colab": {
          "base_uri": "https://localhost:8080/",
          "height": 134
        }
      },
      "source": [
        "test"
      ],
      "execution_count": 0,
      "outputs": [
        {
          "output_type": "execute_result",
          "data": {
            "text/plain": [
              "array([[0, 0, 0, ..., 0, 0, 0],\n",
              "       [0, 0, 0, ..., 0, 0, 0],\n",
              "       [0, 0, 0, ..., 0, 0, 0],\n",
              "       ...,\n",
              "       [0, 0, 0, ..., 0, 0, 0],\n",
              "       [0, 0, 0, ..., 0, 0, 0],\n",
              "       [0, 0, 0, ..., 0, 0, 0]], dtype=uint8)"
            ]
          },
          "metadata": {
            "tags": []
          },
          "execution_count": 70
        }
      ]
    },
    {
      "cell_type": "code",
      "metadata": {
        "id": "SNmJ1vnH5Y7z",
        "colab_type": "code",
        "outputId": "e3860295-0d5a-45c4-c4ff-09b4e8b15724",
        "colab": {
          "base_uri": "https://localhost:8080/",
          "height": 34
        }
      },
      "source": [
        "test.shape"
      ],
      "execution_count": 0,
      "outputs": [
        {
          "output_type": "execute_result",
          "data": {
            "text/plain": [
              "(10000, 784)"
            ]
          },
          "metadata": {
            "tags": []
          },
          "execution_count": 71
        }
      ]
    },
    {
      "cell_type": "code",
      "metadata": {
        "id": "1v4oT1is5bFU",
        "colab_type": "code",
        "outputId": "82130e27-eff2-4f88-fd77-676091657f68",
        "colab": {
          "base_uri": "https://localhost:8080/",
          "height": 34
        }
      },
      "source": [
        "test_labels"
      ],
      "execution_count": 0,
      "outputs": [
        {
          "output_type": "execute_result",
          "data": {
            "text/plain": [
              "array([9, 2, 1, ..., 8, 1, 5], dtype=uint8)"
            ]
          },
          "metadata": {
            "tags": []
          },
          "execution_count": 72
        }
      ]
    },
    {
      "cell_type": "code",
      "metadata": {
        "id": "ZFIRGc4o5eDi",
        "colab_type": "code",
        "outputId": "26a77831-4284-4078-94a5-972d43f35ab0",
        "colab": {
          "base_uri": "https://localhost:8080/",
          "height": 34
        }
      },
      "source": [
        "test_labels.shape"
      ],
      "execution_count": 0,
      "outputs": [
        {
          "output_type": "execute_result",
          "data": {
            "text/plain": [
              "(10000,)"
            ]
          },
          "metadata": {
            "tags": []
          },
          "execution_count": 73
        }
      ]
    },
    {
      "cell_type": "code",
      "metadata": {
        "id": "Q0seRev_5fJZ",
        "colab_type": "code",
        "outputId": "8cf69f52-d774-41c0-f454-87fff97bc46f",
        "colab": {
          "base_uri": "https://localhost:8080/",
          "height": 134
        }
      },
      "source": [
        "data"
      ],
      "execution_count": 0,
      "outputs": [
        {
          "output_type": "execute_result",
          "data": {
            "text/plain": [
              "array([[0., 0., 0., ..., 0., 0., 0.],\n",
              "       [0., 0., 0., ..., 0., 0., 0.],\n",
              "       [0., 0., 0., ..., 0., 0., 0.],\n",
              "       ...,\n",
              "       [0., 0., 0., ..., 0., 0., 0.],\n",
              "       [0., 0., 0., ..., 0., 0., 0.],\n",
              "       [0., 0., 0., ..., 0., 0., 0.]])"
            ]
          },
          "metadata": {
            "tags": []
          },
          "execution_count": 74
        }
      ]
    },
    {
      "cell_type": "code",
      "metadata": {
        "id": "sRrQCxwe5jY9",
        "colab_type": "code",
        "outputId": "d1aa49dc-2659-4db1-9370-3922915464e1",
        "colab": {
          "base_uri": "https://localhost:8080/",
          "height": 34
        }
      },
      "source": [
        "data.shape"
      ],
      "execution_count": 0,
      "outputs": [
        {
          "output_type": "execute_result",
          "data": {
            "text/plain": [
              "(70000, 784)"
            ]
          },
          "metadata": {
            "tags": []
          },
          "execution_count": 75
        }
      ]
    },
    {
      "cell_type": "code",
      "metadata": {
        "id": "S1-XwSP15kjk",
        "colab_type": "code",
        "outputId": "47a8a4bd-ff82-49d9-a374-1838ca5d6fd9",
        "colab": {
          "base_uri": "https://localhost:8080/",
          "height": 34
        }
      },
      "source": [
        "target"
      ],
      "execution_count": 0,
      "outputs": [
        {
          "output_type": "execute_result",
          "data": {
            "text/plain": [
              "array([9, 0, 0, ..., 8, 1, 5], dtype=uint8)"
            ]
          },
          "metadata": {
            "tags": []
          },
          "execution_count": 76
        }
      ]
    },
    {
      "cell_type": "code",
      "metadata": {
        "id": "ENFAjizZ5qMJ",
        "colab_type": "code",
        "outputId": "68b1aae9-9cb1-4653-af2c-4f1a31857379",
        "colab": {
          "base_uri": "https://localhost:8080/",
          "height": 34
        }
      },
      "source": [
        "target.shape"
      ],
      "execution_count": 0,
      "outputs": [
        {
          "output_type": "execute_result",
          "data": {
            "text/plain": [
              "(70000,)"
            ]
          },
          "metadata": {
            "tags": []
          },
          "execution_count": 77
        }
      ]
    },
    {
      "cell_type": "code",
      "metadata": {
        "id": "wX_wmx_X5rKa",
        "colab_type": "code",
        "outputId": "88838c38-f554-4106-e759-42bdf0c578a1",
        "colab": {
          "base_uri": "https://localhost:8080/",
          "height": 34
        }
      },
      "source": [
        "f\"Train shape: {train.shape} and Test Shape: {test.shape}\""
      ],
      "execution_count": 0,
      "outputs": [
        {
          "output_type": "execute_result",
          "data": {
            "text/plain": [
              "'Train shape: (60000, 784) and Test Shape: (10000, 784)'"
            ]
          },
          "metadata": {
            "tags": []
          },
          "execution_count": 78
        }
      ]
    },
    {
      "cell_type": "markdown",
      "metadata": {
        "id": "EDNDMGpJ52gK",
        "colab_type": "text"
      },
      "source": [
        "As mentioned previously, each row in the train matrix is an image"
      ]
    },
    {
      "cell_type": "code",
      "metadata": {
        "id": "sUaHBoMh5vnj",
        "colab_type": "code",
        "outputId": "4ce7ed2f-094e-4eb6-aaaf-fcfc0ef79bd2",
        "colab": {
          "base_uri": "https://localhost:8080/",
          "height": 34
        }
      },
      "source": [
        "train[0].shape"
      ],
      "execution_count": 0,
      "outputs": [
        {
          "output_type": "execute_result",
          "data": {
            "text/plain": [
              "(784,)"
            ]
          },
          "metadata": {
            "tags": []
          },
          "execution_count": 79
        }
      ]
    },
    {
      "cell_type": "code",
      "metadata": {
        "id": "S3ubfQKF55z8",
        "colab_type": "code",
        "outputId": "e2116007-4835-4074-b356-233fddfe9600",
        "colab": {
          "base_uri": "https://localhost:8080/",
          "height": 1000
        }
      },
      "source": [
        "train[0]"
      ],
      "execution_count": 0,
      "outputs": [
        {
          "output_type": "execute_result",
          "data": {
            "text/plain": [
              "array([  0,   0,   0,   0,   0,   0,   0,   0,   0,   0,   0,   0,   0,\n",
              "         0,   0,   0,   0,   0,   0,   0,   0,   0,   0,   0,   0,   0,\n",
              "         0,   0,   0,   0,   0,   0,   0,   0,   0,   0,   0,   0,   0,\n",
              "         0,   0,   0,   0,   0,   0,   0,   0,   0,   0,   0,   0,   0,\n",
              "         0,   0,   0,   0,   0,   0,   0,   0,   0,   0,   0,   0,   0,\n",
              "         0,   0,   0,   0,   0,   0,   0,   0,   0,   0,   0,   0,   0,\n",
              "         0,   0,   0,   0,   0,   0,   0,   0,   0,   0,   0,   0,   0,\n",
              "         0,   0,   0,   0,   0,   1,   0,   0,  13,  73,   0,   0,   1,\n",
              "         4,   0,   0,   0,   0,   1,   1,   0,   0,   0,   0,   0,   0,\n",
              "         0,   0,   0,   0,   0,   0,   0,   3,   0,  36, 136, 127,  62,\n",
              "        54,   0,   0,   0,   1,   3,   4,   0,   0,   3,   0,   0,   0,\n",
              "         0,   0,   0,   0,   0,   0,   0,   0,   0,   6,   0, 102, 204,\n",
              "       176, 134, 144, 123,  23,   0,   0,   0,   0,  12,  10,   0,   0,\n",
              "         0,   0,   0,   0,   0,   0,   0,   0,   0,   0,   0,   0,   0,\n",
              "       155, 236, 207, 178, 107, 156, 161, 109,  64,  23,  77, 130,  72,\n",
              "        15,   0,   0,   0,   0,   0,   0,   0,   0,   0,   0,   0,   1,\n",
              "         0,  69, 207, 223, 218, 216, 216, 163, 127, 121, 122, 146, 141,\n",
              "        88, 172,  66,   0,   0,   0,   0,   0,   0,   0,   0,   0,   1,\n",
              "         1,   1,   0, 200, 232, 232, 233, 229, 223, 223, 215, 213, 164,\n",
              "       127, 123, 196, 229,   0,   0,   0,   0,   0,   0,   0,   0,   0,\n",
              "         0,   0,   0,   0,   0, 183, 225, 216, 223, 228, 235, 227, 224,\n",
              "       222, 224, 221, 223, 245, 173,   0,   0,   0,   0,   0,   0,   0,\n",
              "         0,   0,   0,   0,   0,   0,   0, 193, 228, 218, 213, 198, 180,\n",
              "       212, 210, 211, 213, 223, 220, 243, 202,   0,   0,   0,   0,   0,\n",
              "         0,   0,   0,   0,   0,   1,   3,   0,  12, 219, 220, 212, 218,\n",
              "       192, 169, 227, 208, 218, 224, 212, 226, 197, 209,  52,   0,   0,\n",
              "         0,   0,   0,   0,   0,   0,   0,   0,   6,   0,  99, 244, 222,\n",
              "       220, 218, 203, 198, 221, 215, 213, 222, 220, 245, 119, 167,  56,\n",
              "         0,   0,   0,   0,   0,   0,   0,   0,   0,   4,   0,   0,  55,\n",
              "       236, 228, 230, 228, 240, 232, 213, 218, 223, 234, 217, 217, 209,\n",
              "        92,   0,   0,   0,   1,   4,   6,   7,   2,   0,   0,   0,   0,\n",
              "         0, 237, 226, 217, 223, 222, 219, 222, 221, 216, 223, 229, 215,\n",
              "       218, 255,  77,   0,   0,   3,   0,   0,   0,   0,   0,   0,   0,\n",
              "        62, 145, 204, 228, 207, 213, 221, 218, 208, 211, 218, 224, 223,\n",
              "       219, 215, 224, 244, 159,   0,   0,   0,   0,   0,  18,  44,  82,\n",
              "       107, 189, 228, 220, 222, 217, 226, 200, 205, 211, 230, 224, 234,\n",
              "       176, 188, 250, 248, 233, 238, 215,   0,   0,  57, 187, 208, 224,\n",
              "       221, 224, 208, 204, 214, 208, 209, 200, 159, 245, 193, 206, 223,\n",
              "       255, 255, 221, 234, 221, 211, 220, 232, 246,   0,   3, 202, 228,\n",
              "       224, 221, 211, 211, 214, 205, 205, 205, 220, 240,  80, 150, 255,\n",
              "       229, 221, 188, 154, 191, 210, 204, 209, 222, 228, 225,   0,  98,\n",
              "       233, 198, 210, 222, 229, 229, 234, 249, 220, 194, 215, 217, 241,\n",
              "        65,  73, 106, 117, 168, 219, 221, 215, 217, 223, 223, 224, 229,\n",
              "        29,  75, 204, 212, 204, 193, 205, 211, 225, 216, 185, 197, 206,\n",
              "       198, 213, 240, 195, 227, 245, 239, 223, 218, 212, 209, 222, 220,\n",
              "       221, 230,  67,  48, 203, 183, 194, 213, 197, 185, 190, 194, 192,\n",
              "       202, 214, 219, 221, 220, 236, 225, 216, 199, 206, 186, 181, 177,\n",
              "       172, 181, 205, 206, 115,   0, 122, 219, 193, 179, 171, 183, 196,\n",
              "       204, 210, 213, 207, 211, 210, 200, 196, 194, 191, 195, 191, 198,\n",
              "       192, 176, 156, 167, 177, 210,  92,   0,   0,  74, 189, 212, 191,\n",
              "       175, 172, 175, 181, 185, 188, 189, 188, 193, 198, 204, 209, 210,\n",
              "       210, 211, 188, 188, 194, 192, 216, 170,   0,   2,   0,   0,   0,\n",
              "        66, 200, 222, 237, 239, 242, 246, 243, 244, 221, 220, 193, 191,\n",
              "       179, 182, 182, 181, 176, 166, 168,  99,  58,   0,   0,   0,   0,\n",
              "         0,   0,   0,   0,   0,  40,  61,  44,  72,  41,  35,   0,   0,\n",
              "         0,   0,   0,   0,   0,   0,   0,   0,   0,   0,   0,   0,   0,\n",
              "         0,   0,   0,   0,   0,   0,   0,   0,   0,   0,   0,   0,   0,\n",
              "         0,   0,   0,   0,   0,   0,   0,   0,   0,   0,   0,   0,   0,\n",
              "         0,   0,   0,   0,   0,   0,   0,   0,   0,   0,   0,   0,   0,\n",
              "         0,   0,   0,   0,   0,   0,   0,   0,   0,   0,   0,   0,   0,\n",
              "         0,   0,   0,   0], dtype=uint8)"
            ]
          },
          "metadata": {
            "tags": []
          },
          "execution_count": 80
        }
      ]
    },
    {
      "cell_type": "code",
      "metadata": {
        "id": "Ix1C23i_560R",
        "colab_type": "code",
        "outputId": "bbcb54e7-dcc4-43a9-c877-399cd67b394d",
        "colab": {
          "base_uri": "https://localhost:8080/",
          "height": 322
        }
      },
      "source": [
        "# 一双耐克鞋?\n",
        "plt.figure(figsize = (10, 5))\n",
        "pixels = train[0].reshape((28, 28))\n",
        "plt.imshow(pixels, cmap='gray')\n",
        "plt.show()"
      ],
      "execution_count": 0,
      "outputs": [
        {
          "output_type": "display_data",
          "data": {
            "image/png": "[encoded data removed]",
            "text/plain": [
              "<Figure size 720x360 with 1 Axes>"
            ]
          },
          "metadata": {
            "tags": []
          }
        }
      ]
    },
    {
      "cell_type": "markdown",
      "metadata": {
        "id": "x8gIl5z46X8E",
        "colab_type": "text"
      },
      "source": [
        "There is cost with moving data between host memory and device memory (GPU memory) and we will include that core when comparing speeds"
      ]
    },
    {
      "cell_type": "code",
      "metadata": {
        "id": "Tkc68ROy6Cyj",
        "colab_type": "code",
        "outputId": "4707fd29-eaab-431c-822c-4ec966b44842",
        "colab": {
          "base_uri": "https://localhost:8080/",
          "height": 50
        }
      },
      "source": [
        "%%time\n",
        "record_data = (('fea%d'%i, data[:,i]) for i in range(data.shape[1]))\n",
        "gdf = cudf.DataFrame(record_data)\n",
        "\n",
        "label_data = [('fea%0', target)]\n",
        "\n",
        "target_gdf = cudf.DataFrame(label_data)"
      ],
      "execution_count": 93,
      "outputs": [
        {
          "output_type": "stream",
          "text": [
            "CPU times: user 1.07 s, sys: 64.8 ms, total: 1.13 s\n",
            "Wall time: 1.14 s\n"
          ],
          "name": "stdout"
        }
      ]
    },
    {
      "cell_type": "markdown",
      "metadata": {
        "id": "Y4JIUCUU_Nw2",
        "colab_type": "text"
      },
      "source": [
        "`gdf` is a GPU backed dataframe -- all the data is stored in the device memory of the GPU.  With the data converted, we can apply the `cumlUMAP` the same inputs as we do for the standard UMAP.\n",
        "\n",
        "For datasets that provide a set of labels, we can pass those labels into the `fit()` and `fit_transform()` functions to have UMAP use them for better cluster separation. Supervised training can even be used with an incomplete set of labels by setting the unknown labels to -1\". It is important that the labels array be the same size as the number of samples being used to train."
      ]
    },
    {
      "cell_type": "code",
      "metadata": {
        "id": "duVWX5Po_Sli",
        "colab_type": "code",
        "colab": {
          "base_uri": "https://localhost:8080/",
          "height": 87
        },
        "outputId": "b122eef6-bd28-4a64-f251-dd2157bc4e33"
      },
      "source": [
        "start = time.time()\n",
        "g_embedding = cumlUMAP(n_neighbors=5, \n",
        "                       init=\"spectral\").fit_transform(gdf)\n",
        "                       \n",
        "print(\"Took %f sec.\" % (time.time() - start))"
      ],
      "execution_count": 97,
      "outputs": [
        {
          "output_type": "stream",
          "text": [
            "/usr/local/lib/python3.6/dist-packages/ipykernel_launcher.py:2: UserWarning: Parameter should_downcast is deprecated, use convert_dtype in fit, fit_transform and transform  methods instead. \n",
            "  \n"
          ],
          "name": "stderr"
        },
        {
          "output_type": "stream",
          "text": [
            "Took 8.733225 sec.\n"
          ],
          "name": "stdout"
        }
      ]
    },
    {
      "cell_type": "code",
      "metadata": {
        "id": "0rC313fWAv-8",
        "colab_type": "code",
        "colab": {}
      },
      "source": [
        "#start = time.time()\n",
        "#g_embedding_supervised = cumlUMAP(verbose = False, \n",
        "#                                  n_neighbors=5, \n",
        "#                                  init=\"spectral\", \n",
        "#                                  target_metric = \"categorical\").fit_transform(gdf, target_gdf)\n",
        "#                                  \n",
        "#print(\"Took %f sec.\" % (time.time() - start))"
      ],
      "execution_count": 0,
      "outputs": []
    },
    {
      "cell_type": "markdown",
      "metadata": {
        "id": "rlIPY4CW6i83",
        "colab_type": "text"
      },
      "source": [
        "## **Visualization**\n",
        "\n",
        "OK, now let's plot the output of the embeddings so that we can see the seperation of the neighborhoods.  Let's start by creating the classes."
      ]
    },
    {
      "cell_type": "code",
      "metadata": {
        "id": "fgJcOU1J6fPf",
        "colab_type": "code",
        "colab": {}
      },
      "source": [
        "classes = ['T-shirt/top',\n",
        "           'Trouser',\n",
        "           'Pullover',\n",
        "           'Dress',\n",
        "           'Coat',\n",
        "           'Sandal',\n",
        "           'Shirt',\n",
        "           'Sneaker',\n",
        "           'Bag',\n",
        "           'Ankle boot']"
      ],
      "execution_count": 0,
      "outputs": []
    },
    {
      "cell_type": "code",
      "metadata": {
        "id": "MNS_t4zP6saQ",
        "colab_type": "code",
        "outputId": "4432cfe6-d631-4df8-c527-b6dd890fb1ee",
        "colab": {
          "base_uri": "https://localhost:8080/",
          "height": 70
        }
      },
      "source": [
        "#Needs to be redone because of timeit function sometimes loses our g_embedding variable\n",
        "g_embedding = cumlUMAP(n_neighbors=5, \n",
        "                       init=\"spectral\").fit_transform(gdf)"
      ],
      "execution_count": 0,
      "outputs": [
        {
          "output_type": "stream",
          "text": [
            "/usr/local/lib/python3.6/dist-packages/ipykernel_launcher.py:2: UserWarning: Parameter should_downcast is deprecated, use convert_dtype in fit, fit_transform and transform  methods instead. \n",
            "  \n"
          ],
          "name": "stderr"
        }
      ]
    },
    {
      "cell_type": "markdown",
      "metadata": {
        "id": "wkDs7GQd7VCg",
        "colab_type": "text"
      },
      "source": [
        "Just as the original author of UMAP, Leland McInnes, states in the [UMAP docs](https://umap-learn.readthedocs.io/en/latest/supervised.html), we can plot the results and show the separation between the various classes defined above."
      ]
    },
    {
      "cell_type": "code",
      "metadata": {
        "id": "baosf1DZ7IJe",
        "colab_type": "code",
        "outputId": "6bf14a3f-bd00-45a1-b66b-5355cfa5127b",
        "colab": {
          "base_uri": "https://localhost:8080/",
          "height": 482
        }
      },
      "source": [
        "g_embedding_numpy = g_embedding.to_pandas().values      #it is necessary to convert to numpy array to do the visual mapping\n",
        "\n",
        "fig, ax = plt.subplots(1, figsize=(10, 8))\n",
        "plt.scatter(g_embedding_numpy[:,1], \n",
        "            g_embedding_numpy[:,0], \n",
        "            s=0.3, \n",
        "            c=target, \n",
        "            cmap='Spectral', \n",
        "            alpha=1.0)\n",
        "\n",
        "plt.setp(ax, xticks=[], yticks=[])\n",
        "\n",
        "cbar = plt.colorbar(boundaries=np.arange(11)-0.5)\n",
        "\n",
        "cbar.set_ticks(np.arange(10))\n",
        "\n",
        "cbar.set_ticklabels(classes)\n",
        "\n",
        "plt.title('Fashion MNIST Embedded via cumlUMAP');"
      ],
      "execution_count": 103,
      "outputs": [
        {
          "output_type": "display_data",
          "data": {
            "image/png": "[encoded data removed]",
            "text/plain": [
              "<Figure size 720x576 with 2 Axes>"
            ]
          },
          "metadata": {
            "tags": []
          }
        }
      ]
    },
    {
      "cell_type": "markdown",
      "metadata": {
        "id": "NCvW8fWQBJ0X",
        "colab_type": "text"
      },
      "source": [
        "## **Comparison of Implementations**\n",
        "And side-by-side we can see the effects of supervised training.  Notice how providing the labels enables the resulting model to better separation of sneakers, ankle books, and sandals while also providing a much more distinct separation of shirts, t-shirts, pullovers, and coats. "
      ]
    },
    {
      "cell_type": "code",
      "metadata": {
        "id": "tkCwdV3pBST8",
        "colab_type": "code",
        "colab": {}
      },
      "source": [
        "#g_embedding_numpy = g_embedding.to_pandas().values #it is necessary to convert to numpy array to do the visual mapping\n",
        "\n",
        "#fig, ax = plt.subplots(nrows=1, ncols=2, figsize=(10, 5))\n",
        "\n",
        "#ax[0].scatter(g_embedding_numpy[:,1], g_embedding_numpy[:,0], s=0.3, c=target, cmap='Spectral', alpha=1.0)\n",
        "\n",
        "#im = ax[1].scatter(g_embedding_supervised_numpy[:,1], g_embedding_supervised_numpy[:,0], s=0.3, c=target, cmap='Spectral', alpha=1.0)\n",
        "\n",
        "#ax[0].set_title('Unsupervised Fashion MNIST Embedded via cumlUMAP ');\n",
        "#ax[1].set_title('Supervised Fashion MNIST Embedded via UMAP');\n",
        "\n",
        "#fig.subplots_adjust(right=0.8)\n",
        "\n",
        "#cax,kw = mpl.colorbar.make_axes([a for a in ax.flat])\n",
        "\n",
        "#cbar = plt.colorbar(im, cax=cax, **kw)\n",
        "#cbar.set_ticks(np.arange(10))\n",
        "#cbar.set_ticklabels(classes)"
      ],
      "execution_count": 0,
      "outputs": []
    },
    {
      "cell_type": "markdown",
      "metadata": {
        "id": "Iw9wP1-07q0_",
        "colab_type": "text"
      },
      "source": [
        "Additionally, we can also quanititaviely compare the perfomance of `cumlUMAP` (GPU UMAP) to the reference/original implementation (CPU UMAP) using the [trustworthiness score](https://github.com/scikit-learn/scikit-learn/blob/master/sklearn/manifold/t_sne.py#L395).  From the docstring:\n",
        "\n",
        "> Trustworthiness expresses to what extent the local structure is retained.  The trustworthiness is within [0, 1].\n",
        "\n",
        "\n",
        "Like `t-SNE`, UMAP tries to capture both global and local structure and thus, we can apply the `trustworthiness` of the `g_embedding` data against the original input.  With a higher score we are demonstrating that the algorithm does a better and better job of local structure retention.  As [Corey Nolet](https://github.com/cjnolet) notes:\n",
        "> Algorithms like UMAP aim to preserve local neighborhood structure and so measuring this property (trustworthiness) measures the algorithm's performance."
      ]
    },
    {
      "cell_type": "markdown",
      "metadata": {
        "id": "lW2Odahe7u0x",
        "colab_type": "text"
      },
      "source": [
        "Scoring ~97% shows the GPU implementation is comparable to the original CPU implementation and the training time was ~9.5X faster"
      ]
    }
  ]
}