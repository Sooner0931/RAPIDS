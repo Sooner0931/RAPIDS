{
  "nbformat": 4,
  "nbformat_minor": 0,
  "metadata": {
    "colab": {
      "name": "2_UDFs.ipynb",
      "provenance": [],
      "collapsed_sections": []
    },
    "kernelspec": {
      "name": "python3",
      "display_name": "Python 3"
    },
    "accelerator": "GPU"
  },
  "cells": [
    {
      "cell_type": "code",
      "metadata": {
        "id": "qZUDVKvAyePW",
        "colab_type": "code",
        "colab": {
          "base_uri": "https://localhost:8080/",
          "height": 1000
        },
        "outputId": "3d1d570c-ffa1-409b-b448-e8d5c994076a"
      },
      "source": [
        "!wget -nc https://github.com/rapidsai/notebooks-extended/raw/master/utils/rapids-colab.sh\n",
        "!bash rapids-colab.sh\n",
        "\n",
        "import sys, os\n",
        "\n",
        "sys.path.append('/usr/local/lib/python3.6/site-packages/')\n",
        "os.environ['NUMBAPRO_NVVM'] = '/usr/local/cuda/nvvm/lib64/libnvvm.so'\n",
        "os.environ['NUMBAPRO_LIBDEVICE'] = '/usr/local/cuda/nvvm/libdevice/'"
      ],
      "execution_count": 1,
      "outputs": [
        {
          "output_type": "stream",
          "text": [
            "--2020-01-23 00:26:55--  https://github.com/rapidsai/notebooks-extended/raw/master/utils/rapids-colab.sh\n",
            "Resolving github.com (github.com)... 140.82.113.4\n",
            "Connecting to github.com (github.com)|140.82.113.4|:443... connected.\n",
            "HTTP request sent, awaiting response... 301 Moved Permanently\n",
            "Location: https://github.com/rapidsai/notebooks-contrib/raw/master/utils/rapids-colab.sh [following]\n",
            "--2020-01-23 00:27:00--  https://github.com/rapidsai/notebooks-contrib/raw/master/utils/rapids-colab.sh\n",
            "Reusing existing connection to github.com:443.\n",
            "HTTP request sent, awaiting response... 302 Found\n",
            "Location: https://raw.githubusercontent.com/rapidsai/notebooks-contrib/master/utils/rapids-colab.sh [following]\n",
            "--2020-01-23 00:27:00--  https://raw.githubusercontent.com/rapidsai/notebooks-contrib/master/utils/rapids-colab.sh\n",
            "Resolving raw.githubusercontent.com (raw.githubusercontent.com)... 151.101.0.133, 151.101.64.133, 151.101.128.133, ...\n",
            "Connecting to raw.githubusercontent.com (raw.githubusercontent.com)|151.101.0.133|:443... connected.\n",
            "HTTP request sent, awaiting response... 200 OK\n",
            "Length: 5287 (5.2K) [text/plain]\n",
            "Saving to: ‘rapids-colab.sh’\n",
            "\n",
            "rapids-colab.sh     100%[===================>]   5.16K  --.-KB/s    in 0s      \n",
            "\n",
            "2020-01-23 00:27:01 (119 MB/s) - ‘rapids-colab.sh’ saved [5287/5287]\n",
            "\n",
            "PLEASE READ\n",
            "********************************************************************************************************\n",
            "Colab v0.11+ Migration Notice:\n",
            " \n",
            "There has been a NECESSARY Colab script code change for VERSION 0.11+ that MAY REQUIRE an update how you install RAPIDS into Colab!  \n",
            "Not all Colab notebooks are updated (like personal Colabs) and while the script will install RAPIDS correctly, \n",
            "a neccessary script to update pyarrow to v0.15.x to be compatible with RAPIDS v0.11+ may not run, and your RAPIDS instance\n",
            "will BREAK\n",
            " \n",
            "Please enter in the box your desired RAPIDS version (ex: '0.10' or '0.11', between 0.9 to 0.11, without the quotes) and hit Enter. \n",
            "0.10\n",
            "You may not have to change anything.  All versions of our script should work with this version of Colab\n",
            "--2020-01-23 00:27:08--  https://github.com/rapidsai/notebooks-contrib/raw/master/utils/env-check.py\n",
            "Resolving github.com (github.com)... 140.82.113.4\n",
            "Connecting to github.com (github.com)|140.82.113.4|:443... connected.\n",
            "HTTP request sent, awaiting response... 302 Found\n",
            "Location: https://raw.githubusercontent.com/rapidsai/notebooks-contrib/master/utils/env-check.py [following]\n",
            "--2020-01-23 00:27:09--  https://raw.githubusercontent.com/rapidsai/notebooks-contrib/master/utils/env-check.py\n",
            "Resolving raw.githubusercontent.com (raw.githubusercontent.com)... 151.101.0.133, 151.101.64.133, 151.101.128.133, ...\n",
            "Connecting to raw.githubusercontent.com (raw.githubusercontent.com)|151.101.0.133|:443... connected.\n",
            "HTTP request sent, awaiting response... 200 OK\n",
            "Length: 918 [text/plain]\n",
            "Saving to: ‘env-check.py’\n",
            "\n",
            "env-check.py        100%[===================>]     918  --.-KB/s    in 0s      \n",
            "\n",
            "2020-01-23 00:27:09 (172 MB/s) - ‘env-check.py’ saved [918/918]\n",
            "\n",
            "Checking for GPU type:\n",
            "***********************************************************************\n",
            "Woo! Your instance has the right kind of GPU, a 'Tesla T4'!\n",
            "***********************************************************************\n",
            "\n",
            "Removing conflicting packages, will replace with RAPIDS compatible versions\n",
            "Uninstalling xgboost-0.90:\n",
            "  Successfully uninstalled xgboost-0.90\n",
            "Uninstalling dask-2.9.1:\n",
            "  Successfully uninstalled dask-2.9.1\n",
            "Uninstalling distributed-1.25.3:\n",
            "  Successfully uninstalled distributed-1.25.3\n",
            "Installing conda\n",
            "--2020-01-23 00:27:19--  https://repo.continuum.io/miniconda/Miniconda3-4.5.4-Linux-x86_64.sh\n",
            "Resolving repo.continuum.io (repo.continuum.io)... 104.18.200.79, 104.18.201.79, 2606:4700::6812:c84f, ...\n",
            "Connecting to repo.continuum.io (repo.continuum.io)|104.18.200.79|:443... connected.\n",
            "HTTP request sent, awaiting response... 200 OK\n",
            "Length: 58468498 (56M) [application/x-sh]\n",
            "Saving to: ‘Miniconda3-4.5.4-Linux-x86_64.sh’\n",
            "\n",
            "Miniconda3-4.5.4-Li 100%[===================>]  55.76M   104MB/s    in 0.5s    \n",
            "\n",
            "2020-01-23 00:27:19 (104 MB/s) - ‘Miniconda3-4.5.4-Linux-x86_64.sh’ saved [58468498/58468498]\n",
            "\n",
            "PREFIX=/usr/local\n",
            "installing: python-3.6.5-hc3d631a_2 ...\n",
            "Python 3.6.5 :: Anaconda, Inc.\n",
            "installing: ca-certificates-2018.03.07-0 ...\n",
            "installing: conda-env-2.6.0-h36134e3_1 ...\n",
            "installing: libgcc-ng-7.2.0-hdf63c60_3 ...\n",
            "installing: libstdcxx-ng-7.2.0-hdf63c60_3 ...\n",
            "installing: libffi-3.2.1-hd88cf55_4 ...\n",
            "installing: ncurses-6.1-hf484d3e_0 ...\n",
            "installing: openssl-1.0.2o-h20670df_0 ...\n",
            "installing: tk-8.6.7-hc745277_3 ...\n",
            "installing: xz-5.2.4-h14c3975_4 ...\n",
            "installing: yaml-0.1.7-had09818_2 ...\n",
            "installing: zlib-1.2.11-ha838bed_2 ...\n",
            "installing: libedit-3.1.20170329-h6b74fdf_2 ...\n",
            "installing: readline-7.0-ha6073c6_4 ...\n",
            "installing: sqlite-3.23.1-he433501_0 ...\n",
            "installing: asn1crypto-0.24.0-py36_0 ...\n",
            "installing: certifi-2018.4.16-py36_0 ...\n",
            "installing: chardet-3.0.4-py36h0f667ec_1 ...\n",
            "installing: idna-2.6-py36h82fb2a8_1 ...\n",
            "installing: pycosat-0.6.3-py36h0a5515d_0 ...\n",
            "installing: pycparser-2.18-py36hf9f622e_1 ...\n",
            "installing: pysocks-1.6.8-py36_0 ...\n",
            "installing: ruamel_yaml-0.15.37-py36h14c3975_2 ...\n",
            "installing: six-1.11.0-py36h372c433_1 ...\n",
            "installing: cffi-1.11.5-py36h9745a5d_0 ...\n",
            "installing: setuptools-39.2.0-py36_0 ...\n",
            "installing: cryptography-2.2.2-py36h14c3975_0 ...\n",
            "installing: wheel-0.31.1-py36_0 ...\n",
            "installing: pip-10.0.1-py36_0 ...\n",
            "installing: pyopenssl-18.0.0-py36_0 ...\n",
            "installing: urllib3-1.22-py36hbe7ace6_0 ...\n",
            "installing: requests-2.18.4-py36he2e5f8d_1 ...\n",
            "installing: conda-4.5.4-py36_0 ...\n",
            "installation finished.\n",
            "WARNING:\n",
            "    You currently have a PYTHONPATH environment variable set. This may cause\n",
            "    unexpected behavior when running the Python interpreter in Miniconda3.\n",
            "    For best results, please verify that your PYTHONPATH only points to\n",
            "    directories of packages that are compatible with the Python interpreter\n",
            "    in Miniconda3: /usr/local\n",
            "Installing RAPIDS 0.10 packages from the stable release channel\n",
            "Please standby, this will take a few minutes...\n",
            "Solving environment: - \b\b\\ \b\b| \b\b/ \b\b- \b\b\\ \b\b| \b\b/ \b\b- \b\b\\ \b\b| \b\b/ \b\b- \b\b\\ \b\b| \b\b/ \b\b- \b\b\\ \b\b| \b\b/ \b\b- \b\b\\ \b\b| \b\b/ \b\b- \b\b\\ \b\b| \b\b/ \b\b- \b\b\\ \b\b| \b\b/ \b\b- \b\b\\ \b\b| \b\b/ \b\b- \b\b\\ \b\b| \b\b/ \b\b- \b\b\\ \b\b| \b\b/ \b\b- \b\b\\ \b\b| \b\b/ \b\b- \b\b\\ \b\b| \b\b/ \b\b- \b\b\\ \b\b| \b\b/ \b\b- \b\b\\ \b\b| \b\b/ \b\b- \b\b\\ \b\b| \b\b/ \b\b- \b\b\\ \b\b| \b\b/ \b\b- \b\b\\ \b\b| \b\b/ \b\b- \b\b\\ \b\b| \b\b/ \b\b- \b\b\\ \b\b| \b\b/ \b\b- \b\b\\ \b\b| \b\b/ \b\b- \b\b\\ \b\b| \b\b/ \b\b- \b\b\\ \b\b| \b\b/ \b\b- \b\b\\ \b\b| \b\b/ \b\b- \b\b\\ \b\b| \b\b/ \b\b- \b\b\\ \b\b| \b\b/ \b\b- \b\b\\ \b\b| \b\b/ \b\b- \b\b\\ \b\b| \b\b/ \b\b- \b\b\\ \b\b| \b\b/ \b\b- \b\b\\ \b\b| \b\b/ \b\b- \b\b\\ \b\b| \b\b/ \b\b- \b\b\\ \b\b| \b\b/ \b\b- \b\b\\ \b\b| \b\b/ \b\b- \b\b\\ \b\b| \b\b/ \b\b- \b\b\\ \b\b| \b\b/ \b\b- \b\b\\ \b\b| \b\b/ \b\b- \b\b\\ \b\b| \b\b/ \b\b- \b\b\\ \b\b| \b\b/ \b\b- \b\b\\ \b\b| \b\b/ \b\b- \b\b\\ \b\b| \b\b/ \b\b- \b\b\\ \b\b| \b\b/ \b\b- \b\b\\ \b\b| \b\b/ \b\b- \b\b\\ \b\b| \b\b/ \b\b- \b\b\\ \b\b| \b\b/ \b\b- \b\b\\ \b\b| \b\b/ \b\b- \b\b\\ \b\b| \b\b/ \b\b- \b\b\\ \b\b| \b\b/ \b\b- \b\b\\ \b\b| \b\b/ \b\b- \b\b\\ \b\b| \b\b/ \b\b- \b\b\\ \b\b| \b\b/ \b\b- \b\b\\ \b\b| \b\b/ \b\b- \b\b\\ \b\b| \b\b/ \b\b- \b\b\\ \b\b| \b\b/ \b\b- \b\b\\ \b\b| \b\b/ \b\b- \b\b\\ \b\b| \b\b/ \b\b- \b\b\\ \b\b| \b\b/ \b\b- \b\b\\ \b\b| \b\b/ \b\b- \b\b\\ \b\b| \b\b/ \b\b- \b\b\\ \b\b| \b\b/ \b\b- \b\b\\ \b\b| \b\b/ \b\b- \b\b\\ \b\b| \b\b/ \b\b- \b\b\\ \b\b| \b\b/ \b\b- \b\b\\ \b\b| \b\b/ \b\b- \b\b\\ \b\b| \b\b/ \b\b- \b\b\\ \b\b| \b\b/ \b\b- \b\b\\ \b\b| \b\b/ \b\b- \b\b\\ \b\b| \b\b/ \b\b- \b\b\\ \b\b| \b\b/ \b\b- \b\b\\ \b\b| \b\b/ \b\b- \b\b\\ \b\b| \b\b/ \b\b- \b\b\\ \b\b| \b\b/ \b\b- \b\b\\ \b\b| \b\b/ \b\b- \b\b\\ \b\b| \b\b/ \b\b- \b\b\\ \b\b| \b\b/ \b\b- \b\b\\ \b\b| \b\b/ \b\b- \b\b\\ \b\b| \b\b/ \b\b- \b\b\\ \b\b| \b\b/ \b\b- \b\b\\ \b\b| \b\b/ \b\b- \b\b\\ \b\b| \b\b/ \b\b- \b\b\\ \b\b| \b\b/ \b\b- \b\b\\ \b\b| \b\b/ \b\b- \b\b\\ \b\b| \b\b/ \b\b- \b\b\\ \b\b| \b\b/ \b\b- \b\b\\ \b\b| \b\b/ \b\b- \b\b\\ \b\b| \b\b/ \b\b- \b\b\\ \b\b| \b\b/ \b\b- \b\b\\ \b\b| \b\b/ \b\b- \b\b\\ \b\b| \b\b/ \b\b- \b\b\\ \b\b| \b\b/ \b\b- \b\b\\ \b\b| \b\b/ \b\b- \b\b\\ \b\b| \b\b/ \b\b- \b\b\\ \b\b| \b\b/ \b\b- \b\b\\ \b\b| \b\b/ \b\b- \b\b\\ \b\b| \b\b/ \b\b- \b\b\\ \b\b| \b\b/ \b\b- \b\b\\ \b\b| \b\b/ \b\b- \b\b\\ \b\b| \b\b/ \b\b- \b\b\\ \b\b| \b\b/ \b\b- \b\b\\ \b\b| \b\b/ \b\b- \b\b\\ \b\b| \b\b/ \b\b- \b\b\\ \b\b| \b\b/ \b\b- \b\b\\ \b\b| \b\b/ \b\b- \b\b\\ \b\b| \b\b/ \b\b- \b\b\\ \b\b| \b\b/ \b\b- \b\b\\ \b\b| \b\b/ \b\b- \b\b\\ \b\b| \b\b/ \b\b- \b\b\\ \b\b| \b\b/ \b\b- \b\b\\ \b\b| \b\b/ \b\b- \b\b\\ \b\b| \b\b/ \b\b- \b\b\\ \b\b| \b\b/ \b\b- \b\b\\ \b\b| \b\b/ \b\b- \b\b\\ \b\b| \b\b/ \b\b- \b\b\\ \b\b| \b\b/ \b\b- \b\b\\ \b\b| \b\b/ \b\b- \b\b\\ \b\b| \b\b/ \b\b- \b\b\\ \b\b| \b\b/ \b\b- \b\b\\ \b\b| \b\b/ \b\b- \b\b\\ \b\b| \b\b/ \b\b- \b\b\\ \b\b| \b\b/ \b\b- \b\b\\ \b\b| \b\b/ \b\b- \b\b\\ \b\b| \b\b/ \b\b- \b\b\\ \b\b| \b\b/ \b\b- \b\b\\ \b\b| \b\b/ \b\b- \b\b\\ \b\b| \b\b/ \b\b- \b\b\\ \b\b| \b\b/ \b\b- \b\b\\ \b\b| \b\b/ \b\b- \b\b\\ \b\b| \b\b/ \b\b- \b\b\\ \b\b| \b\b/ \b\b- \b\b\\ \b\b| \b\b/ \b\b- \b\b\\ \b\b| \b\b/ \b\b- \b\b\\ \b\b| \b\b/ \b\b- \b\b\\ \b\b| \b\b/ \b\b- \b\b\\ \b\b| \b\b/ \b\b- \b\b\\ \b\b| \b\b/ \b\b- \b\b\\ \b\b| \b\b/ \b\b- \b\b\\ \b\b| \b\b/ \b\b- \b\b\\ \b\b| \b\b/ \b\b- \b\b\\ \b\b| \b\b/ \b\b- \b\b\\ \b\b| \b\b/ \b\b- \b\b\\ \b\b| \b\b/ \b\b- \b\b\\ \b\b| \b\b/ \b\b- \b\b\\ \b\b| \b\b/ \b\b- \b\b\\ \b\b| \b\b/ \b\b- \b\b\\ \b\b| \b\b/ \b\b- \b\b\\ \b\b| \b\b/ \b\b- \b\b\\ \b\b| \b\b/ \b\b- \b\b\\ \b\b| \b\b/ \b\b- \b\b\\ \b\b| \b\b/ \b\b- \b\b\\ \b\b| \b\b/ \b\b- \b\b\\ \b\b| \b\b/ \b\b- \b\b\\ \b\b| \b\b/ \b\b- \b\b\\ \b\b| \b\b/ \b\b- \b\b\\ \b\b| \b\b/ \b\b- \b\b\\ \b\b| \b\b/ \b\b- \b\b\\ \b\b| \b\b/ \b\b- \b\b\\ \b\b| \b\b/ \b\b- \b\b\\ \b\b| \b\b/ \b\b- \b\b\\ \b\b| \b\b/ \b\b- \b\b\\ \b\b| \b\b/ \b\b- \b\b\\ \b\b| \b\b/ \b\b- \b\b\\ \b\b| \b\b/ \b\b- \b\b\\ \b\b| \b\b/ \b\b- \b\b\\ \b\b| \b\b/ \b\b- \b\b\\ \b\b| \b\b/ \b\b- \b\b\\ \b\b| \b\b/ \b\b- \b\b\\ \b\b| \b\b/ \b\b- \b\b\\ \b\b| \b\b/ \b\b- \b\b\\ \b\b| \b\b/ \b\b- \b\b\\ \b\b| \b\b/ \b\b- \b\b\\ \b\b| \b\b/ \b\b- \b\b\\ \b\b| \b\b/ \b\b- \b\b\\ \b\b| \b\b/ \b\b- \b\b\\ \b\b| \b\b/ \b\b- \b\b\\ \b\b| \b\b/ \b\b- \b\b\\ \b\b| \b\b/ \b\b- \b\b\\ \b\b| \b\b/ \b\b- \b\b\\ \b\b| \b\b/ \b\b- \b\b\\ \b\b| \b\b/ \b\b- \b\b\\ \b\b| \b\b/ \b\b- \b\b\\ \b\b| \b\b/ \b\b- \b\b\\ \b\b| \b\b/ \b\b- \b\b\\ \b\b| \b\b/ \b\b- \b\b\\ \b\b| \b\b/ \b\b- \b\b\\ \b\b| \b\b/ \b\b- \b\b\\ \b\b| \b\b/ \b\b- \b\b\\ \b\b| \b\b/ \b\b- \b\b\\ \b\b| \b\b/ \b\b- \b\b\\ \b\b| \b\b/ \b\b- \b\b\\ \b\b| \b\b/ \b\b- \b\b\\ \b\b| \b\b/ \b\b- \b\b\\ \b\b| \b\b/ \b\b- \b\b\\ \b\b| \b\b/ \b\b- \b\b\\ \b\b| \b\b/ \b\b- \b\b\\ \b\b| \b\b/ \b\b- \b\b\\ \b\b| \b\b/ \b\b- \b\b\\ \b\b| \b\b/ \b\b- \b\b\\ \b\b| \b\b/ \b\b- \b\b\\ \b\b| \b\b/ \b\b- \b\b\\ \b\b| \b\b/ \b\b- \b\b\\ \b\b| \b\b/ \b\b- \b\b\\ \b\b| \b\b/ \b\b- \b\b\\ \b\b| \b\b/ \b\b- \b\b\\ \b\b| \b\b/ \b\b- \b\b\\ \b\b| \b\b/ \b\b- \b\b\\ \b\b| \b\b/ \b\b- \b\b\\ \b\b| \b\b/ \b\b- \b\b\\ \b\b| \b\b/ \b\b- \b\b\\ \b\b| \b\b/ \b\b- \b\b\\ \b\b| \b\b/ \b\b- \b\b\\ \b\b| \b\b/ \b\b- \b\b\\ \b\b| \b\b/ \b\b- \b\b\\ \b\b| \b\b/ \b\b- \b\b\\ \b\b| \b\b/ \b\b- \b\b\\ \b\b| \b\b/ \b\b- \b\b\\ \b\b| \b\b/ \b\b- \b\b\\ \b\b| \b\b/ \b\b- \b\b\\ \b\b| \b\b/ \b\b- \b\b\\ \b\b| \b\b/ \b\b- \b\b\\ \b\b| \b\b/ \b\b- \b\b\\ \b\b| \b\b/ \b\b- \b\b\\ \b\b| \b\b/ \b\b- \b\b\\ \b\b| \b\b/ \b\b- \b\b\\ \b\b| \b\bdone\n",
            "\n",
            "\n",
            "==> WARNING: A newer version of conda exists. <==\n",
            "  current version: 4.5.4\n",
            "  latest version: 4.8.1\n",
            "\n",
            "Please update conda by running\n",
            "\n",
            "    $ conda update -n base conda\n",
            "\n",
            "\n",
            "\n",
            "## Package Plan ##\n",
            "\n",
            "  environment location: /usr/local\n",
            "\n",
            "  added / updated specs: \n",
            "    - cudatoolkit=10.1\n",
            "    - cudf=0.10\n",
            "    - cugraph\n",
            "    - cuml\n",
            "    - cuspatial\n",
            "    - gcsfs\n",
            "    - pynvml\n",
            "    - python=3.6\n",
            "\n",
            "\n",
            "The following packages will be downloaded:\n",
            "\n",
            "    package                    |            build\n",
            "    ---------------------------|-----------------\n",
            "    lz4-c-1.8.3                |    he1b5a44_1001         187 KB  conda-forge\n",
            "    libffi-3.2.1               |    he1b5a44_1006          46 KB  conda-forge\n",
            "    pynvml-8.0.4               |             py_0          31 KB  conda-forge\n",
            "    cffi-1.13.2                |   py36h8022711_0         220 KB  conda-forge\n",
            "    oauthlib-3.0.1             |             py_0          82 KB  conda-forge\n",
            "    python-3.6.7               |    h357f687_1006        34.6 MB  conda-forge\n",
            "    libcuspatial-0.10.0        |       cuda10.1_0         1.6 MB  rapidsai\n",
            "    thrift-cpp-0.12.0          |    hf3afdfd_1004         2.4 MB  conda-forge\n",
            "    cryptography-2.8           |   py36h72c5cf5_1         616 KB  conda-forge\n",
            "    grpc-cpp-1.25.0            |       h18db393_0         5.1 MB  conda-forge\n",
            "    gcsfs-0.6.0                |             py_0          19 KB  conda-forge\n",
            "    google-auth-1.10.0         |             py_1          47 KB  conda-forge\n",
            "    c-ares-1.15.0              |    h516909a_1001         100 KB  conda-forge\n",
            "    google-auth-oauthlib-0.4.1 |             py_1          18 KB  conda-forge\n",
            "    python-dateutil-2.8.1      |             py_0         220 KB  conda-forge\n",
            "    six-1.14.0                 |           py36_0          23 KB  conda-forge\n",
            "    tk-8.6.10                  |       hed695b0_0         3.2 MB  conda-forge\n",
            "    zlib-1.2.11                |    h516909a_1006         105 KB  conda-forge\n",
            "    xz-5.2.4                   |    h14c3975_1001         366 KB  conda-forge\n",
            "    llvmlite-0.31.0            |   py36h8b12597_0         337 KB  conda-forge\n",
            "    pysocks-1.7.1              |           py36_0          27 KB  conda-forge\n",
            "    certifi-2019.11.28         |           py36_0         149 KB  conda-forge\n",
            "    libgfortran-ng-7.3.0       |       hdf63c60_4         1.7 MB  conda-forge\n",
            "    rsa-4.0                    |             py_0          27 KB  conda-forge\n",
            "    fsspec-0.6.2               |             py_0          46 KB  conda-forge\n",
            "    nccl-2.4.6.1               |       cuda10.1_0        66.9 MB  nvidia\n",
            "    setuptools-45.1.0          |           py36_0         642 KB  conda-forge\n",
            "    libllvm8-8.0.1             |       hc9558a2_0        23.2 MB  conda-forge\n",
            "    snappy-1.1.7               |    he1b5a44_1003          39 KB  conda-forge\n",
            "    numba-0.47.0               |   py36hb3f55d8_0         3.4 MB  conda-forge\n",
            "    libprotobuf-3.8.0          |       h8b12597_0         4.7 MB  conda-forge\n",
            "    cuspatial-0.10.0           |           py36_0         456 KB  rapidsai\n",
            "    boost-cpp-1.70.0           |       h8e57a91_2        21.1 MB  conda-forge\n",
            "    brotli-1.0.7               |    he1b5a44_1000         1.0 MB  conda-forge\n",
            "    sqlite-3.30.1              |       hcee41ef_0         2.0 MB  conda-forge\n",
            "    libblas-3.8.0              |      14_openblas          10 KB  conda-forge\n",
            "    libcuml-0.10.0             |       cuda10.1_0        40.6 MB  rapidsai\n",
            "    chardet-3.0.4              |        py36_1003         190 KB  conda-forge\n",
            "    readline-8.0               |       hf8c457e_0         441 KB  conda-forge\n",
            "    libnvstrings-0.10.0        |       cuda10.1_0        25.1 MB  rapidsai\n",
            "    pyjwt-1.7.1                |             py_0          17 KB  conda-forge\n",
            "    re2-2020.01.01             |       he1b5a44_0         422 KB  conda-forge\n",
            "    libevent-2.1.10            |       h72c5cf5_0         1.3 MB  conda-forge\n",
            "    fastavro-0.22.9            |   py36h516909a_0         409 KB  conda-forge\n",
            "    libgcc-ng-9.2.0            |       h24d8f2e_2         8.2 MB  conda-forge\n",
            "    pyopenssl-19.1.0           |           py36_0          83 KB  conda-forge\n",
            "    libopenblas-0.3.7          |       h5ec1e0e_6         7.6 MB  conda-forge\n",
            "    libcudf-0.10.0             |       cuda10.1_0        32.3 MB  rapidsai\n",
            "    libcblas-3.8.0             |      14_openblas          10 KB  conda-forge\n",
            "    rmm-0.10.0                 |           py36_0         135 KB  rapidsai\n",
            "    ca-certificates-2019.11.28 |       hecc5488_0         145 KB  conda-forge\n",
            "    _openmp_mutex-4.5          |            0_gnu         435 KB  conda-forge\n",
            "    cudf-0.10.0                |           py36_0         7.2 MB  rapidsai\n",
            "    cudatoolkit-10.1.243       |       h6bb024c_0       513.2 MB  nvidia\n",
            "    gflags-2.2.2               |    he1b5a44_1002         175 KB  conda-forge\n",
            "    nvstrings-0.10.0           |           py36_0         126 KB  rapidsai\n",
            "    cachetools-3.1.1           |             py_0          11 KB  conda-forge\n",
            "    pip-20.0.1                 |           py36_0         1.9 MB  conda-forge\n",
            "    liblapack-3.8.0            |      14_openblas          10 KB  conda-forge\n",
            "    pyarrow-0.14.1             |   py36h8b68381_2         2.8 MB  conda-forge\n",
            "    dlpack-0.2                 |       he1b5a44_1          13 KB  conda-forge\n",
            "    bzip2-1.0.8                |       h516909a_2         396 KB  conda-forge\n",
            "    zstd-1.4.0                 |       h3b9ef0a_0         928 KB  conda-forge\n",
            "    ncurses-6.1                |    hf484d3e_1002         1.3 MB  conda-forge\n",
            "    urllib3-1.25.7             |           py36_0         160 KB  conda-forge\n",
            "    idna-2.8                   |        py36_1000         132 KB  conda-forge\n",
            "    cython-0.29.14             |   py36he1b5a44_0         2.2 MB  conda-forge\n",
            "    requests-2.22.0            |           py36_1          84 KB  conda-forge\n",
            "    icu-64.2                   |       he1b5a44_1        12.6 MB  conda-forge\n",
            "    librmm-0.10.0              |       cuda10.1_0          50 KB  rapidsai\n",
            "    cugraph-0.10.0             |           py36_0         1.7 MB  rapidsai\n",
            "    glog-0.4.0                 |       he1b5a44_1         104 KB  conda-forge\n",
            "    pyasn1-0.4.8               |             py_0          53 KB  conda-forge\n",
            "    uriparser-0.9.3            |       he1b5a44_1          49 KB  conda-forge\n",
            "    pycparser-2.19             |           py36_1         173 KB  conda-forge\n",
            "    libcumlprims-0.10.0        |       cuda10.1_0         4.2 MB  nvidia\n",
            "    numpy-1.17.5               |   py36h95a1406_0         5.2 MB  conda-forge\n",
            "    openssl-1.1.1d             |       h516909a_0         2.1 MB  conda-forge\n",
            "    libcugraph-0.10.0          |       cuda10.1_0        16.1 MB  rapidsai\n",
            "    double-conversion-3.1.5    |       he1b5a44_2          85 KB  conda-forge\n",
            "    arrow-cpp-0.14.1           |   py36h6b969ab_1        17.3 MB  conda-forge\n",
            "    wheel-0.33.6               |           py36_0          35 KB  conda-forge\n",
            "    pandas-0.24.2              |   py36hb3f55d8_1        11.1 MB  conda-forge\n",
            "    pytz-2019.3                |             py_0         237 KB  conda-forge\n",
            "    libgomp-9.2.0              |       h24d8f2e_2         816 KB  conda-forge\n",
            "    libstdcxx-ng-9.2.0         |       hdf63c60_2         4.5 MB  conda-forge\n",
            "    requests-oauthlib-1.2.0    |             py_0          19 KB  conda-forge\n",
            "    decorator-4.4.1            |             py_0          11 KB  conda-forge\n",
            "    cuml-0.10.0                |  cuda10.1_py36_0         6.6 MB  rapidsai\n",
            "    blinker-1.4                |             py_1          13 KB  conda-forge\n",
            "    _libgcc_mutex-0.1          |      conda_forge           3 KB  conda-forge\n",
            "    pyasn1-modules-0.2.7       |             py_0          60 KB  conda-forge\n",
            "    parquet-cpp-1.5.1          |                2           3 KB  conda-forge\n",
            "    ------------------------------------------------------------\n",
            "                                           Total:       905.7 MB\n",
            "\n",
            "The following NEW packages will be INSTALLED:\n",
            "\n",
            "    _libgcc_mutex:        0.1-conda_forge        conda-forge\n",
            "    _openmp_mutex:        4.5-0_gnu              conda-forge\n",
            "    arrow-cpp:            0.14.1-py36h6b969ab_1  conda-forge\n",
            "    blinker:              1.4-py_1               conda-forge\n",
            "    boost-cpp:            1.70.0-h8e57a91_2      conda-forge\n",
            "    brotli:               1.0.7-he1b5a44_1000    conda-forge\n",
            "    bzip2:                1.0.8-h516909a_2       conda-forge\n",
            "    c-ares:               1.15.0-h516909a_1001   conda-forge\n",
            "    cachetools:           3.1.1-py_0             conda-forge\n",
            "    cudatoolkit:          10.1.243-h6bb024c_0    nvidia     \n",
            "    cudf:                 0.10.0-py36_0          rapidsai   \n",
            "    cugraph:              0.10.0-py36_0          rapidsai   \n",
            "    cuml:                 0.10.0-cuda10.1_py36_0 rapidsai   \n",
            "    cuspatial:            0.10.0-py36_0          rapidsai   \n",
            "    cython:               0.29.14-py36he1b5a44_0 conda-forge\n",
            "    decorator:            4.4.1-py_0             conda-forge\n",
            "    dlpack:               0.2-he1b5a44_1         conda-forge\n",
            "    double-conversion:    3.1.5-he1b5a44_2       conda-forge\n",
            "    fastavro:             0.22.9-py36h516909a_0  conda-forge\n",
            "    fsspec:               0.6.2-py_0             conda-forge\n",
            "    gcsfs:                0.6.0-py_0             conda-forge\n",
            "    gflags:               2.2.2-he1b5a44_1002    conda-forge\n",
            "    glog:                 0.4.0-he1b5a44_1       conda-forge\n",
            "    google-auth:          1.10.0-py_1            conda-forge\n",
            "    google-auth-oauthlib: 0.4.1-py_1             conda-forge\n",
            "    grpc-cpp:             1.25.0-h18db393_0      conda-forge\n",
            "    icu:                  64.2-he1b5a44_1        conda-forge\n",
            "    libblas:              3.8.0-14_openblas      conda-forge\n",
            "    libcblas:             3.8.0-14_openblas      conda-forge\n",
            "    libcudf:              0.10.0-cuda10.1_0      rapidsai   \n",
            "    libcugraph:           0.10.0-cuda10.1_0      rapidsai   \n",
            "    libcuml:              0.10.0-cuda10.1_0      rapidsai   \n",
            "    libcumlprims:         0.10.0-cuda10.1_0      nvidia     \n",
            "    libcuspatial:         0.10.0-cuda10.1_0      rapidsai   \n",
            "    libevent:             2.1.10-h72c5cf5_0      conda-forge\n",
            "    libgfortran-ng:       7.3.0-hdf63c60_4       conda-forge\n",
            "    libgomp:              9.2.0-h24d8f2e_2       conda-forge\n",
            "    liblapack:            3.8.0-14_openblas      conda-forge\n",
            "    libllvm8:             8.0.1-hc9558a2_0       conda-forge\n",
            "    libnvstrings:         0.10.0-cuda10.1_0      rapidsai   \n",
            "    libopenblas:          0.3.7-h5ec1e0e_6       conda-forge\n",
            "    libprotobuf:          3.8.0-h8b12597_0       conda-forge\n",
            "    librmm:               0.10.0-cuda10.1_0      rapidsai   \n",
            "    llvmlite:             0.31.0-py36h8b12597_0  conda-forge\n",
            "    lz4-c:                1.8.3-he1b5a44_1001    conda-forge\n",
            "    nccl:                 2.4.6.1-cuda10.1_0     nvidia     \n",
            "    numba:                0.47.0-py36hb3f55d8_0  conda-forge\n",
            "    numpy:                1.17.5-py36h95a1406_0  conda-forge\n",
            "    nvstrings:            0.10.0-py36_0          rapidsai   \n",
            "    oauthlib:             3.0.1-py_0             conda-forge\n",
            "    pandas:               0.24.2-py36hb3f55d8_1  conda-forge\n",
            "    parquet-cpp:          1.5.1-2                conda-forge\n",
            "    pyarrow:              0.14.1-py36h8b68381_2  conda-forge\n",
            "    pyasn1:               0.4.8-py_0             conda-forge\n",
            "    pyasn1-modules:       0.2.7-py_0             conda-forge\n",
            "    pyjwt:                1.7.1-py_0             conda-forge\n",
            "    pynvml:               8.0.4-py_0             conda-forge\n",
            "    python-dateutil:      2.8.1-py_0             conda-forge\n",
            "    pytz:                 2019.3-py_0            conda-forge\n",
            "    re2:                  2020.01.01-he1b5a44_0  conda-forge\n",
            "    requests-oauthlib:    1.2.0-py_0             conda-forge\n",
            "    rmm:                  0.10.0-py36_0          rapidsai   \n",
            "    rsa:                  4.0-py_0               conda-forge\n",
            "    snappy:               1.1.7-he1b5a44_1003    conda-forge\n",
            "    thrift-cpp:           0.12.0-hf3afdfd_1004   conda-forge\n",
            "    uriparser:            0.9.3-he1b5a44_1       conda-forge\n",
            "    zstd:                 1.4.0-h3b9ef0a_0       conda-forge\n",
            "\n",
            "The following packages will be UPDATED:\n",
            "\n",
            "    ca-certificates:      2018.03.07-0                       --> 2019.11.28-hecc5488_0 conda-forge\n",
            "    certifi:              2018.4.16-py36_0                   --> 2019.11.28-py36_0     conda-forge\n",
            "    cffi:                 1.11.5-py36h9745a5d_0              --> 1.13.2-py36h8022711_0 conda-forge\n",
            "    chardet:              3.0.4-py36h0f667ec_1               --> 3.0.4-py36_1003       conda-forge\n",
            "    cryptography:         2.2.2-py36h14c3975_0               --> 2.8-py36h72c5cf5_1    conda-forge\n",
            "    idna:                 2.6-py36h82fb2a8_1                 --> 2.8-py36_1000         conda-forge\n",
            "    libffi:               3.2.1-hd88cf55_4                   --> 3.2.1-he1b5a44_1006   conda-forge\n",
            "    libgcc-ng:            7.2.0-hdf63c60_3                   --> 9.2.0-h24d8f2e_2      conda-forge\n",
            "    libstdcxx-ng:         7.2.0-hdf63c60_3                   --> 9.2.0-hdf63c60_2      conda-forge\n",
            "    ncurses:              6.1-hf484d3e_0                     --> 6.1-hf484d3e_1002     conda-forge\n",
            "    openssl:              1.0.2o-h20670df_0                  --> 1.1.1d-h516909a_0     conda-forge\n",
            "    pip:                  10.0.1-py36_0                      --> 20.0.1-py36_0         conda-forge\n",
            "    pycparser:            2.18-py36hf9f622e_1                --> 2.19-py36_1           conda-forge\n",
            "    pyopenssl:            18.0.0-py36_0                      --> 19.1.0-py36_0         conda-forge\n",
            "    pysocks:              1.6.8-py36_0                       --> 1.7.1-py36_0          conda-forge\n",
            "    python:               3.6.5-hc3d631a_2                   --> 3.6.7-h357f687_1006   conda-forge\n",
            "    readline:             7.0-ha6073c6_4                     --> 8.0-hf8c457e_0        conda-forge\n",
            "    requests:             2.18.4-py36he2e5f8d_1              --> 2.22.0-py36_1         conda-forge\n",
            "    setuptools:           39.2.0-py36_0                      --> 45.1.0-py36_0         conda-forge\n",
            "    six:                  1.11.0-py36h372c433_1              --> 1.14.0-py36_0         conda-forge\n",
            "    sqlite:               3.23.1-he433501_0                  --> 3.30.1-hcee41ef_0     conda-forge\n",
            "    tk:                   8.6.7-hc745277_3                   --> 8.6.10-hed695b0_0     conda-forge\n",
            "    urllib3:              1.22-py36hbe7ace6_0                --> 1.25.7-py36_0         conda-forge\n",
            "    wheel:                0.31.1-py36_0                      --> 0.33.6-py36_0         conda-forge\n",
            "    xz:                   5.2.4-h14c3975_4                   --> 5.2.4-h14c3975_1001   conda-forge\n",
            "    zlib:                 1.2.11-ha838bed_2                  --> 1.2.11-h516909a_1006  conda-forge\n",
            "\n",
            "\n",
            "Downloading and Extracting Packages\n",
            "lz4-c-1.8.3          |  187 KB | : 100% 1.0/1 [00:00<00:00, 11.65it/s]\n",
            "libffi-3.2.1         |   46 KB | : 100% 1.0/1 [00:00<00:00, 21.94it/s]\n",
            "pynvml-8.0.4         |   31 KB | : 100% 1.0/1 [00:00<00:00, 22.00it/s]\n",
            "cffi-1.13.2          |  220 KB | : 100% 1.0/1 [00:00<00:00, 11.49it/s]\n",
            "oauthlib-3.0.1       |   82 KB | : 100% 1.0/1 [00:00<00:00, 14.23it/s]\n",
            "python-3.6.7         | 34.6 MB | : 100% 1.0/1 [00:05<00:00,  5.31s/it]               \n",
            "libcuspatial-0.10.0  |  1.6 MB | : 100% 1.0/1 [00:01<00:00,  1.41s/it]               \n",
            "thrift-cpp-0.12.0    |  2.4 MB | : 100% 1.0/1 [00:00<00:00,  2.08it/s]               \n",
            "cryptography-2.8     |  616 KB | : 100% 1.0/1 [00:00<00:00,  4.28it/s]               \n",
            "grpc-cpp-1.25.0      |  5.1 MB | : 100% 1.0/1 [00:01<00:00,  1.16s/it]               \n",
            "gcsfs-0.6.0          |   19 KB | : 100% 1.0/1 [00:00<00:00, 24.01it/s]\n",
            "google-auth-1.10.0   |   47 KB | : 100% 1.0/1 [00:00<00:00, 18.47it/s]\n",
            "c-ares-1.15.0        |  100 KB | : 100% 1.0/1 [00:00<00:00, 19.29it/s]\n",
            "google-auth-oauthlib |   18 KB | : 100% 1.0/1 [00:00<00:00, 27.68it/s]\n",
            "python-dateutil-2.8. |  220 KB | : 100% 1.0/1 [00:00<00:00, 14.61it/s]\n",
            "six-1.14.0           |   23 KB | : 100% 1.0/1 [00:00<00:00, 23.62it/s]\n",
            "tk-8.6.10            |  3.2 MB | : 100% 1.0/1 [00:00<00:00,  1.39it/s]               \n",
            "zlib-1.2.11          |  105 KB | : 100% 1.0/1 [00:00<00:00, 11.16it/s]\n",
            "xz-5.2.4             |  366 KB | : 100% 1.0/1 [00:00<00:00,  8.61it/s]               \n",
            "llvmlite-0.31.0      |  337 KB | : 100% 1.0/1 [00:00<00:00,  8.32it/s]               \n",
            "pysocks-1.7.1        |   27 KB | : 100% 1.0/1 [00:00<00:00, 28.54it/s]\n",
            "certifi-2019.11.28   |  149 KB | : 100% 1.0/1 [00:00<00:00, 19.39it/s]\n",
            "libgfortran-ng-7.3.0 |  1.7 MB | : 100% 1.0/1 [00:00<00:00,  3.21it/s]               \n",
            "rsa-4.0              |   27 KB | : 100% 1.0/1 [00:00<00:00, 24.19it/s]\n",
            "fsspec-0.6.2         |   46 KB | : 100% 1.0/1 [00:00<00:00, 19.30it/s]\n",
            "nccl-2.4.6.1         | 66.9 MB | : 100% 1.0/1 [00:11<00:00, 11.05s/it]               \n",
            "setuptools-45.1.0    |  642 KB | : 100% 1.0/1 [00:00<00:00,  4.74it/s]               \n",
            "libllvm8-8.0.1       | 23.2 MB | : 100% 1.0/1 [00:03<00:00,  3.98s/it]               \n",
            "snappy-1.1.7         |   39 KB | : 100% 1.0/1 [00:00<00:00, 26.87it/s]\n",
            "numba-0.47.0         |  3.4 MB | : 100% 1.0/1 [00:01<00:00,  1.05s/it]              \n",
            "libprotobuf-3.8.0    |  4.7 MB | : 100% 1.0/1 [00:00<00:00,  1.00it/s]               \n",
            "cuspatial-0.10.0     |  456 KB | : 100% 1.0/1 [00:01<00:00,  1.08s/it]               \n",
            "boost-cpp-1.70.0     | 21.1 MB | : 100% 1.0/1 [00:09<00:00,  9.28s/it]               \n",
            "brotli-1.0.7         |  1.0 MB | : 100% 1.0/1 [00:00<00:00,  4.99it/s]               \n",
            "sqlite-3.30.1        |  2.0 MB | : 100% 1.0/1 [00:00<00:00,  2.61it/s]              \n",
            "libblas-3.8.0        |   10 KB | : 100% 1.0/1 [00:00<00:00, 27.92it/s]\n",
            "libcuml-0.10.0       | 40.6 MB | : 100% 1.0/1 [00:10<00:00, 10.05s/it]               \n",
            "chardet-3.0.4        |  190 KB | : 100% 1.0/1 [00:00<00:00, 10.99it/s]\n",
            "readline-8.0         |  441 KB | : 100% 1.0/1 [00:00<00:00,  8.37it/s]\n",
            "libnvstrings-0.10.0  | 25.1 MB | : 100% 1.0/1 [00:06<00:00,  6.67s/it]               \n",
            "pyjwt-1.7.1          |   17 KB | : 100% 1.0/1 [00:00<00:00, 24.61it/s]\n",
            "re2-2020.01.01       |  422 KB | : 100% 1.0/1 [00:00<00:00,  8.09it/s]               \n",
            "libevent-2.1.10      |  1.3 MB | : 100% 1.0/1 [00:00<00:00,  2.57it/s]               \n",
            "fastavro-0.22.9      |  409 KB | : 100% 1.0/1 [00:00<00:00,  8.01it/s]               \n",
            "libgcc-ng-9.2.0      |  8.2 MB | : 100% 1.0/1 [00:01<00:00,  1.26s/it]               \n",
            "pyopenssl-19.1.0     |   83 KB | : 100% 1.0/1 [00:00<00:00, 17.38it/s]\n",
            "libopenblas-0.3.7    |  7.6 MB | : 100% 1.0/1 [00:01<00:00,  1.42s/it]               \n",
            "libcudf-0.10.0       | 32.3 MB | : 100% 1.0/1 [00:07<00:00,  7.98s/it]               \n",
            "libcblas-3.8.0       |   10 KB | : 100% 1.0/1 [00:00<00:00, 24.86it/s]\n",
            "rmm-0.10.0           |  135 KB | : 100% 1.0/1 [00:00<00:00,  1.42it/s]                \n",
            "ca-certificates-2019 |  145 KB | : 100% 1.0/1 [00:00<00:00, 20.53it/s]\n",
            "_openmp_mutex-4.5    |  435 KB | : 100% 1.0/1 [00:00<00:00, 11.89it/s]\n",
            "cudf-0.10.0          |  7.2 MB | : 100% 1.0/1 [00:01<00:00,  1.93s/it]               \n",
            "cudatoolkit-10.1.243 | 513.2 MB | : 100% 1.0/1 [01:19<00:00, 79.15s/it]                \n",
            "gflags-2.2.2         |  175 KB | : 100% 1.0/1 [00:00<00:00, 11.71it/s]\n",
            "nvstrings-0.10.0     |  126 KB | : 100% 1.0/1 [00:00<00:00,  1.06it/s]                \n",
            "cachetools-3.1.1     |   11 KB | : 100% 1.0/1 [00:00<00:00, 22.45it/s]\n",
            "pip-20.0.1           |  1.9 MB | : 100% 1.0/1 [00:00<00:00,  1.60it/s]               \n",
            "liblapack-3.8.0      |   10 KB | : 100% 1.0/1 [00:00<00:00, 21.79it/s]\n",
            "pyarrow-0.14.1       |  2.8 MB | : 100% 1.0/1 [00:00<00:00,  1.12it/s]               \n",
            "dlpack-0.2           |   13 KB | : 100% 1.0/1 [00:00<00:00, 30.65it/s]\n",
            "bzip2-1.0.8          |  396 KB | : 100% 1.0/1 [00:00<00:00,  9.08it/s]\n",
            "zstd-1.4.0           |  928 KB | : 100% 1.0/1 [00:00<00:00,  5.50it/s]               \n",
            "ncurses-6.1          |  1.3 MB | : 100% 1.0/1 [00:00<00:00,  1.08it/s]               \n",
            "urllib3-1.25.7       |  160 KB | : 100% 1.0/1 [00:00<00:00, 12.04it/s]\n",
            "idna-2.8             |  132 KB | : 100% 1.0/1 [00:00<00:00, 17.93it/s]\n",
            "cython-0.29.14       |  2.2 MB | : 100% 1.0/1 [00:00<00:00,  1.83it/s]               \n",
            "requests-2.22.0      |   84 KB | : 100% 1.0/1 [00:00<00:00, 18.50it/s]\n",
            "icu-64.2             | 12.6 MB | : 100% 1.0/1 [00:02<00:00,  2.04s/it]               \n",
            "librmm-0.10.0        |   50 KB | : 100% 1.0/1 [00:00<00:00,  1.25it/s]                \n",
            "cugraph-0.10.0       |  1.7 MB | : 100% 1.0/1 [00:01<00:00,  1.15s/it]               \n",
            "glog-0.4.0           |  104 KB | : 100% 1.0/1 [00:00<00:00, 18.61it/s]\n",
            "pyasn1-0.4.8         |   53 KB | : 100% 1.0/1 [00:00<00:00, 18.39it/s]\n",
            "uriparser-0.9.3      |   49 KB | : 100% 1.0/1 [00:00<00:00, 19.05it/s]\n",
            "pycparser-2.19       |  173 KB | : 100% 1.0/1 [00:00<00:00, 11.91it/s]\n",
            "libcumlprims-0.10.0  |  4.2 MB | : 100% 1.0/1 [00:01<00:00,  1.42s/it]               \n",
            "numpy-1.17.5         |  5.2 MB | : 100% 1.0/1 [00:01<00:00,  1.75s/it]               \n",
            "openssl-1.1.1d       |  2.1 MB | : 100% 1.0/1 [00:00<00:00,  2.78it/s]               \n",
            "libcugraph-0.10.0    | 16.1 MB | : 100% 1.0/1 [00:03<00:00,  3.29s/it]               \n",
            "double-conversion-3. |   85 KB | : 100% 1.0/1 [00:00<00:00, 20.25it/s]\n",
            "arrow-cpp-0.14.1     | 17.3 MB | : 100% 1.0/1 [00:03<00:00,  3.20s/it]               \n",
            "wheel-0.33.6         |   35 KB | : 100% 1.0/1 [00:00<00:00, 21.81it/s]\n",
            "pandas-0.24.2        | 11.1 MB | : 100% 1.0/1 [00:02<00:00,  2.60s/it]               \n",
            "pytz-2019.3          |  237 KB | : 100% 1.0/1 [00:00<00:00,  4.48it/s]               \n",
            "libgomp-9.2.0        |  816 KB | : 100% 1.0/1 [00:00<00:00,  7.17it/s]               \n",
            "libstdcxx-ng-9.2.0   |  4.5 MB | : 100% 1.0/1 [00:00<00:00,  1.39it/s]               \n",
            "requests-oauthlib-1. |   19 KB | : 100% 1.0/1 [00:00<00:00, 26.34it/s]\n",
            "decorator-4.4.1      |   11 KB | : 100% 1.0/1 [00:00<00:00, 29.67it/s]\n",
            "cuml-0.10.0          |  6.6 MB | : 100% 1.0/1 [00:02<00:00,  2.45s/it]               \n",
            "blinker-1.4          |   13 KB | : 100% 1.0/1 [00:00<00:00, 22.51it/s]\n",
            "_libgcc_mutex-0.1    |    3 KB | : 100% 1.0/1 [00:00<00:00, 26.02it/s]\n",
            "pyasn1-modules-0.2.7 |   60 KB | : 100% 1.0/1 [00:00<00:00, 13.82it/s]\n",
            "parquet-cpp-1.5.1    |    3 KB | : 100% 1.0/1 [00:00<00:00, 31.30it/s]\n",
            "Preparing transaction: - \b\b\\ \b\b| \b\b/ \b\b- \b\b\\ \b\b| \b\b/ \b\b- \b\b\\ \b\b| \b\b/ \b\b- \b\bdone\n",
            "Verifying transaction: | \b\b/ \b\b- \b\b\\ \b\b| \b\b/ \b\b- \b\b\\ \b\b| \b\b/ \b\b- \b\b\\ \b\b| \b\b/ \b\b- \b\b\\ \b\b| \b\b/ \b\b- \b\b\\ \b\b| \b\b/ \b\b- \b\b\\ \b\b| \b\b/ \b\b- \b\b\\ \b\b| \b\b/ \b\b- \b\b\\ \b\b| \b\b/ \b\b- \b\b\\ \b\b| \b\b/ \b\b- \b\b\\ \b\b| \b\b/ \b\b- \b\b\\ \b\b| \b\b/ \b\b- \b\b\\ \b\b| \b\b/ \b\b- \b\b\\ \b\b| \b\b/ \b\b- \b\b\\ \b\b| \b\b/ \b\b- \b\b\\ \b\b| \b\b/ \b\b- \b\b\\ \b\b| \b\b/ \b\b- \b\b\\ \b\b| \b\b/ \b\b- \b\b\\ \b\b| \b\b/ \b\b- \b\b\\ \b\b| \b\b/ \b\b- \b\b\\ \b\b| \b\b/ \b\b- \b\b\\ \b\b| \b\b/ \b\b- \b\b\\ \b\b| \b\b/ \b\b- \b\b\\ \b\b| \b\b/ \b\b- \b\b\\ \b\b| \b\b/ \b\b- \b\b\\ \b\b| \b\b/ \b\b- \b\b\\ \b\b| \b\b/ \b\b- \b\b\\ \b\b| \b\b/ \b\b- \b\b\\ \b\b| \b\b/ \b\b- \b\b\\ \b\b| \b\b/ \b\b- \b\b\\ \b\b| \b\b/ \b\b- \b\b\\ \b\b| \b\b/ \b\b- \b\b\\ \b\b| \b\b/ \b\b- \b\b\\ \b\b| \b\b/ \b\b- \b\b\\ \b\b| \b\b/ \b\b- \b\b\\ \b\b| \b\b/ \b\b- \b\b\\ \b\b| \b\b/ \b\b- \b\b\\ \b\b| \b\b/ \b\b- \b\bdone\n",
            "Executing transaction: | \b\b/ \b\b- \b\b\\ \b\b| \b\b/ \b\b- \b\b\\ \b\b| \b\b/ \b\b- \b\b\\ \b\b| \b\b/ \b\b- \b\b\\ \b\b| \b\b/ \b\b- \b\b\\ \b\b| \b\b/ \b\b- \b\b\\ \b\b| \b\b/ \b\b- \b\b\\ \b\b| \b\b/ \b\b- \b\b\\ \b\b| \b\b/ \b\b- \b\b\\ \b\b| \b\b/ \b\b- \b\b\\ \b\b| \b\b/ \b\b- \b\b\\ \b\b| \b\b/ \b\b- \b\b\\ \b\b| \b\b/ \b\b- \b\b\\ \b\b| \b\b/ \b\b- \b\b\\ \b\b| \b\b/ \b\b- \b\b\\ \b\b| \b\b/ \b\b- \b\b\\ \b\b| \b\b/ \b\b- \b\b\\ \b\b| \b\b/ \b\b- \b\b\\ \b\b| \b\b/ \b\b- \b\b\\ \b\b| \b\b/ \b\b- \b\b\\ \b\b| \b\b/ \b\b- \b\b\\ \b\b| \b\b/ \b\b- \b\b\\ \b\b| \b\b/ \b\b- \b\b\\ \b\b| \b\b/ \b\b- \b\b\\ \b\b| \b\b/ \b\b- \b\b\\ \b\b| \b\b/ \b\b- \b\b\\ \b\b| \b\b/ \b\b- \b\b\\ \b\b| \b\b/ \b\b- \b\b\\ \b\b| \b\b/ \b\b- \b\b\\ \b\b| \b\b/ \b\b- \b\b\\ \b\b| \b\b/ \b\b- \b\b\\ \b\b| \b\b/ \b\b- \b\b\\ \b\b| \b\b/ \b\b- \b\b\\ \b\b| \b\b/ \b\b- \b\b\\ \b\b| \b\b/ \b\b- \b\b\\ \b\b| \b\b/ \b\b- \b\b\\ \b\b| \b\b/ \b\b- \b\b\\ \b\b| \b\b/ \b\b- \b\b\\ \b\b| \b\b/ \b\b- \b\b\\ \b\b| \b\b/ \b\b- \b\b\\ \b\b| \b\b/ \b\b- \b\b\\ \b\b| \b\b/ \b\b- \b\b\\ \b\b| \b\b/ \b\b- \b\b\\ \b\b| \b\b/ \b\b- \b\b\\ \b\b| \b\b/ \b\b- \b\b\\ \b\b| \b\b/ \b\b- \b\b\\ \b\b| \b\b/ \b\b- \b\b\\ \b\b| \b\b/ \b\b- \b\b\\ \b\b| \b\b/ \b\b- \b\b\\ \b\b| \b\b/ \b\b- \b\b\\ \b\b| \b\b/ \b\b- \b\b\\ \b\b| \b\b/ \b\b- \b\b\\ \b\b| \b\b/ \b\b- \b\b\\ \b\b| \b\b/ \b\b- \b\b\\ \b\b| \b\b/ \b\b- \b\b\\ \b\b| \b\b/ \b\b- \b\b\\ \b\b| \b\b/ \b\b- \b\b\\ \b\b| \b\b/ \b\b- \b\b\\ \b\b| \b\b/ \b\b- \b\b\\ \b\b| \b\b/ \b\b- \b\bdone\n",
            "rapids-colab.sh: line 95: dask-cudf: command not found\n"
          ],
          "name": "stdout"
        }
      ]
    },
    {
      "cell_type": "code",
      "metadata": {
        "id": "YFr4WeUV0WBC",
        "colab_type": "code",
        "colab": {}
      },
      "source": [
        ""
      ],
      "execution_count": 0,
      "outputs": []
    },
    {
      "cell_type": "code",
      "metadata": {
        "id": "UAPtk4ur0WHL",
        "colab_type": "code",
        "colab": {}
      },
      "source": [
        ""
      ],
      "execution_count": 0,
      "outputs": []
    },
    {
      "cell_type": "markdown",
      "metadata": {
        "id": "DmREiyjF0WxM",
        "colab_type": "text"
      },
      "source": [
        "# **UDFs**"
      ]
    },
    {
      "cell_type": "markdown",
      "metadata": {
        "id": "BMqsKlzz0hNu",
        "colab_type": "text"
      },
      "source": [
        "cuDF’s DataFrame class has two primary methods that let users run custom Python functions on GPUs: `apply_rows` and `apply_chunks`. In this tutorial, we’ll walk through how to use `apply_rows` and `apply_chunks` to create your own UDFs and show how you can implement a GPU-accelerated windowing function. At the end, we'll also walk through a more advanced example of applying a user defined function on a grouped DataFrame (using `apply_grouped`)."
      ]
    },
    {
      "cell_type": "markdown",
      "metadata": {
        "id": "mQ31QMr20uuO",
        "colab_type": "text"
      },
      "source": [
        "## **apply_rows**"
      ]
    },
    {
      "cell_type": "markdown",
      "metadata": {
        "id": "7rRtED2R0-Zu",
        "colab_type": "text"
      },
      "source": [
        "`apply_rows` processes each of the DataFrame rows independently in parallel. Under the hood, the `apply_rows` method will optimally divide the long columns into chunks, and assign chunks into different GPU blocks for parallel computation. \n",
        "\n",
        "In order to use `apply_rows`, we need to write a kernel function. A kernel function is a function that will be executed on each row of the DataFrame set the output value for each row. **The execution order of rows is arbitrary, so each execution of the function MUST be independent of other execution.**\n",
        "\n",
        "How does this work? User defined functions with cuDF rely on CUDA under the hood. Exploring CUDA and GPU architecture in-depth is out of scope for this tutorial. But, at a very high level, in cuDF's user defined functions:\n",
        "\n",
        "\n",
        "- Compute is spread across multiple \"blocks\", which have access to both global memory but also their own in-block memory \n",
        "- Within each block, many \"threads\" operate independently and can quickly access data in their block-specific shared memory \n",
        "\n",
        "\n",
        "As a result, the loop in the example function below resembles serial code, but executes in parallel in multiple threads on the GPU. When `kernel` is invoked, the function arguments corresponding to the input/output are strided so as to improve GPU parallelism. The kernel function is compiled to the GPU using `numba.cuda`, so the kernel function must only use Python features/functions that are [supported](https://numba.pydata.org/numba-doc/dev/cuda/cudapysupported.html) by Numba for CUDA."
      ]
    },
    {
      "cell_type": "markdown",
      "metadata": {
        "id": "WHD8I4F41tYP",
        "colab_type": "text"
      },
      "source": [
        "A kernel function takes the form\n",
        "\n",
        "```python\n",
        "def kernel(in1, in2, in3, ..., out1, out2, ..., kwarg1, kwarg2, ...):\n",
        "    for i, (x, y, z, ...) in enumerate(zip(in1, in2, in3, ...)):\n",
        "        out1[i] = ...\n",
        "        out2[i] = ...\n",
        "```\n",
        "\n",
        "`in1, in2, in3, ...` are the input columns. `out1, out2, ...` are the output columns. The kernel function should not return a result. Instead, output columns are passed as arguments and the result is written to them. Each thread writes a result to a specific index in the output column, which is why write `out1[i] = ...`.\n",
        "\n",
        "Additional keyword arguments can be passed (`kwarg1, kwarg2, ...`). Inside the kernel function, [standard numba.cuda attributes](https://numba.pydata.org/numba-doc/dev/cuda/kernels.html#thread-positioning) like `numba.cuda.threadIdx` can be used to access things like the thread or block indices. We'll explain a little bit more about this below.\n",
        "\n",
        "To execute this function on our DataFrame, we use `apply_rows`. `apply_rows` is called like:\n",
        "\n",
        "```python\n",
        "df = df.apply_rows(kernel\n",
        "                   incols=['in1', 'in2', 'in3', ...],\n",
        "                   outcols={'out1': np.float64, 'out2': np.int8, ...},\n",
        "                   kwargs={'kwarg1': val1, 'kwarg2': val2, ...})\n",
        "```\n",
        "\n",
        "`incols` is a list of the arguments for our `kernel` function representing the columns in the DataFrame. As a result, `in1`, `in2`, etc. must match the names of columns in the DataFrame that we intend to use.\n",
        "\n",
        "`outcols` is a dictionary mapping the output column names to their dtype. If we intend to generate two output columns, we need to `outcols` needs to contain two keys (`out1` and `out2`).\n",
        "\n",
        "`kwargs` is a dictionary mapping the keyword argument parameters to their values. If our `kernel` function needs additional arguments contained in our DataFrame, we can pass them in here. `kwargs` can be an empty dictionary if there are no keyword arguments.\n",
        "\n",
        "After calling `apply_rows` as above, `df` would have extra columns `out1`, `out2`, ... with the output results. "
      ]
    },
    {
      "cell_type": "markdown",
      "metadata": {
        "id": "NjDnQ1fw2mjS",
        "colab_type": "text"
      },
      "source": [
        "#### Example: Haversine distance"
      ]
    },
    {
      "cell_type": "markdown",
      "metadata": {
        "id": "p_0PlGBb2rqf",
        "colab_type": "text"
      },
      "source": [
        "In the example below, we create a DataFrame representing pairs of latitude and longitude points. We use `apply_rows` to calculate the [Haversine distance](https://en.wikipedia.org/wiki/Haversine_formula) between two points in the input arrays.\n",
        "\n",
        "$$\n",
        "d = 2r \\arcsin\\left(\\sqrt{\\sin^2\\left(\\frac{\\varphi_2 - \\varphi_1}{2}\\right) + \\cos(\\varphi_1) \\cos(\\varphi_2)\\sin^2\\left(\\frac{\\lambda_2 - \\lambda_1}{2}\\right)}\\right)\n",
        "$$\n",
        "\n",
        "where $\\varphi_1,\\varphi_2$ are the latitudes and $\\lambda_1,\\lambda_2$ are the longitudes."
      ]
    },
    {
      "cell_type": "code",
      "metadata": {
        "id": "RF1JAOGQ1n4x",
        "colab_type": "code",
        "colab": {
          "base_uri": "https://localhost:8080/",
          "height": 185
        },
        "outputId": "40b547d6-a104-4bce-fc0c-29ba291075f5"
      },
      "source": [
        "from math import cos, sin, asin, sqrt, pi, atan2\n",
        "\n",
        "import time\n",
        "import cudf\n",
        "import numpy as np\n",
        "from numba import cuda"
      ],
      "execution_count": 2,
      "outputs": [
        {
          "output_type": "stream",
          "text": [
            "/usr/local/lib/python3.6/dist-packages/numba/cuda/envvars.py:17: NumbaWarning: \n",
            "Environment variables with the 'NUMBAPRO' prefix are deprecated and consequently ignored, found use of NUMBAPRO_NVVM=/usr/local/cuda/nvvm/lib64/libnvvm.so.\n",
            "\n",
            "For more information about alternatives visit: ('http://numba.pydata.org/numba-doc/latest/cuda/overview.html', '#cudatoolkit-lookup')\n",
            "  warnings.warn(errors.NumbaWarning(msg))\n",
            "/usr/local/lib/python3.6/dist-packages/numba/cuda/envvars.py:17: NumbaWarning: \n",
            "Environment variables with the 'NUMBAPRO' prefix are deprecated and consequently ignored, found use of NUMBAPRO_LIBDEVICE=/usr/local/cuda/nvvm/libdevice/.\n",
            "\n",
            "For more information about alternatives visit: ('http://numba.pydata.org/numba-doc/latest/cuda/overview.html', '#cudatoolkit-lookup')\n",
            "  warnings.warn(errors.NumbaWarning(msg))\n"
          ],
          "name": "stderr"
        }
      ]
    },
    {
      "cell_type": "code",
      "metadata": {
        "id": "9QHO9AVz1n8J",
        "colab_type": "code",
        "colab": {}
      },
      "source": [
        "np.random.seed(12)\n",
        "data_length = 1000\n",
        "\n",
        "df = cudf.DataFrame()\n",
        "df['lat1'] = np.random.normal(10, 1, data_length)"
      ],
      "execution_count": 0,
      "outputs": []
    },
    {
      "cell_type": "code",
      "metadata": {
        "id": "o6lkqmQ03Cr-",
        "colab_type": "code",
        "colab": {
          "base_uri": "https://localhost:8080/",
          "height": 402
        },
        "outputId": "95bbc017-c1ab-4e57-f24a-c9c341188da7"
      },
      "source": [
        "df"
      ],
      "execution_count": 21,
      "outputs": [
        {
          "output_type": "execute_result",
          "data": {
            "text/html": [
              "<div>\n",
              "<style scoped>\n",
              "    .dataframe tbody tr th:only-of-type {\n",
              "        vertical-align: middle;\n",
              "    }\n",
              "\n",
              "    .dataframe tbody tr th {\n",
              "        vertical-align: top;\n",
              "    }\n",
              "\n",
              "    .dataframe thead th {\n",
              "        text-align: right;\n",
              "    }\n",
              "</style>\n",
              "<table border=\"1\" class=\"dataframe\">\n",
              "  <thead>\n",
              "    <tr style=\"text-align: right;\">\n",
              "      <th></th>\n",
              "      <th>lat1</th>\n",
              "    </tr>\n",
              "  </thead>\n",
              "  <tbody>\n",
              "    <tr>\n",
              "      <th>0</th>\n",
              "      <td>10.472986</td>\n",
              "    </tr>\n",
              "    <tr>\n",
              "      <th>1</th>\n",
              "      <td>9.318574</td>\n",
              "    </tr>\n",
              "    <tr>\n",
              "      <th>2</th>\n",
              "      <td>10.242439</td>\n",
              "    </tr>\n",
              "    <tr>\n",
              "      <th>3</th>\n",
              "      <td>8.299264</td>\n",
              "    </tr>\n",
              "    <tr>\n",
              "      <th>4</th>\n",
              "      <td>10.753143</td>\n",
              "    </tr>\n",
              "    <tr>\n",
              "      <th>...</th>\n",
              "      <td>...</td>\n",
              "    </tr>\n",
              "    <tr>\n",
              "      <th>995</th>\n",
              "      <td>10.398274</td>\n",
              "    </tr>\n",
              "    <tr>\n",
              "      <th>996</th>\n",
              "      <td>10.729589</td>\n",
              "    </tr>\n",
              "    <tr>\n",
              "      <th>997</th>\n",
              "      <td>10.858051</td>\n",
              "    </tr>\n",
              "    <tr>\n",
              "      <th>998</th>\n",
              "      <td>10.999640</td>\n",
              "    </tr>\n",
              "    <tr>\n",
              "      <th>999</th>\n",
              "      <td>8.776768</td>\n",
              "    </tr>\n",
              "  </tbody>\n",
              "</table>\n",
              "<p>1000 rows × 1 columns</p>\n",
              "</div>"
            ],
            "text/plain": [
              "          lat1\n",
              "0    10.472986\n",
              "1     9.318574\n",
              "2    10.242439\n",
              "3     8.299264\n",
              "4    10.753143\n",
              "..         ...\n",
              "995  10.398274\n",
              "996  10.729589\n",
              "997  10.858051\n",
              "998  10.999640\n",
              "999   8.776768\n",
              "\n",
              "[1000 rows x 1 columns]"
            ]
          },
          "metadata": {
            "tags": []
          },
          "execution_count": 21
        }
      ]
    },
    {
      "cell_type": "code",
      "metadata": {
        "id": "kUsH1sCN3LaK",
        "colab_type": "code",
        "colab": {}
      },
      "source": [
        "df['lon1'] = np.random.normal(10, 1, data_length)\n",
        "df['lat2'] = np.random.normal(10, 1, data_length)\n",
        "df['lon2'] = np.random.normal(10, 1, data_length)"
      ],
      "execution_count": 0,
      "outputs": []
    },
    {
      "cell_type": "code",
      "metadata": {
        "id": "rCQcqFOS3NE6",
        "colab_type": "code",
        "colab": {
          "base_uri": "https://localhost:8080/",
          "height": 402
        },
        "outputId": "db19b7e4-c73b-40bc-9b06-e56aacabb402"
      },
      "source": [
        "df"
      ],
      "execution_count": 23,
      "outputs": [
        {
          "output_type": "execute_result",
          "data": {
            "text/html": [
              "<div>\n",
              "<style scoped>\n",
              "    .dataframe tbody tr th:only-of-type {\n",
              "        vertical-align: middle;\n",
              "    }\n",
              "\n",
              "    .dataframe tbody tr th {\n",
              "        vertical-align: top;\n",
              "    }\n",
              "\n",
              "    .dataframe thead th {\n",
              "        text-align: right;\n",
              "    }\n",
              "</style>\n",
              "<table border=\"1\" class=\"dataframe\">\n",
              "  <thead>\n",
              "    <tr style=\"text-align: right;\">\n",
              "      <th></th>\n",
              "      <th>lat1</th>\n",
              "      <th>lon1</th>\n",
              "      <th>lat2</th>\n",
              "      <th>lon2</th>\n",
              "    </tr>\n",
              "  </thead>\n",
              "  <tbody>\n",
              "    <tr>\n",
              "      <th>0</th>\n",
              "      <td>10.472986</td>\n",
              "      <td>11.889149</td>\n",
              "      <td>10.173869</td>\n",
              "      <td>9.557545</td>\n",
              "    </tr>\n",
              "    <tr>\n",
              "      <th>1</th>\n",
              "      <td>9.318574</td>\n",
              "      <td>11.733839</td>\n",
              "      <td>10.237408</td>\n",
              "      <td>10.941703</td>\n",
              "    </tr>\n",
              "    <tr>\n",
              "      <th>2</th>\n",
              "      <td>10.242439</td>\n",
              "      <td>9.969706</td>\n",
              "      <td>8.158692</td>\n",
              "      <td>8.084421</td>\n",
              "    </tr>\n",
              "    <tr>\n",
              "      <th>3</th>\n",
              "      <td>8.299264</td>\n",
              "      <td>10.284300</td>\n",
              "      <td>10.376267</td>\n",
              "      <td>9.831747</td>\n",
              "    </tr>\n",
              "    <tr>\n",
              "      <th>4</th>\n",
              "      <td>10.753143</td>\n",
              "      <td>11.003471</td>\n",
              "      <td>9.416267</td>\n",
              "      <td>12.702623</td>\n",
              "    </tr>\n",
              "    <tr>\n",
              "      <th>...</th>\n",
              "      <td>...</td>\n",
              "      <td>...</td>\n",
              "      <td>...</td>\n",
              "      <td>...</td>\n",
              "    </tr>\n",
              "    <tr>\n",
              "      <th>995</th>\n",
              "      <td>10.398274</td>\n",
              "      <td>9.096494</td>\n",
              "      <td>9.657189</td>\n",
              "      <td>10.559591</td>\n",
              "    </tr>\n",
              "    <tr>\n",
              "      <th>996</th>\n",
              "      <td>10.729589</td>\n",
              "      <td>9.676270</td>\n",
              "      <td>8.895860</td>\n",
              "      <td>9.705665</td>\n",
              "    </tr>\n",
              "    <tr>\n",
              "      <th>997</th>\n",
              "      <td>10.858051</td>\n",
              "      <td>7.460364</td>\n",
              "      <td>9.555588</td>\n",
              "      <td>10.194337</td>\n",
              "    </tr>\n",
              "    <tr>\n",
              "      <th>998</th>\n",
              "      <td>10.999640</td>\n",
              "      <td>10.645792</td>\n",
              "      <td>8.202918</td>\n",
              "      <td>10.021991</td>\n",
              "    </tr>\n",
              "    <tr>\n",
              "      <th>999</th>\n",
              "      <td>8.776768</td>\n",
              "      <td>9.322671</td>\n",
              "      <td>10.627422</td>\n",
              "      <td>7.562933</td>\n",
              "    </tr>\n",
              "  </tbody>\n",
              "</table>\n",
              "<p>1000 rows × 4 columns</p>\n",
              "</div>"
            ],
            "text/plain": [
              "          lat1       lon1       lat2       lon2\n",
              "0    10.472986  11.889149  10.173869   9.557545\n",
              "1     9.318574  11.733839  10.237408  10.941703\n",
              "2    10.242439   9.969706   8.158692   8.084421\n",
              "3     8.299264  10.284300  10.376267   9.831747\n",
              "4    10.753143  11.003471   9.416267  12.702623\n",
              "..         ...        ...        ...        ...\n",
              "995  10.398274   9.096494   9.657189  10.559591\n",
              "996  10.729589   9.676270   8.895860   9.705665\n",
              "997  10.858051   7.460364   9.555588  10.194337\n",
              "998  10.999640  10.645792   8.202918  10.021991\n",
              "999   8.776768   9.322671  10.627422   7.562933\n",
              "\n",
              "[1000 rows x 4 columns]"
            ]
          },
          "metadata": {
            "tags": []
          },
          "execution_count": 23
        }
      ]
    },
    {
      "cell_type": "code",
      "metadata": {
        "id": "b0A5HKgV3OkP",
        "colab_type": "code",
        "colab": {}
      },
      "source": [
        "def haversine_distance_kernel(lat1, lon1, lat2, lon2, out):\n",
        "    \"\"\"Haversine distance formula taken from Michael Dunn's StackOverflow post:\n",
        "    https://stackoverflow.com/questions/4913349/haversine-formula-in-python-bearing-and-distance-between-two-gps-points\n",
        "    \"\"\"\n",
        "    for i, (x_1, y_1, x_2, y_2) in enumerate(zip(lat1, lon1, lat2, lon2)):\n",
        "        print('thread id:', cuda.threadIdx.x, \n",
        "              'block id:', cuda.blockIdx.x,\n",
        "              'array size:', lat1.size, \n",
        "              'block threads:', cuda.blockDim.x)\n",
        "\n",
        "        x_1 = pi/180 * x_1\n",
        "        y_1 = pi/180 * y_1\n",
        "        x_2 = pi/180 * x_2\n",
        "        y_2 = pi/180 * y_2\n",
        "        \n",
        "        dlon = y_2 - y_1\n",
        "        dlat = x_2 - x_1\n",
        "        a = sin(dlat/2)**2 + cos(x_1) * cos(x_2) * sin(dlon/2)**2\n",
        "        \n",
        "        c = 2 * asin(sqrt(a)) \n",
        "        r = 6371 # Radius of earth in kilometers\n",
        "        \n",
        "        out[i] = c * r"
      ],
      "execution_count": 0,
      "outputs": []
    },
    {
      "cell_type": "code",
      "metadata": {
        "id": "zFDlnZmo36k3",
        "colab_type": "code",
        "colab": {
          "base_uri": "https://localhost:8080/",
          "height": 50
        },
        "outputId": "3f97404c-0f34-490e-e0af-0d05c8a6c59a"
      },
      "source": [
        "%%time\n",
        "df_hd = df.apply_rows(haversine_distance_kernel,\n",
        "                   incols=['lat1', 'lon1', 'lat2', 'lon2'],\n",
        "                   outcols=dict(out=np.float64),\n",
        "                   kwargs=dict())"
      ],
      "execution_count": 63,
      "outputs": [
        {
          "output_type": "stream",
          "text": [
            "CPU times: user 444 ms, sys: 0 ns, total: 444 ms\n",
            "Wall time: 451 ms\n"
          ],
          "name": "stdout"
        }
      ]
    },
    {
      "cell_type": "code",
      "metadata": {
        "id": "twiuxQ-P4O3V",
        "colab_type": "code",
        "colab": {
          "base_uri": "https://localhost:8080/",
          "height": 402
        },
        "outputId": "8136a58e-ec75-401b-eb1e-854819f0049c"
      },
      "source": [
        "df_hd"
      ],
      "execution_count": 64,
      "outputs": [
        {
          "output_type": "execute_result",
          "data": {
            "text/html": [
              "<div>\n",
              "<style scoped>\n",
              "    .dataframe tbody tr th:only-of-type {\n",
              "        vertical-align: middle;\n",
              "    }\n",
              "\n",
              "    .dataframe tbody tr th {\n",
              "        vertical-align: top;\n",
              "    }\n",
              "\n",
              "    .dataframe thead th {\n",
              "        text-align: right;\n",
              "    }\n",
              "</style>\n",
              "<table border=\"1\" class=\"dataframe\">\n",
              "  <thead>\n",
              "    <tr style=\"text-align: right;\">\n",
              "      <th></th>\n",
              "      <th>lat1</th>\n",
              "      <th>lon1</th>\n",
              "      <th>lat2</th>\n",
              "      <th>lon2</th>\n",
              "      <th>out</th>\n",
              "    </tr>\n",
              "  </thead>\n",
              "  <tbody>\n",
              "    <tr>\n",
              "      <th>0</th>\n",
              "      <td>10.472986</td>\n",
              "      <td>11.889149</td>\n",
              "      <td>10.173869</td>\n",
              "      <td>9.557545</td>\n",
              "      <td>257.224127</td>\n",
              "    </tr>\n",
              "    <tr>\n",
              "      <th>1</th>\n",
              "      <td>9.318574</td>\n",
              "      <td>11.733839</td>\n",
              "      <td>10.237408</td>\n",
              "      <td>10.941703</td>\n",
              "      <td>134.063596</td>\n",
              "    </tr>\n",
              "    <tr>\n",
              "      <th>2</th>\n",
              "      <td>10.242439</td>\n",
              "      <td>9.969706</td>\n",
              "      <td>8.158692</td>\n",
              "      <td>8.084421</td>\n",
              "      <td>310.650417</td>\n",
              "    </tr>\n",
              "    <tr>\n",
              "      <th>3</th>\n",
              "      <td>8.299264</td>\n",
              "      <td>10.284300</td>\n",
              "      <td>10.376267</td>\n",
              "      <td>9.831747</td>\n",
              "      <td>236.229152</td>\n",
              "    </tr>\n",
              "    <tr>\n",
              "      <th>4</th>\n",
              "      <td>10.753143</td>\n",
              "      <td>11.003471</td>\n",
              "      <td>9.416267</td>\n",
              "      <td>12.702623</td>\n",
              "      <td>238.115297</td>\n",
              "    </tr>\n",
              "    <tr>\n",
              "      <th>...</th>\n",
              "      <td>...</td>\n",
              "      <td>...</td>\n",
              "      <td>...</td>\n",
              "      <td>...</td>\n",
              "      <td>...</td>\n",
              "    </tr>\n",
              "    <tr>\n",
              "      <th>995</th>\n",
              "      <td>10.398274</td>\n",
              "      <td>9.096494</td>\n",
              "      <td>9.657189</td>\n",
              "      <td>10.559591</td>\n",
              "      <td>180.153664</td>\n",
              "    </tr>\n",
              "    <tr>\n",
              "      <th>996</th>\n",
              "      <td>10.729589</td>\n",
              "      <td>9.676270</td>\n",
              "      <td>8.895860</td>\n",
              "      <td>9.705665</td>\n",
              "      <td>203.926802</td>\n",
              "    </tr>\n",
              "    <tr>\n",
              "      <th>997</th>\n",
              "      <td>10.858051</td>\n",
              "      <td>7.460364</td>\n",
              "      <td>9.555588</td>\n",
              "      <td>10.194337</td>\n",
              "      <td>332.395161</td>\n",
              "    </tr>\n",
              "    <tr>\n",
              "      <th>998</th>\n",
              "      <td>10.999640</td>\n",
              "      <td>10.645792</td>\n",
              "      <td>8.202918</td>\n",
              "      <td>10.021991</td>\n",
              "      <td>318.411387</td>\n",
              "    </tr>\n",
              "    <tr>\n",
              "      <th>999</th>\n",
              "      <td>8.776768</td>\n",
              "      <td>9.322671</td>\n",
              "      <td>10.627422</td>\n",
              "      <td>7.562933</td>\n",
              "      <td>282.035554</td>\n",
              "    </tr>\n",
              "  </tbody>\n",
              "</table>\n",
              "<p>1000 rows × 5 columns</p>\n",
              "</div>"
            ],
            "text/plain": [
              "          lat1       lon1       lat2       lon2         out\n",
              "0    10.472986  11.889149  10.173869   9.557545  257.224127\n",
              "1     9.318574  11.733839  10.237408  10.941703  134.063596\n",
              "2    10.242439   9.969706   8.158692   8.084421  310.650417\n",
              "3     8.299264  10.284300  10.376267   9.831747  236.229152\n",
              "4    10.753143  11.003471   9.416267  12.702623  238.115297\n",
              "..         ...        ...        ...        ...         ...\n",
              "995  10.398274   9.096494   9.657189  10.559591  180.153664\n",
              "996  10.729589   9.676270   8.895860   9.705665  203.926802\n",
              "997  10.858051   7.460364   9.555588  10.194337  332.395161\n",
              "998  10.999640  10.645792   8.202918  10.021991  318.411387\n",
              "999   8.776768   9.322671  10.627422   7.562933  282.035554\n",
              "\n",
              "[1000 rows x 5 columns]"
            ]
          },
          "metadata": {
            "tags": []
          },
          "execution_count": 64
        }
      ]
    },
    {
      "cell_type": "markdown",
      "metadata": {
        "id": "7Bzec7P446N-",
        "colab_type": "text"
      },
      "source": [
        "Notice that we had a `print` statement in our kernel but didn't see any printed output. Print statements in kernels will only appear in terminal output; Jupyter Notebooks won't display them. We included this for this tutorial, and have copied some sample output below:\n",
        "\n",
        "```\n",
        "...\n",
        "thread id: 0 block id: 4 array size: 1 block threads: 64\n",
        "thread id: 1 block id: 4 array size: 1 block threads: 64\n",
        "thread id: 2 block id: 4 array size: 1 block threads: 64\n",
        "...\n",
        "thread id: 61 block id: 4 array size: 1 block threads: 64\n",
        "thread id: 62 block id: 4 array size: 1 block threads: 64\n",
        "thread id: 63 block id: 4 array size: 1 block threads: 64\n",
        "...\n",
        "thread id: 29 block id: 0 array size: 2 block threads: 64\n",
        "thread id: 30 block id: 0 array size: 2 block threads: 64\n",
        "...\n",
        "```"
      ]
    },
    {
      "cell_type": "markdown",
      "metadata": {
        "id": "sES4hjMG49Hn",
        "colab_type": "text"
      },
      "source": [
        "In the example above, the printed output from applying our `haversine_distance_kernel` function shows some informative information. If you were to look at the entire printed output, you'd notice a few things:\n",
        "\n",
        "- The processing was spread across 15 CUDA blocks\n",
        "- Within each block, 64 separate threads were used for computation.\n",
        "- In this case, most threads in a block handled one element from the input array, but some threads have to deal with two elements, because there are 1000 rows and 960 threads (15 blocks * 64 threads per block)\n",
        "\n",
        "`apply_rows` handled all of this for us!"
      ]
    },
    {
      "cell_type": "markdown",
      "metadata": {
        "id": "K9LR-Fze5UYq",
        "colab_type": "text"
      },
      "source": [
        "#### **Exercise 1**\n",
        "\n",
        "Modify the above example to pass in the radius of the earth `r` as a keyword argument to the kernel.\n"
      ]
    },
    {
      "cell_type": "code",
      "metadata": {
        "id": "Z45Krquu5XYL",
        "colab_type": "code",
        "colab": {}
      },
      "source": [
        "def haversine_distance_kernel_r(lat1, lon1, lat2, lon2, out, r):\n",
        "    \"\"\"Haversine distance formula taken from Michael Dunn's StackOverflow post:\n",
        "    https://stackoverflow.com/questions/4913349/haversine-formula-in-python-bearing-and-distance-between-two-gps-points\n",
        "    \"\"\"\n",
        "    for i, (x_1, y_1, x_2, y_2) in enumerate(zip(lat1, lon1, lat2, lon2)):\n",
        "        print('thread id:', cuda.threadIdx.x, \n",
        "              'block id:', cuda.blockIdx.x,\n",
        "              'array size:', lat1.size, \n",
        "              'block threads:', cuda.blockDim.x)\n",
        "\n",
        "        x_1 = pi/180 * x_1\n",
        "        y_1 = pi/180 * y_1\n",
        "        x_2 = pi/180 * x_2\n",
        "        y_2 = pi/180 * y_2\n",
        "        \n",
        "        dlon = y_2 - y_1\n",
        "        dlat = x_2 - x_1\n",
        "        a = sin(dlat/2)**2 + cos(x_1) * cos(x_2) * sin(dlon/2)**2\n",
        "        \n",
        "        c = 2 * asin(sqrt(a)) \n",
        "        \n",
        "        out[i] = c * r"
      ],
      "execution_count": 0,
      "outputs": []
    },
    {
      "cell_type": "code",
      "metadata": {
        "id": "4jmfQ4825Xzz",
        "colab_type": "code",
        "colab": {}
      },
      "source": [
        "df_hd_r = df.apply_rows(haversine_distance_kernel_r,\n",
        "                        incols=['lat1', 'lon1', 'lat2', 'lon2'],\n",
        "                        outcols=dict(out=np.float64),\n",
        "                        kwargs=dict(r=100))"
      ],
      "execution_count": 0,
      "outputs": []
    },
    {
      "cell_type": "code",
      "metadata": {
        "id": "XmDm_Fmf6WWv",
        "colab_type": "code",
        "colab": {
          "base_uri": "https://localhost:8080/",
          "height": 402
        },
        "outputId": "3ab88295-634a-4048-85fa-50ee8b0c2bb7"
      },
      "source": [
        "df_hd_r"
      ],
      "execution_count": 34,
      "outputs": [
        {
          "output_type": "execute_result",
          "data": {
            "text/html": [
              "<div>\n",
              "<style scoped>\n",
              "    .dataframe tbody tr th:only-of-type {\n",
              "        vertical-align: middle;\n",
              "    }\n",
              "\n",
              "    .dataframe tbody tr th {\n",
              "        vertical-align: top;\n",
              "    }\n",
              "\n",
              "    .dataframe thead th {\n",
              "        text-align: right;\n",
              "    }\n",
              "</style>\n",
              "<table border=\"1\" class=\"dataframe\">\n",
              "  <thead>\n",
              "    <tr style=\"text-align: right;\">\n",
              "      <th></th>\n",
              "      <th>lat1</th>\n",
              "      <th>lon1</th>\n",
              "      <th>lat2</th>\n",
              "      <th>lon2</th>\n",
              "      <th>out</th>\n",
              "    </tr>\n",
              "  </thead>\n",
              "  <tbody>\n",
              "    <tr>\n",
              "      <th>0</th>\n",
              "      <td>10.472986</td>\n",
              "      <td>11.889149</td>\n",
              "      <td>10.173869</td>\n",
              "      <td>9.557545</td>\n",
              "      <td>4.037422</td>\n",
              "    </tr>\n",
              "    <tr>\n",
              "      <th>1</th>\n",
              "      <td>9.318574</td>\n",
              "      <td>11.733839</td>\n",
              "      <td>10.237408</td>\n",
              "      <td>10.941703</td>\n",
              "      <td>2.104279</td>\n",
              "    </tr>\n",
              "    <tr>\n",
              "      <th>2</th>\n",
              "      <td>10.242439</td>\n",
              "      <td>9.969706</td>\n",
              "      <td>8.158692</td>\n",
              "      <td>8.084421</td>\n",
              "      <td>4.876007</td>\n",
              "    </tr>\n",
              "    <tr>\n",
              "      <th>3</th>\n",
              "      <td>8.299264</td>\n",
              "      <td>10.284300</td>\n",
              "      <td>10.376267</td>\n",
              "      <td>9.831747</td>\n",
              "      <td>3.707882</td>\n",
              "    </tr>\n",
              "    <tr>\n",
              "      <th>4</th>\n",
              "      <td>10.753143</td>\n",
              "      <td>11.003471</td>\n",
              "      <td>9.416267</td>\n",
              "      <td>12.702623</td>\n",
              "      <td>3.737487</td>\n",
              "    </tr>\n",
              "    <tr>\n",
              "      <th>...</th>\n",
              "      <td>...</td>\n",
              "      <td>...</td>\n",
              "      <td>...</td>\n",
              "      <td>...</td>\n",
              "      <td>...</td>\n",
              "    </tr>\n",
              "    <tr>\n",
              "      <th>995</th>\n",
              "      <td>10.398274</td>\n",
              "      <td>9.096494</td>\n",
              "      <td>9.657189</td>\n",
              "      <td>10.559591</td>\n",
              "      <td>2.827714</td>\n",
              "    </tr>\n",
              "    <tr>\n",
              "      <th>996</th>\n",
              "      <td>10.729589</td>\n",
              "      <td>9.676270</td>\n",
              "      <td>8.895860</td>\n",
              "      <td>9.705665</td>\n",
              "      <td>3.200860</td>\n",
              "    </tr>\n",
              "    <tr>\n",
              "      <th>997</th>\n",
              "      <td>10.858051</td>\n",
              "      <td>7.460364</td>\n",
              "      <td>9.555588</td>\n",
              "      <td>10.194337</td>\n",
              "      <td>5.217315</td>\n",
              "    </tr>\n",
              "    <tr>\n",
              "      <th>998</th>\n",
              "      <td>10.999640</td>\n",
              "      <td>10.645792</td>\n",
              "      <td>8.202918</td>\n",
              "      <td>10.021991</td>\n",
              "      <td>4.997824</td>\n",
              "    </tr>\n",
              "    <tr>\n",
              "      <th>999</th>\n",
              "      <td>8.776768</td>\n",
              "      <td>9.322671</td>\n",
              "      <td>10.627422</td>\n",
              "      <td>7.562933</td>\n",
              "      <td>4.426865</td>\n",
              "    </tr>\n",
              "  </tbody>\n",
              "</table>\n",
              "<p>1000 rows × 5 columns</p>\n",
              "</div>"
            ],
            "text/plain": [
              "          lat1       lon1       lat2       lon2       out\n",
              "0    10.472986  11.889149  10.173869   9.557545  4.037422\n",
              "1     9.318574  11.733839  10.237408  10.941703  2.104279\n",
              "2    10.242439   9.969706   8.158692   8.084421  4.876007\n",
              "3     8.299264  10.284300  10.376267   9.831747  3.707882\n",
              "4    10.753143  11.003471   9.416267  12.702623  3.737487\n",
              "..         ...        ...        ...        ...       ...\n",
              "995  10.398274   9.096494   9.657189  10.559591  2.827714\n",
              "996  10.729589   9.676270   8.895860   9.705665  3.200860\n",
              "997  10.858051   7.460364   9.555588  10.194337  5.217315\n",
              "998  10.999640  10.645792   8.202918  10.021991  4.997824\n",
              "999   8.776768   9.322671  10.627422   7.562933  4.426865\n",
              "\n",
              "[1000 rows x 5 columns]"
            ]
          },
          "metadata": {
            "tags": []
          },
          "execution_count": 34
        }
      ]
    },
    {
      "cell_type": "markdown",
      "metadata": {
        "id": "i4FaVys07Kks",
        "colab_type": "text"
      },
      "source": [
        "#### **Exercise 2**\n",
        "\n",
        "Write a kernel to compute the [bearing formula](https://www.movable-type.co.uk/scripts/latlong.html):\n",
        "\n",
        "$$\\operatorname{atan2}(\\sin(\\lambda_2-\\lambda_1)\\cos(\\varphi_2), \\cos(\\varphi_1)\\sin(\\varphi_2)-\\sin(\\varphi_1)\\cos(\\varphi_2)\\cos(\\lambda_2-\\lambda_1))$$\n",
        "       \n",
        "where again $\\varphi_1,\\varphi_2$ are the latitudes and $\\lambda_1,\\lambda_2$ are the longitudes."
      ]
    },
    {
      "cell_type": "code",
      "metadata": {
        "id": "LMs3Rm4u6-XU",
        "colab_type": "code",
        "colab": {}
      },
      "source": [
        "def bearing_distance_kernel(lat1, lon1, lat2, lon2, out_bearing):\n",
        "    \"\"\"Haversine distance formula taken from Michael Dunn's StackOverflow post:\n",
        "    https://stackoverflow.com/questions/4913349/haversine-formula-in-python-bearing-and-distance-between-two-gps-points\n",
        "    \"\"\"\n",
        "    for i, (x_1, y_1, x_2, y_2) in enumerate(zip(lat1, lon1, lat2, lon2)):\n",
        "        print('thread id:', cuda.threadIdx.x, \n",
        "              'block id:', cuda.blockIdx.x,\n",
        "              'array size:', lat1.size, \n",
        "              'block threads:', cuda.blockDim.x)\n",
        "\n",
        "        x_1 = pi/180 * x_1       # lat1\n",
        "        y_1 = pi/180 * y_1       # lon1\n",
        "        x_2 = pi/180 * x_2       # lat2\n",
        "        y_2 = pi/180 * y_2       # lon2\n",
        "        \n",
        "        dlon = y_2 - y_1\n",
        "        a = atan2(sin(dlon)*cos(x_2), cos(x_1)*sin(x_1) - sin(x_1)*cos(x_2)*cos(dlon))\n",
        "        # Convert radians [-π, π] to degrees [0°, 360°]\n",
        "        out_bearing[i] = (180/pi*a + 180) % 360"
      ],
      "execution_count": 0,
      "outputs": []
    },
    {
      "cell_type": "code",
      "metadata": {
        "id": "uvVl5fL9-ptB",
        "colab_type": "code",
        "colab": {
          "base_uri": "https://localhost:8080/",
          "height": 50
        },
        "outputId": "a1682677-8e9f-4d3b-831f-8567364b60d1"
      },
      "source": [
        "%%time\n",
        "df_bearing = df.apply_rows(bearing_distance_kernel,\n",
        "                              incols=['lat1', 'lon1', 'lat2', 'lon2'],\n",
        "                              outcols=dict(out_bearing=np.float64),\n",
        "                              kwargs=dict())"
      ],
      "execution_count": 81,
      "outputs": [
        {
          "output_type": "stream",
          "text": [
            "CPU times: user 460 ms, sys: 5.45 ms, total: 465 ms\n",
            "Wall time: 466 ms\n"
          ],
          "name": "stdout"
        }
      ]
    },
    {
      "cell_type": "code",
      "metadata": {
        "id": "e8EbyF-4_Jwk",
        "colab_type": "code",
        "colab": {
          "base_uri": "https://localhost:8080/",
          "height": 402
        },
        "outputId": "742d7a05-2538-4cad-f5fb-c150cb47e970"
      },
      "source": [
        "df_bearing"
      ],
      "execution_count": 82,
      "outputs": [
        {
          "output_type": "execute_result",
          "data": {
            "text/html": [
              "<div>\n",
              "<style scoped>\n",
              "    .dataframe tbody tr th:only-of-type {\n",
              "        vertical-align: middle;\n",
              "    }\n",
              "\n",
              "    .dataframe tbody tr th {\n",
              "        vertical-align: top;\n",
              "    }\n",
              "\n",
              "    .dataframe thead th {\n",
              "        text-align: right;\n",
              "    }\n",
              "</style>\n",
              "<table border=\"1\" class=\"dataframe\">\n",
              "  <thead>\n",
              "    <tr style=\"text-align: right;\">\n",
              "      <th></th>\n",
              "      <th>lat1</th>\n",
              "      <th>lon1</th>\n",
              "      <th>lat2</th>\n",
              "      <th>lon2</th>\n",
              "      <th>out_bearing</th>\n",
              "    </tr>\n",
              "  </thead>\n",
              "  <tbody>\n",
              "    <tr>\n",
              "      <th>0</th>\n",
              "      <td>10.472986</td>\n",
              "      <td>11.889149</td>\n",
              "      <td>10.173869</td>\n",
              "      <td>9.557545</td>\n",
              "      <td>89.968614</td>\n",
              "    </tr>\n",
              "    <tr>\n",
              "      <th>1</th>\n",
              "      <td>9.318574</td>\n",
              "      <td>11.733839</td>\n",
              "      <td>10.237408</td>\n",
              "      <td>10.941703</td>\n",
              "      <td>91.920647</td>\n",
              "    </tr>\n",
              "    <tr>\n",
              "      <th>2</th>\n",
              "      <td>10.242439</td>\n",
              "      <td>9.969706</td>\n",
              "      <td>8.158692</td>\n",
              "      <td>8.084421</td>\n",
              "      <td>88.349005</td>\n",
              "    </tr>\n",
              "    <tr>\n",
              "      <th>3</th>\n",
              "      <td>8.299264</td>\n",
              "      <td>10.284300</td>\n",
              "      <td>10.376267</td>\n",
              "      <td>9.831747</td>\n",
              "      <td>96.268269</td>\n",
              "    </tr>\n",
              "    <tr>\n",
              "      <th>4</th>\n",
              "      <td>10.753143</td>\n",
              "      <td>11.003471</td>\n",
              "      <td>9.416267</td>\n",
              "      <td>12.702623</td>\n",
              "      <td>271.334314</td>\n",
              "    </tr>\n",
              "    <tr>\n",
              "      <th>...</th>\n",
              "      <td>...</td>\n",
              "      <td>...</td>\n",
              "      <td>...</td>\n",
              "      <td>...</td>\n",
              "      <td>...</td>\n",
              "    </tr>\n",
              "    <tr>\n",
              "      <th>995</th>\n",
              "      <td>10.398274</td>\n",
              "      <td>9.096494</td>\n",
              "      <td>9.657189</td>\n",
              "      <td>10.559591</td>\n",
              "      <td>270.793185</td>\n",
              "    </tr>\n",
              "    <tr>\n",
              "      <th>996</th>\n",
              "      <td>10.729589</td>\n",
              "      <td>9.676270</td>\n",
              "      <td>8.895860</td>\n",
              "      <td>9.705665</td>\n",
              "      <td>333.473395</td>\n",
              "    </tr>\n",
              "    <tr>\n",
              "      <th>997</th>\n",
              "      <td>10.858051</td>\n",
              "      <td>7.460364</td>\n",
              "      <td>9.555588</td>\n",
              "      <td>10.194337</td>\n",
              "      <td>270.666711</td>\n",
              "    </tr>\n",
              "    <tr>\n",
              "      <th>998</th>\n",
              "      <td>10.999640</td>\n",
              "      <td>10.645792</td>\n",
              "      <td>8.202918</td>\n",
              "      <td>10.021991</td>\n",
              "      <td>81.856047</td>\n",
              "    </tr>\n",
              "    <tr>\n",
              "      <th>999</th>\n",
              "      <td>8.776768</td>\n",
              "      <td>9.322671</td>\n",
              "      <td>10.627422</td>\n",
              "      <td>7.562933</td>\n",
              "      <td>91.710428</td>\n",
              "    </tr>\n",
              "  </tbody>\n",
              "</table>\n",
              "<p>1000 rows × 5 columns</p>\n",
              "</div>"
            ],
            "text/plain": [
              "          lat1       lon1       lat2       lon2  out_bearing\n",
              "0    10.472986  11.889149  10.173869   9.557545    89.968614\n",
              "1     9.318574  11.733839  10.237408  10.941703    91.920647\n",
              "2    10.242439   9.969706   8.158692   8.084421    88.349005\n",
              "3     8.299264  10.284300  10.376267   9.831747    96.268269\n",
              "4    10.753143  11.003471   9.416267  12.702623   271.334314\n",
              "..         ...        ...        ...        ...          ...\n",
              "995  10.398274   9.096494   9.657189  10.559591   270.793185\n",
              "996  10.729589   9.676270   8.895860   9.705665   333.473395\n",
              "997  10.858051   7.460364   9.555588  10.194337   270.666711\n",
              "998  10.999640  10.645792   8.202918  10.021991    81.856047\n",
              "999   8.776768   9.322671  10.627422   7.562933    91.710428\n",
              "\n",
              "[1000 rows x 5 columns]"
            ]
          },
          "metadata": {
            "tags": []
          },
          "execution_count": 82
        }
      ]
    },
    {
      "cell_type": "markdown",
      "metadata": {
        "id": "MBnxSmtIAkAs",
        "colab_type": "text"
      },
      "source": [
        "## **apply_chunks**"
      ]
    },
    {
      "cell_type": "markdown",
      "metadata": {
        "id": "7LhCyBxfAtJR",
        "colab_type": "text"
      },
      "source": [
        "In the section above, the data was generally split into single-element chunks. `apply_chunks` is a more general version of `apply_rows` that gives us control over how the data is chunked on the GPU. We can specify how to divide the long array, map each of the array chunks to different GPU blocks to process (using the `chunks` argument) and assign the number of threads per block (using the `tpb` argument).\n",
        "\n",
        "Applying kernels with `apply_chunks` is very similar to applying kernels with `apply_rows`. Except, when we call `apply_chunks`, we must also provide:\n",
        "- The chunk size `chunks` as an integer or `cudf.Series` of integer offsets\n",
        "- The number of threads per block, `tpb`. Note that `tpb` can be omitted, but in that case, it defaults to `1` thread per block, which is very inefficient. We recommend always setting this argument.\n",
        "\n",
        "The kernel is executed by each thread, with full access to all the elements in that chunk of the array. In this example below, with `chunks=16`, cuDF tries to uniformly cut the 1000 elements into chunks of size 16 spread across multiple blocks. Eight threads per block process the subarray of size 16, since we set `tpb=8`."
      ]
    },
    {
      "cell_type": "code",
      "metadata": {
        "id": "2H8SoSGMBioc",
        "colab_type": "code",
        "colab": {
          "base_uri": "https://localhost:8080/",
          "height": 136
        },
        "outputId": "75f7f7b2-2cf9-4901-ff06-00bb346c0d83"
      },
      "source": [
        "df.head(3)"
      ],
      "execution_count": 47,
      "outputs": [
        {
          "output_type": "execute_result",
          "data": {
            "text/html": [
              "<div>\n",
              "<style scoped>\n",
              "    .dataframe tbody tr th:only-of-type {\n",
              "        vertical-align: middle;\n",
              "    }\n",
              "\n",
              "    .dataframe tbody tr th {\n",
              "        vertical-align: top;\n",
              "    }\n",
              "\n",
              "    .dataframe thead th {\n",
              "        text-align: right;\n",
              "    }\n",
              "</style>\n",
              "<table border=\"1\" class=\"dataframe\">\n",
              "  <thead>\n",
              "    <tr style=\"text-align: right;\">\n",
              "      <th></th>\n",
              "      <th>lat1</th>\n",
              "      <th>lon1</th>\n",
              "      <th>lat2</th>\n",
              "      <th>lon2</th>\n",
              "    </tr>\n",
              "  </thead>\n",
              "  <tbody>\n",
              "    <tr>\n",
              "      <th>0</th>\n",
              "      <td>10.472986</td>\n",
              "      <td>11.889149</td>\n",
              "      <td>10.173869</td>\n",
              "      <td>9.557545</td>\n",
              "    </tr>\n",
              "    <tr>\n",
              "      <th>1</th>\n",
              "      <td>9.318574</td>\n",
              "      <td>11.733839</td>\n",
              "      <td>10.237408</td>\n",
              "      <td>10.941703</td>\n",
              "    </tr>\n",
              "    <tr>\n",
              "      <th>2</th>\n",
              "      <td>10.242439</td>\n",
              "      <td>9.969706</td>\n",
              "      <td>8.158692</td>\n",
              "      <td>8.084421</td>\n",
              "    </tr>\n",
              "  </tbody>\n",
              "</table>\n",
              "</div>"
            ],
            "text/plain": [
              "        lat1       lon1       lat2       lon2\n",
              "0  10.472986  11.889149  10.173869   9.557545\n",
              "1   9.318574  11.733839  10.237408  10.941703\n",
              "2  10.242439   9.969706   8.158692   8.084421"
            ]
          },
          "metadata": {
            "tags": []
          },
          "execution_count": 47
        }
      ]
    },
    {
      "cell_type": "code",
      "metadata": {
        "id": "DEFC-3-4D3MT",
        "colab_type": "code",
        "colab": {}
      },
      "source": [
        "# This is the exact same kernel as above. \n",
        "def haversine_distance_kernel(lat1, lon1, lat2, lon2, out):\n",
        "    \"\"\"Haversine distance formula taken from Michael Dunn's StackOverflow post:\n",
        "    https://stackoverflow.com/questions/4913349/haversine-formula-in-python-bearing-and-distance-between-two-gps-points\n",
        "    \"\"\"\n",
        "    for i, (x_1, y_1, x_2, y_2) in enumerate(zip(lat1, lon1, lat2, lon2)):\n",
        "        print('thread_id:', cuda.threadIdx.x, \n",
        "              'bid:', cuda.blockIdx.x,\n",
        "              'array size:', lat1.size, \n",
        "              'block threads:', cuda.blockDim.x)\n",
        "\n",
        "        x_1 = pi/180 * x_1\n",
        "        y_1 = pi/180 * y_1\n",
        "        x_2 = pi/180 * x_2\n",
        "        y_2 = pi/180 * y_2\n",
        "        \n",
        "        dlon = y_2 - y_1\n",
        "        dlat = x_2 - x_1\n",
        "        a = sin(dlat/2)**2 + cos(x_1) * cos(x_2) * sin(dlon/2)**2\n",
        "        \n",
        "        c = 2 * asin(sqrt(a)) \n",
        "        r = 6371 # Radius of earth in kilometers\n",
        "        \n",
        "        out[i] = c * r"
      ],
      "execution_count": 0,
      "outputs": []
    },
    {
      "cell_type": "code",
      "metadata": {
        "id": "Pvsc9ctkCD4X",
        "colab_type": "code",
        "colab": {
          "base_uri": "https://localhost:8080/",
          "height": 50
        },
        "outputId": "dc364ac9-0163-48bb-86ae-1c9b25dbee8a"
      },
      "source": [
        "%%time\n",
        "df_hd_chunks = df.apply_chunks(haversine_distance_kernel,\n",
        "                               incols=['lat1', 'lon1', 'lat2', 'lon2'],\n",
        "                               outcols=dict(out=np.float64),\n",
        "                               kwargs=dict(),\n",
        "                               chunks=16,\n",
        "                               tpb=8)"
      ],
      "execution_count": 85,
      "outputs": [
        {
          "output_type": "stream",
          "text": [
            "CPU times: user 19.6 ms, sys: 938 µs, total: 20.6 ms\n",
            "Wall time: 33.5 ms\n"
          ],
          "name": "stdout"
        }
      ]
    },
    {
      "cell_type": "code",
      "metadata": {
        "id": "Gw0I227jD7Bd",
        "colab_type": "code",
        "colab": {
          "base_uri": "https://localhost:8080/",
          "height": 402
        },
        "outputId": "22a9cdbc-bf1e-49ad-b234-3c591eaf19bb"
      },
      "source": [
        "df_hd_chunks"
      ],
      "execution_count": 86,
      "outputs": [
        {
          "output_type": "execute_result",
          "data": {
            "text/html": [
              "<div>\n",
              "<style scoped>\n",
              "    .dataframe tbody tr th:only-of-type {\n",
              "        vertical-align: middle;\n",
              "    }\n",
              "\n",
              "    .dataframe tbody tr th {\n",
              "        vertical-align: top;\n",
              "    }\n",
              "\n",
              "    .dataframe thead th {\n",
              "        text-align: right;\n",
              "    }\n",
              "</style>\n",
              "<table border=\"1\" class=\"dataframe\">\n",
              "  <thead>\n",
              "    <tr style=\"text-align: right;\">\n",
              "      <th></th>\n",
              "      <th>lat1</th>\n",
              "      <th>lon1</th>\n",
              "      <th>lat2</th>\n",
              "      <th>lon2</th>\n",
              "      <th>out</th>\n",
              "    </tr>\n",
              "  </thead>\n",
              "  <tbody>\n",
              "    <tr>\n",
              "      <th>0</th>\n",
              "      <td>10.472986</td>\n",
              "      <td>11.889149</td>\n",
              "      <td>10.173869</td>\n",
              "      <td>9.557545</td>\n",
              "      <td>257.224127</td>\n",
              "    </tr>\n",
              "    <tr>\n",
              "      <th>1</th>\n",
              "      <td>9.318574</td>\n",
              "      <td>11.733839</td>\n",
              "      <td>10.237408</td>\n",
              "      <td>10.941703</td>\n",
              "      <td>134.063596</td>\n",
              "    </tr>\n",
              "    <tr>\n",
              "      <th>2</th>\n",
              "      <td>10.242439</td>\n",
              "      <td>9.969706</td>\n",
              "      <td>8.158692</td>\n",
              "      <td>8.084421</td>\n",
              "      <td>310.650417</td>\n",
              "    </tr>\n",
              "    <tr>\n",
              "      <th>3</th>\n",
              "      <td>8.299264</td>\n",
              "      <td>10.284300</td>\n",
              "      <td>10.376267</td>\n",
              "      <td>9.831747</td>\n",
              "      <td>236.229152</td>\n",
              "    </tr>\n",
              "    <tr>\n",
              "      <th>4</th>\n",
              "      <td>10.753143</td>\n",
              "      <td>11.003471</td>\n",
              "      <td>9.416267</td>\n",
              "      <td>12.702623</td>\n",
              "      <td>238.115297</td>\n",
              "    </tr>\n",
              "    <tr>\n",
              "      <th>...</th>\n",
              "      <td>...</td>\n",
              "      <td>...</td>\n",
              "      <td>...</td>\n",
              "      <td>...</td>\n",
              "      <td>...</td>\n",
              "    </tr>\n",
              "    <tr>\n",
              "      <th>995</th>\n",
              "      <td>10.398274</td>\n",
              "      <td>9.096494</td>\n",
              "      <td>9.657189</td>\n",
              "      <td>10.559591</td>\n",
              "      <td>180.153664</td>\n",
              "    </tr>\n",
              "    <tr>\n",
              "      <th>996</th>\n",
              "      <td>10.729589</td>\n",
              "      <td>9.676270</td>\n",
              "      <td>8.895860</td>\n",
              "      <td>9.705665</td>\n",
              "      <td>203.926802</td>\n",
              "    </tr>\n",
              "    <tr>\n",
              "      <th>997</th>\n",
              "      <td>10.858051</td>\n",
              "      <td>7.460364</td>\n",
              "      <td>9.555588</td>\n",
              "      <td>10.194337</td>\n",
              "      <td>332.395161</td>\n",
              "    </tr>\n",
              "    <tr>\n",
              "      <th>998</th>\n",
              "      <td>10.999640</td>\n",
              "      <td>10.645792</td>\n",
              "      <td>8.202918</td>\n",
              "      <td>10.021991</td>\n",
              "      <td>318.411387</td>\n",
              "    </tr>\n",
              "    <tr>\n",
              "      <th>999</th>\n",
              "      <td>8.776768</td>\n",
              "      <td>9.322671</td>\n",
              "      <td>10.627422</td>\n",
              "      <td>7.562933</td>\n",
              "      <td>282.035554</td>\n",
              "    </tr>\n",
              "  </tbody>\n",
              "</table>\n",
              "<p>1000 rows × 5 columns</p>\n",
              "</div>"
            ],
            "text/plain": [
              "          lat1       lon1       lat2       lon2         out\n",
              "0    10.472986  11.889149  10.173869   9.557545  257.224127\n",
              "1     9.318574  11.733839  10.237408  10.941703  134.063596\n",
              "2    10.242439   9.969706   8.158692   8.084421  310.650417\n",
              "3     8.299264  10.284300  10.376267   9.831747  236.229152\n",
              "4    10.753143  11.003471   9.416267  12.702623  238.115297\n",
              "..         ...        ...        ...        ...         ...\n",
              "995  10.398274   9.096494   9.657189  10.559591  180.153664\n",
              "996  10.729589   9.676270   8.895860   9.705665  203.926802\n",
              "997  10.858051   7.460364   9.555588  10.194337  332.395161\n",
              "998  10.999640  10.645792   8.202918  10.021991  318.411387\n",
              "999   8.776768   9.322671  10.627422   7.562933  282.035554\n",
              "\n",
              "[1000 rows x 5 columns]"
            ]
          },
          "metadata": {
            "tags": []
          },
          "execution_count": 86
        }
      ]
    },
    {
      "cell_type": "markdown",
      "metadata": {
        "id": "j9NNYInPFjMA",
        "colab_type": "text"
      },
      "source": [
        "#### **Exercise**\n",
        "\n",
        "Use your bearing formula function from Exercise 2 with `apply_chunks` instead of `apply_rows`"
      ]
    },
    {
      "cell_type": "code",
      "metadata": {
        "id": "Hol8UWh5EX8Y",
        "colab_type": "code",
        "colab": {}
      },
      "source": [
        "def bearing_distance_kernel(lat1, lon1, lat2, lon2, out_bearing):\n",
        "    \"\"\"Haversine distance formula taken from Michael Dunn's StackOverflow post:\n",
        "    https://stackoverflow.com/questions/4913349/haversine-formula-in-python-bearing-and-distance-between-two-gps-points\n",
        "    \"\"\"\n",
        "    for i, (x_1, y_1, x_2, y_2) in enumerate(zip(lat1, lon1, lat2, lon2)):\n",
        "        print('thread id:', cuda.threadIdx.x, \n",
        "              'block id:', cuda.blockIdx.x,\n",
        "              'array size:', lat1.size, \n",
        "              'block threads:', cuda.blockDim.x)\n",
        "\n",
        "        x_1 = pi/180 * x_1       # lat1\n",
        "        y_1 = pi/180 * y_1       # lon1\n",
        "        x_2 = pi/180 * x_2       # lat2\n",
        "        y_2 = pi/180 * y_2       # lon2\n",
        "        \n",
        "        dlon = y_2 - y_1\n",
        "        a = atan2(sin(dlon)*cos(x_2), cos(x_1)*sin(x_1) - sin(x_1)*cos(x_2)*cos(dlon))\n",
        "        # Convert radians [-π, π] to degrees [0°, 360°]\n",
        "        out_bearing[i] = (180/pi*a + 180) % 360"
      ],
      "execution_count": 0,
      "outputs": []
    },
    {
      "cell_type": "code",
      "metadata": {
        "id": "rk4hprh4GBNU",
        "colab_type": "code",
        "colab": {
          "base_uri": "https://localhost:8080/",
          "height": 50
        },
        "outputId": "ffcd09e0-00f2-4016-aaf8-73dcdbcfde5e"
      },
      "source": [
        "%%time\n",
        "df_bearing_chunks = df.apply_chunks(bearing_distance_kernel,\n",
        "                                    incols=['lat1', 'lon1', 'lat2', 'lon2'],\n",
        "                                    outcols=dict(out_bearing=np.float64),\n",
        "                                    kwargs=dict(),\n",
        "                                    chunks=16,\n",
        "                                    tpb=8)"
      ],
      "execution_count": 89,
      "outputs": [
        {
          "output_type": "stream",
          "text": [
            "CPU times: user 646 ms, sys: 5.32 ms, total: 651 ms\n",
            "Wall time: 771 ms\n"
          ],
          "name": "stdout"
        }
      ]
    },
    {
      "cell_type": "code",
      "metadata": {
        "id": "Z7KXC9XsGdnO",
        "colab_type": "code",
        "colab": {
          "base_uri": "https://localhost:8080/",
          "height": 136
        },
        "outputId": "cbd209d9-94c7-4921-c95e-292f71508372"
      },
      "source": [
        "df_bearing_chunks.head(3)"
      ],
      "execution_count": 73,
      "outputs": [
        {
          "output_type": "execute_result",
          "data": {
            "text/html": [
              "<div>\n",
              "<style scoped>\n",
              "    .dataframe tbody tr th:only-of-type {\n",
              "        vertical-align: middle;\n",
              "    }\n",
              "\n",
              "    .dataframe tbody tr th {\n",
              "        vertical-align: top;\n",
              "    }\n",
              "\n",
              "    .dataframe thead th {\n",
              "        text-align: right;\n",
              "    }\n",
              "</style>\n",
              "<table border=\"1\" class=\"dataframe\">\n",
              "  <thead>\n",
              "    <tr style=\"text-align: right;\">\n",
              "      <th></th>\n",
              "      <th>lat1</th>\n",
              "      <th>lon1</th>\n",
              "      <th>lat2</th>\n",
              "      <th>lon2</th>\n",
              "      <th>out_bearing</th>\n",
              "    </tr>\n",
              "  </thead>\n",
              "  <tbody>\n",
              "    <tr>\n",
              "      <th>0</th>\n",
              "      <td>10.472986</td>\n",
              "      <td>11.889149</td>\n",
              "      <td>10.173869</td>\n",
              "      <td>9.557545</td>\n",
              "      <td>89.968614</td>\n",
              "    </tr>\n",
              "    <tr>\n",
              "      <th>1</th>\n",
              "      <td>9.318574</td>\n",
              "      <td>11.733839</td>\n",
              "      <td>10.237408</td>\n",
              "      <td>10.941703</td>\n",
              "      <td>91.920647</td>\n",
              "    </tr>\n",
              "    <tr>\n",
              "      <th>2</th>\n",
              "      <td>10.242439</td>\n",
              "      <td>9.969706</td>\n",
              "      <td>8.158692</td>\n",
              "      <td>8.084421</td>\n",
              "      <td>88.349005</td>\n",
              "    </tr>\n",
              "  </tbody>\n",
              "</table>\n",
              "</div>"
            ],
            "text/plain": [
              "        lat1       lon1       lat2       lon2  out_bearing\n",
              "0  10.472986  11.889149  10.173869   9.557545    89.968614\n",
              "1   9.318574  11.733839  10.237408  10.941703    91.920647\n",
              "2  10.242439   9.969706   8.158692   8.084421    88.349005"
            ]
          },
          "metadata": {
            "tags": []
          },
          "execution_count": 73
        }
      ]
    },
    {
      "cell_type": "markdown",
      "metadata": {
        "id": "U2qqwBJbIK9Y",
        "colab_type": "text"
      },
      "source": [
        "## **apply_grouped**    - **Advanced apply: groupby + UDFs**"
      ]
    },
    {
      "cell_type": "markdown",
      "metadata": {
        "id": "MOTe147OIdIE",
        "colab_type": "text"
      },
      "source": [
        "In this section, we'll walk through how we can apply UDFs to a grouped DataFrame, and why you might want to do this in the first place.\n",
        "\n",
        "In the financial services industry, data scientists often need to compute features from time series data. One of the most popular ways to process time series data is to compute a moving average, as if you were sliding a window across your array. With the skills we've learned so far, you could create a custom UDF to do exactly that! You could define the function, pass it into `apply_rows` or `apply_chunks`, and get the moving average results.\n",
        "\n",
        "But, often, our DataFrame will contain *multiple* time series that we want to process logically separately (such the time series of prices for different stocks). In the introductory notebook, we learned about the `groupby` concept in cuDF that helps us define separate groups and process them separately.\n",
        "\n",
        "In the following example, we’ll show how to combine these two concepts (groupbys and UDFs) to calculate moving averages within each separate group."
      ]
    },
    {
      "cell_type": "markdown",
      "metadata": {
        "id": "D3N5t0YWI9Ud",
        "colab_type": "text"
      },
      "source": [
        "First, we'll create a random 15 row DataFrame with one categorical feature and one random integer valued feature."
      ]
    },
    {
      "cell_type": "code",
      "metadata": {
        "id": "mZIkO-eHJILx",
        "colab_type": "code",
        "colab": {}
      },
      "source": [
        "df = cudf.DataFrame({\"stock\": [1] * 5 + [2] * 5 + [3] * 5,\n",
        "                     \"price\": [np.random.randint(0, 100) for _ in range(15)],\n",
        "                    })"
      ],
      "execution_count": 0,
      "outputs": []
    },
    {
      "cell_type": "code",
      "metadata": {
        "id": "yqkHdepaJKMB",
        "colab_type": "code",
        "colab": {
          "base_uri": "https://localhost:8080/",
          "height": 491
        },
        "outputId": "435d422c-e2c4-4ac8-b1d5-3409b694ddd6"
      },
      "source": [
        "df"
      ],
      "execution_count": 96,
      "outputs": [
        {
          "output_type": "execute_result",
          "data": {
            "text/html": [
              "<div>\n",
              "<style scoped>\n",
              "    .dataframe tbody tr th:only-of-type {\n",
              "        vertical-align: middle;\n",
              "    }\n",
              "\n",
              "    .dataframe tbody tr th {\n",
              "        vertical-align: top;\n",
              "    }\n",
              "\n",
              "    .dataframe thead th {\n",
              "        text-align: right;\n",
              "    }\n",
              "</style>\n",
              "<table border=\"1\" class=\"dataframe\">\n",
              "  <thead>\n",
              "    <tr style=\"text-align: right;\">\n",
              "      <th></th>\n",
              "      <th>stock</th>\n",
              "      <th>price</th>\n",
              "    </tr>\n",
              "  </thead>\n",
              "  <tbody>\n",
              "    <tr>\n",
              "      <th>0</th>\n",
              "      <td>1</td>\n",
              "      <td>36</td>\n",
              "    </tr>\n",
              "    <tr>\n",
              "      <th>1</th>\n",
              "      <td>1</td>\n",
              "      <td>76</td>\n",
              "    </tr>\n",
              "    <tr>\n",
              "      <th>2</th>\n",
              "      <td>1</td>\n",
              "      <td>70</td>\n",
              "    </tr>\n",
              "    <tr>\n",
              "      <th>3</th>\n",
              "      <td>1</td>\n",
              "      <td>33</td>\n",
              "    </tr>\n",
              "    <tr>\n",
              "      <th>4</th>\n",
              "      <td>1</td>\n",
              "      <td>18</td>\n",
              "    </tr>\n",
              "    <tr>\n",
              "      <th>5</th>\n",
              "      <td>2</td>\n",
              "      <td>40</td>\n",
              "    </tr>\n",
              "    <tr>\n",
              "      <th>6</th>\n",
              "      <td>2</td>\n",
              "      <td>15</td>\n",
              "    </tr>\n",
              "    <tr>\n",
              "      <th>7</th>\n",
              "      <td>2</td>\n",
              "      <td>11</td>\n",
              "    </tr>\n",
              "    <tr>\n",
              "      <th>8</th>\n",
              "      <td>2</td>\n",
              "      <td>28</td>\n",
              "    </tr>\n",
              "    <tr>\n",
              "      <th>9</th>\n",
              "      <td>2</td>\n",
              "      <td>63</td>\n",
              "    </tr>\n",
              "    <tr>\n",
              "      <th>10</th>\n",
              "      <td>3</td>\n",
              "      <td>45</td>\n",
              "    </tr>\n",
              "    <tr>\n",
              "      <th>11</th>\n",
              "      <td>3</td>\n",
              "      <td>13</td>\n",
              "    </tr>\n",
              "    <tr>\n",
              "      <th>12</th>\n",
              "      <td>3</td>\n",
              "      <td>46</td>\n",
              "    </tr>\n",
              "    <tr>\n",
              "      <th>13</th>\n",
              "      <td>3</td>\n",
              "      <td>91</td>\n",
              "    </tr>\n",
              "    <tr>\n",
              "      <th>14</th>\n",
              "      <td>3</td>\n",
              "      <td>43</td>\n",
              "    </tr>\n",
              "  </tbody>\n",
              "</table>\n",
              "</div>"
            ],
            "text/plain": [
              "    stock  price\n",
              "0       1     36\n",
              "1       1     76\n",
              "2       1     70\n",
              "3       1     33\n",
              "4       1     18\n",
              "5       2     40\n",
              "6       2     15\n",
              "7       2     11\n",
              "8       2     28\n",
              "9       2     63\n",
              "10      3     45\n",
              "11      3     13\n",
              "12      3     46\n",
              "13      3     91\n",
              "14      3     43"
            ]
          },
          "metadata": {
            "tags": []
          },
          "execution_count": 96
        }
      ]
    },
    {
      "cell_type": "code",
      "metadata": {
        "id": "tiBCOwtZJPZz",
        "colab_type": "code",
        "colab": {
          "base_uri": "https://localhost:8080/",
          "height": 67
        },
        "outputId": "967ee208-1fce-4f95-897b-5cbfd2ac4d3c"
      },
      "source": [
        "df.dtypes"
      ],
      "execution_count": 97,
      "outputs": [
        {
          "output_type": "execute_result",
          "data": {
            "text/plain": [
              "stock    int64\n",
              "price    int64\n",
              "dtype: object"
            ]
          },
          "metadata": {
            "tags": []
          },
          "execution_count": 97
        }
      ]
    },
    {
      "cell_type": "code",
      "metadata": {
        "id": "_L0nl5gqJYlz",
        "colab_type": "code",
        "colab": {
          "base_uri": "https://localhost:8080/",
          "height": 166
        },
        "outputId": "b59ec11d-c64a-449f-8b11-05c51d1d70ba"
      },
      "source": [
        "df.groupby('stock').mean()"
      ],
      "execution_count": 98,
      "outputs": [
        {
          "output_type": "execute_result",
          "data": {
            "text/html": [
              "<div>\n",
              "<style scoped>\n",
              "    .dataframe tbody tr th:only-of-type {\n",
              "        vertical-align: middle;\n",
              "    }\n",
              "\n",
              "    .dataframe tbody tr th {\n",
              "        vertical-align: top;\n",
              "    }\n",
              "\n",
              "    .dataframe thead th {\n",
              "        text-align: right;\n",
              "    }\n",
              "</style>\n",
              "<table border=\"1\" class=\"dataframe\">\n",
              "  <thead>\n",
              "    <tr style=\"text-align: right;\">\n",
              "      <th></th>\n",
              "      <th>price</th>\n",
              "    </tr>\n",
              "    <tr>\n",
              "      <th>stock</th>\n",
              "      <th></th>\n",
              "    </tr>\n",
              "  </thead>\n",
              "  <tbody>\n",
              "    <tr>\n",
              "      <th>1</th>\n",
              "      <td>46.6</td>\n",
              "    </tr>\n",
              "    <tr>\n",
              "      <th>2</th>\n",
              "      <td>31.4</td>\n",
              "    </tr>\n",
              "    <tr>\n",
              "      <th>3</th>\n",
              "      <td>47.6</td>\n",
              "    </tr>\n",
              "  </tbody>\n",
              "</table>\n",
              "</div>"
            ],
            "text/plain": [
              "       price\n",
              "stock       \n",
              "1       46.6\n",
              "2       31.4\n",
              "3       47.6"
            ]
          },
          "metadata": {
            "tags": []
          },
          "execution_count": 98
        }
      ]
    },
    {
      "cell_type": "code",
      "metadata": {
        "id": "yLfXdqbnJubN",
        "colab_type": "code",
        "colab": {
          "base_uri": "https://localhost:8080/",
          "height": 70
        },
        "outputId": "2ae232fd-ddd0-4712-beef-f63fd1ad07d9"
      },
      "source": [
        "grouped_df = df.groupby(\"stock\", method=\"cudf\")"
      ],
      "execution_count": 100,
      "outputs": [
        {
          "output_type": "stream",
          "text": [
            "/usr/local/lib/python3.6/site-packages/cudf/core/dataframe.py:2559: UserWarning: as_index==True not supported due to the lack of multi-index with legacy groupby function. Use hash method for multi-index\n",
            "  \"as_index==True not supported due to the lack of \"\n"
          ],
          "name": "stderr"
        }
      ]
    },
    {
      "cell_type": "code",
      "metadata": {
        "id": "0TIu0KS9R5mz",
        "colab_type": "code",
        "colab": {
          "base_uri": "https://localhost:8080/",
          "height": 34
        },
        "outputId": "4fb537e6-609e-4957-e664-0be9783c06b5"
      },
      "source": [
        "grouped_df"
      ],
      "execution_count": 103,
      "outputs": [
        {
          "output_type": "execute_result",
          "data": {
            "text/plain": [
              "<cudf.core.groupby.legacy_groupby.Groupby at 0x7f796bdcb278>"
            ]
          },
          "metadata": {
            "tags": []
          },
          "execution_count": 103
        }
      ]
    },
    {
      "cell_type": "code",
      "metadata": {
        "id": "6j4M08G-R6iF",
        "colab_type": "code",
        "colab": {}
      },
      "source": [
        "def rolling_avg(price, avg):\n",
        "    window_size = 3\n",
        "    for i in range(cuda.threadIdx.x, len(price), cuda.blockDim.x):\n",
        "        if i < window_size - 1:\n",
        "            # If there is not enough data to fill the window,\n",
        "            # take the average to be NaN\n",
        "            avg[i] = np.nan\n",
        "        else:\n",
        "            total = 0\n",
        "            for j in range(i - window_size + 1, i + 1):\n",
        "                total += price[j]\n",
        "            avg[i] = total / window_size"
      ],
      "execution_count": 0,
      "outputs": []
    },
    {
      "cell_type": "markdown",
      "metadata": {
        "id": "s7SVL6EiSrEN",
        "colab_type": "text"
      },
      "source": [
        "With our `rolling_avg` function defined, we can pass it to the `apply_grouped` method for grouped DataFrames and compute the moving average within each group.\n",
        "\n",
        "Currently, the function argument that corresponds to the column you're taking the average of (`price`) must match the name of your column. As a result, we name that argument `price`."
      ]
    },
    {
      "cell_type": "code",
      "metadata": {
        "id": "sZfBlWDPSlaJ",
        "colab_type": "code",
        "colab": {
          "base_uri": "https://localhost:8080/",
          "height": 34
        },
        "outputId": "023591b2-87b4-4789-b501-921e8dfe1b32"
      },
      "source": [
        "start = time.time()\n",
        "# Compute moving avgs on all groups\n",
        "results = grouped_df.apply_grouped(rolling_avg,\n",
        "                                   incols=['price'],\n",
        "                                   outcols=dict(avg=np.float64))\n",
        "\n",
        "end = time.time()\n",
        "print('cuDF time', end-start)"
      ],
      "execution_count": 110,
      "outputs": [
        {
          "output_type": "stream",
          "text": [
            "cuDF time 0.3582139015197754\n"
          ],
          "name": "stdout"
        }
      ]
    },
    {
      "cell_type": "code",
      "metadata": {
        "id": "K1pmnM8qTEHQ",
        "colab_type": "code",
        "colab": {
          "base_uri": "https://localhost:8080/",
          "height": 286
        },
        "outputId": "fb8de860-f559-4e69-c074-77a690fdd8f3"
      },
      "source": [
        "print(results)"
      ],
      "execution_count": 112,
      "outputs": [
        {
          "output_type": "stream",
          "text": [
            "    stock  price        avg\n",
            "0       1     36        NaN\n",
            "1       1     76        NaN\n",
            "2       1     70  60.666667\n",
            "3       1     33  59.666667\n",
            "4       1     18  40.333333\n",
            "5       2     40        NaN\n",
            "6       2     15        NaN\n",
            "7       2     11  22.000000\n",
            "8       2     28  18.000000\n",
            "9       2     63  34.000000\n",
            "10      3     45        NaN\n",
            "11      3     13        NaN\n",
            "12      3     46  34.666667\n",
            "13      3     91  50.000000\n",
            "14      3     43  60.000000\n"
          ],
          "name": "stdout"
        }
      ]
    },
    {
      "cell_type": "markdown",
      "metadata": {
        "id": "gLZDp9N5Texg",
        "colab_type": "text"
      },
      "source": [
        "Notice that the value for `avg` at beginning of each group is null. This makes sense, since we can't have an average value for a sliding window of size `3` until we have at least three values. We used the line `avg[i] = np.nan` in our `rolling_avg` function to geneate this result in the output."
      ]
    },
    {
      "cell_type": "markdown",
      "metadata": {
        "id": "oeZDBJReVAsW",
        "colab_type": "text"
      },
      "source": [
        "#### Simple try"
      ]
    },
    {
      "cell_type": "code",
      "metadata": {
        "id": "z1u3qnSEVxRj",
        "colab_type": "code",
        "colab": {
          "base_uri": "https://localhost:8080/",
          "height": 491
        },
        "outputId": "bd097c89-0681-4b3c-fc36-e19b9e407332"
      },
      "source": [
        "df"
      ],
      "execution_count": 121,
      "outputs": [
        {
          "output_type": "execute_result",
          "data": {
            "text/html": [
              "<div>\n",
              "<style scoped>\n",
              "    .dataframe tbody tr th:only-of-type {\n",
              "        vertical-align: middle;\n",
              "    }\n",
              "\n",
              "    .dataframe tbody tr th {\n",
              "        vertical-align: top;\n",
              "    }\n",
              "\n",
              "    .dataframe thead th {\n",
              "        text-align: right;\n",
              "    }\n",
              "</style>\n",
              "<table border=\"1\" class=\"dataframe\">\n",
              "  <thead>\n",
              "    <tr style=\"text-align: right;\">\n",
              "      <th></th>\n",
              "      <th>stock</th>\n",
              "      <th>price</th>\n",
              "    </tr>\n",
              "  </thead>\n",
              "  <tbody>\n",
              "    <tr>\n",
              "      <th>0</th>\n",
              "      <td>1</td>\n",
              "      <td>36</td>\n",
              "    </tr>\n",
              "    <tr>\n",
              "      <th>1</th>\n",
              "      <td>1</td>\n",
              "      <td>76</td>\n",
              "    </tr>\n",
              "    <tr>\n",
              "      <th>2</th>\n",
              "      <td>1</td>\n",
              "      <td>70</td>\n",
              "    </tr>\n",
              "    <tr>\n",
              "      <th>3</th>\n",
              "      <td>1</td>\n",
              "      <td>33</td>\n",
              "    </tr>\n",
              "    <tr>\n",
              "      <th>4</th>\n",
              "      <td>1</td>\n",
              "      <td>18</td>\n",
              "    </tr>\n",
              "    <tr>\n",
              "      <th>5</th>\n",
              "      <td>2</td>\n",
              "      <td>40</td>\n",
              "    </tr>\n",
              "    <tr>\n",
              "      <th>6</th>\n",
              "      <td>2</td>\n",
              "      <td>15</td>\n",
              "    </tr>\n",
              "    <tr>\n",
              "      <th>7</th>\n",
              "      <td>2</td>\n",
              "      <td>11</td>\n",
              "    </tr>\n",
              "    <tr>\n",
              "      <th>8</th>\n",
              "      <td>2</td>\n",
              "      <td>28</td>\n",
              "    </tr>\n",
              "    <tr>\n",
              "      <th>9</th>\n",
              "      <td>2</td>\n",
              "      <td>63</td>\n",
              "    </tr>\n",
              "    <tr>\n",
              "      <th>10</th>\n",
              "      <td>3</td>\n",
              "      <td>45</td>\n",
              "    </tr>\n",
              "    <tr>\n",
              "      <th>11</th>\n",
              "      <td>3</td>\n",
              "      <td>13</td>\n",
              "    </tr>\n",
              "    <tr>\n",
              "      <th>12</th>\n",
              "      <td>3</td>\n",
              "      <td>46</td>\n",
              "    </tr>\n",
              "    <tr>\n",
              "      <th>13</th>\n",
              "      <td>3</td>\n",
              "      <td>91</td>\n",
              "    </tr>\n",
              "    <tr>\n",
              "      <th>14</th>\n",
              "      <td>3</td>\n",
              "      <td>43</td>\n",
              "    </tr>\n",
              "  </tbody>\n",
              "</table>\n",
              "</div>"
            ],
            "text/plain": [
              "    stock  price\n",
              "0       1     36\n",
              "1       1     76\n",
              "2       1     70\n",
              "3       1     33\n",
              "4       1     18\n",
              "5       2     40\n",
              "6       2     15\n",
              "7       2     11\n",
              "8       2     28\n",
              "9       2     63\n",
              "10      3     45\n",
              "11      3     13\n",
              "12      3     46\n",
              "13      3     91\n",
              "14      3     43"
            ]
          },
          "metadata": {
            "tags": []
          },
          "execution_count": 121
        }
      ]
    },
    {
      "cell_type": "code",
      "metadata": {
        "id": "BdBEeNMXVlW3",
        "colab_type": "code",
        "colab": {}
      },
      "source": [
        "def double_price(price, double_value):\n",
        "    for i, x1 in enumerate(price):\n",
        "        print('thread_id:', cuda.threadIdx.x, \n",
        "              'bid:', cuda.blockIdx.x,\n",
        "              'array size:', price.size, \n",
        "              'block threads:', cuda.blockDim.x)\n",
        "        \n",
        "        double_value[i] = x1 * 2"
      ],
      "execution_count": 0,
      "outputs": []
    },
    {
      "cell_type": "code",
      "metadata": {
        "id": "BsNZHuefWenM",
        "colab_type": "code",
        "colab": {}
      },
      "source": [
        "df_double = df.apply_rows(double_price,\n",
        "                          incols=['price'],\n",
        "                          outcols=dict(double_value=np.int32),\n",
        "                          kwargs=dict())"
      ],
      "execution_count": 0,
      "outputs": []
    },
    {
      "cell_type": "code",
      "metadata": {
        "id": "fU73gSAWW9ky",
        "colab_type": "code",
        "colab": {
          "base_uri": "https://localhost:8080/",
          "height": 136
        },
        "outputId": "50da22bc-8dac-4ebe-a331-94f53ad538bd"
      },
      "source": [
        "df_double[:3]"
      ],
      "execution_count": 157,
      "outputs": [
        {
          "output_type": "execute_result",
          "data": {
            "text/html": [
              "<div>\n",
              "<style scoped>\n",
              "    .dataframe tbody tr th:only-of-type {\n",
              "        vertical-align: middle;\n",
              "    }\n",
              "\n",
              "    .dataframe tbody tr th {\n",
              "        vertical-align: top;\n",
              "    }\n",
              "\n",
              "    .dataframe thead th {\n",
              "        text-align: right;\n",
              "    }\n",
              "</style>\n",
              "<table border=\"1\" class=\"dataframe\">\n",
              "  <thead>\n",
              "    <tr style=\"text-align: right;\">\n",
              "      <th></th>\n",
              "      <th>stock</th>\n",
              "      <th>price</th>\n",
              "      <th>double_value</th>\n",
              "    </tr>\n",
              "  </thead>\n",
              "  <tbody>\n",
              "    <tr>\n",
              "      <th>0</th>\n",
              "      <td>1</td>\n",
              "      <td>36</td>\n",
              "      <td>72</td>\n",
              "    </tr>\n",
              "    <tr>\n",
              "      <th>1</th>\n",
              "      <td>1</td>\n",
              "      <td>76</td>\n",
              "      <td>152</td>\n",
              "    </tr>\n",
              "    <tr>\n",
              "      <th>2</th>\n",
              "      <td>1</td>\n",
              "      <td>70</td>\n",
              "      <td>140</td>\n",
              "    </tr>\n",
              "  </tbody>\n",
              "</table>\n",
              "</div>"
            ],
            "text/plain": [
              "   stock  price  double_value\n",
              "0      1     36            72\n",
              "1      1     76           152\n",
              "2      1     70           140"
            ]
          },
          "metadata": {
            "tags": []
          },
          "execution_count": 157
        }
      ]
    }
  ]
}